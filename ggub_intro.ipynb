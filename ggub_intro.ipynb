{
 "cells": [
  {
   "cell_type": "markdown",
   "metadata": {},
   "source": [
    "# Some GUI code"
   ]
  },
  {
   "cell_type": "code",
   "execution_count": 169,
   "metadata": {},
   "outputs": [],
   "source": [
    "from tkinter.filedialog  import askdirectory, askopenfilename, asksaveasfilename\n",
    "from os import getcwd\n",
    "\n",
    "root = tkinter.Tk()\n",
    "root.withdraw()\n",
    "\n",
    "def ask_open_directory(initialdir=None, title='Select a folder'):\n",
    "    return askdirectory(parent=root, \n",
    "                        initialdir=(initialdir or getcwd()), \n",
    "                        title=title)\n",
    "\n",
    "def ask_open_file (initialdir=None, title='Select a file', filetypes=None):\n",
    "    return askopenfilename(parent=root, \n",
    "                           initialdir=getcwd(), \n",
    "                           title=title, \n",
    "                           filetypes=filetypes)\n",
    "\n",
    "def ask_save_file(initialdir=None, title='Save as', confirmoverwrite=True, defaultextension='.txt'):\n",
    "    return asksaveasfilename(initialdir=None, \n",
    "                             title=title,\n",
    "                             confirmoverwrite=confirmoverwrite, \n",
    "                             defaultextension=defaultextension)\n",
    "\n",
    "def pretty_df(df):\n",
    "    from IPython.display import HTML\n",
    "    display(HTML(df.to_html()))\n",
    "    return"
   ]
  },
  {
   "cell_type": "markdown",
   "metadata": {},
   "source": [
    "# Some file system code"
   ]
  },
  {
   "cell_type": "code",
   "execution_count": 158,
   "metadata": {},
   "outputs": [],
   "source": [
    "from os import walk\n",
    "from os.path import join, splitext, abspath\n",
    "import pandas as pd\n",
    "pd.set_option('display.width', 200)\n",
    "pd.set_option('display.max_colwidth', 200)\n",
    "\n",
    "def get_ext(fn):\n",
    "    ext = splitext(fn)[1]\n",
    "    return ext.lower().strip('.') if format else None\n",
    "\n",
    "def is_raster(fn, test=False):\n",
    "    supported_formats = [\"tif\"]\n",
    "    return get_ext(fn) in supported_formats\n",
    "\n",
    "def is_vector(fn, test=False):\n",
    "    supported_formats = [\"shp\"]\n",
    "    return get_ext(fn) in supported_formats\n",
    "\n",
    "def get_datatype(fn):\n",
    "    x = is_raster(fn)\n",
    "    if x:\n",
    "        return x\n",
    "    x = is_vector(fn)\n",
    "    if x:\n",
    "        return x\n",
    "    return None\n",
    "\n",
    "def get_files_framed(path):\n",
    "    data = [(filename, join(abspath(root), filename)) for root, dirs, files in os.walk(path) for filename in files]\n",
    "    df = pd.DataFrame(data, columns=['filename', 'fullpath'])\n",
    "    return df\n",
    "\n",
    "def get_geodata_framed(df):\n",
    "    df['datatype'] = df['filename'].apply(get_datatype)\n",
    "    return geo_df\n",
    "\n",
    "def list_rasters(df):\n",
    "    dfr = df.copy()\n",
    "    dfr['raster'] = dfr.filename.apply(lambda x: is_raster(x))\n",
    "    dfr = dfr[dfr.raster==True].reset_index(drop=True)\n",
    "    dfr.index += 1\n",
    "    return dfr\n",
    "\n",
    "def list_vectors(df):\n",
    "    supported_formats = [\"tif\"]\n",
    "    dfv = df.copy()\n",
    "    dfv['vector'] = dfv.filename.apply(lambda x: is_vector(x))\n",
    "    dfv = dfv[dfv.vector==True].reset_index(drop=True)\n",
    "    dfv.index += 1\n",
    "    return dfv\n",
    "\n",
    "def list_geodata(path, rasters=False, vectors=False):\n",
    "    files_df = get_files_framed(path)\n",
    "    d = {}\n",
    "    if rasters:\n",
    "        d['rasters'] = list_rasters(files_df)\n",
    "    if rasters:\n",
    "        d['vectors'] = list_vectors(files_df)\n",
    "    return d\n"
   ]
  },
  {
   "cell_type": "markdown",
   "metadata": {},
   "source": [
    "# List spatial data in a folder"
   ]
  },
  {
   "cell_type": "code",
   "execution_count": 188,
   "metadata": {},
   "outputs": [
    {
     "name": "stdout",
     "output_type": "stream",
     "text": [
      "\n",
      "data_home = C:/Users/byed/spatial/spatial_data/grid-garage-sample-data-master\n"
     ]
    },
    {
     "data": {
      "text/html": [
       "<table border=\"1\" class=\"dataframe\">\n",
       "  <thead>\n",
       "    <tr style=\"text-align: right;\">\n",
       "      <th></th>\n",
       "      <th>filename</th>\n",
       "      <th>fullpath</th>\n",
       "      <th>vector</th>\n",
       "    </tr>\n",
       "  </thead>\n",
       "  <tbody>\n",
       "    <tr>\n",
       "      <th>1</th>\n",
       "      <td>HydroLine_All_Watercourses.shp</td>\n",
       "      <td>C:\\Users\\byed\\spatial\\spatial_data\\grid-garage-sample-data-master\\StudyArea_Armidale\\HydroLine_All_Watercourses.shp</td>\n",
       "      <td>True</td>\n",
       "    </tr>\n",
       "    <tr>\n",
       "      <th>2</th>\n",
       "      <td>mcass_studyareatemplate30m_sml.shp</td>\n",
       "      <td>C:\\Users\\byed\\spatial\\spatial_data\\grid-garage-sample-data-master\\StudyArea_Armidale\\mcass_studyareatemplate30m_sml.shp</td>\n",
       "      <td>True</td>\n",
       "    </tr>\n",
       "    <tr>\n",
       "      <th>3</th>\n",
       "      <td>Place_Names.shp</td>\n",
       "      <td>C:\\Users\\byed\\spatial\\spatial_data\\grid-garage-sample-data-master\\StudyArea_Armidale\\Place_Names.shp</td>\n",
       "      <td>True</td>\n",
       "    </tr>\n",
       "    <tr>\n",
       "      <th>4</th>\n",
       "      <td>Statewide_RiverConditionIndex.shp</td>\n",
       "      <td>C:\\Users\\byed\\spatial\\spatial_data\\grid-garage-sample-data-master\\StudyArea_Armidale\\Statewide_RiverConditionIndex.shp</td>\n",
       "      <td>True</td>\n",
       "    </tr>\n",
       "    <tr>\n",
       "      <th>5</th>\n",
       "      <td>VegBorderRiversGwydir_Comp09_VIS3801.shp</td>\n",
       "      <td>C:\\Users\\byed\\spatial\\spatial_data\\grid-garage-sample-data-master\\StudyArea_Armidale\\VegBorderRiversGwydir_Comp09_VIS3801.shp</td>\n",
       "      <td>True</td>\n",
       "    </tr>\n",
       "  </tbody>\n",
       "</table>"
      ],
      "text/plain": [
       "<IPython.core.display.HTML object>"
      ]
     },
     "metadata": {},
     "output_type": "display_data"
    },
    {
     "data": {
      "text/html": [
       "<table border=\"1\" class=\"dataframe\">\n",
       "  <thead>\n",
       "    <tr style=\"text-align: right;\">\n",
       "      <th></th>\n",
       "      <th>filename</th>\n",
       "      <th>fullpath</th>\n",
       "      <th>raster</th>\n",
       "    </tr>\n",
       "  </thead>\n",
       "  <tbody>\n",
       "    <tr>\n",
       "      <th>1</th>\n",
       "      <td>demfill25m.tif</td>\n",
       "      <td>C:\\Users\\byed\\spatial\\spatial_data\\grid-garage-sample-data-master\\StudyArea_Armidale\\demfill25m.tif</td>\n",
       "      <td>True</td>\n",
       "    </tr>\n",
       "    <tr>\n",
       "      <th>2</th>\n",
       "      <td>MCASS_StudyAreaTemplate30m_sml.tif</td>\n",
       "      <td>C:\\Users\\byed\\spatial\\spatial_data\\grid-garage-sample-data-master\\StudyArea_Armidale\\MCASS_StudyAreaTemplate30m_sml.tif</td>\n",
       "      <td>True</td>\n",
       "    </tr>\n",
       "    <tr>\n",
       "      <th>3</th>\n",
       "      <td>netvegkc100m_sml.tif</td>\n",
       "      <td>C:\\Users\\byed\\spatial\\spatial_data\\grid-garage-sample-data-master\\StudyArea_Armidale\\netvegkc100m_sml.tif</td>\n",
       "      <td>True</td>\n",
       "    </tr>\n",
       "    <tr>\n",
       "      <th>4</th>\n",
       "      <td>rain_ann1km.tif</td>\n",
       "      <td>C:\\Users\\byed\\spatial\\spatial_data\\grid-garage-sample-data-master\\StudyArea_Armidale\\rain_ann1km.tif</td>\n",
       "      <td>True</td>\n",
       "    </tr>\n",
       "    <tr>\n",
       "      <th>5</th>\n",
       "      <td>sheep_dse1km.tif</td>\n",
       "      <td>C:\\Users\\byed\\spatial\\spatial_data\\grid-garage-sample-data-master\\StudyArea_Armidale\\sheep_dse1km.tif</td>\n",
       "      <td>True</td>\n",
       "    </tr>\n",
       "    <tr>\n",
       "      <th>6</th>\n",
       "      <td>SPOT5_WoodyExtent_Armidale_sml.TIF</td>\n",
       "      <td>C:\\Users\\byed\\spatial\\spatial_data\\grid-garage-sample-data-master\\StudyArea_Armidale\\SPOT5_WoodyExtent_Armidale_sml.TIF</td>\n",
       "      <td>True</td>\n",
       "    </tr>\n",
       "  </tbody>\n",
       "</table>"
      ],
      "text/plain": [
       "<IPython.core.display.HTML object>"
      ]
     },
     "metadata": {},
     "output_type": "display_data"
    }
   ],
   "source": [
    "data_home = ask_directory(title='Select a data workspace')\n",
    "print(f\"\\ndata_home = {data_home}\")\n",
    "if data_home:\n",
    "    gd = list_geodata(data_home, rasters=True, vectors=True)\n",
    "    pretty_df(gd['vectors'])\n",
    "    pretty_df(gd['rasters'])"
   ]
  },
  {
   "cell_type": "markdown",
   "metadata": {},
   "source": [
    "## Save vectors to a csv table"
   ]
  },
  {
   "cell_type": "code",
   "execution_count": 173,
   "metadata": {},
   "outputs": [],
   "source": [
    "f = ask_save_file(defaultextension='.csv')\n",
    "if f:\n",
    "    gd['vectors'].to_csv(f)\n",
    "    print(f)"
   ]
  },
  {
   "cell_type": "markdown",
   "metadata": {},
   "source": [
    "## Save rasters to a csv table"
   ]
  },
  {
   "cell_type": "code",
   "execution_count": 175,
   "metadata": {},
   "outputs": [
    {
     "name": "stdout",
     "output_type": "stream",
     "text": [
      "C:/Users/byed/spatial/spatial_data/dev/ras.csv\n"
     ]
    }
   ],
   "source": [
    "f = ask_save_file(defaultextension='.csv')\n",
    "if f:\n",
    "    gd['rasters'].to_csv(f)\n",
    "    print(f)"
   ]
  },
  {
   "cell_type": "markdown",
   "metadata": {},
   "source": [
    "# Vectors to Rasters"
   ]
  },
  {
   "cell_type": "markdown",
   "metadata": {},
   "source": [
    "## Select a template raster"
   ]
  },
  {
   "cell_type": "code",
   "execution_count": 176,
   "metadata": {
    "scrolled": true
   },
   "outputs": [
    {
     "name": "stdout",
     "output_type": "stream",
     "text": [
      "C:/Users/byed/spatial/spatial_data/grid-garage-sample-data-master/StudyArea_Armidale/MCASS_StudyAreaTemplate30m_sml.tif\n"
     ]
    }
   ],
   "source": [
    "template = ask_file(title='Please select a raster to use as a project template', filetypes=[('GeoTIFF', '*.tif')])\n",
    "print(template)"
   ]
  },
  {
   "cell_type": "markdown",
   "metadata": {},
   "source": [
    "## Select an output folder"
   ]
  },
  {
   "cell_type": "code",
   "execution_count": 180,
   "metadata": {},
   "outputs": [
    {
     "name": "stdout",
     "output_type": "stream",
     "text": [
      "C:/Users/byed/spatial/spatial_data/dev\n"
     ]
    }
   ],
   "source": [
    "out_folder = ask_open_directory(title='Select a folder for raster outputs')\n",
    "print(out_folder)"
   ]
  },
  {
   "cell_type": "markdown",
   "metadata": {},
   "source": [
    "## Map input and output filenames"
   ]
  },
  {
   "cell_type": "code",
   "execution_count": 201,
   "metadata": {},
   "outputs": [
    {
     "data": {
      "text/html": [
       "<table border=\"1\" class=\"dataframe\">\n",
       "  <thead>\n",
       "    <tr style=\"text-align: right;\">\n",
       "      <th></th>\n",
       "      <th>filename</th>\n",
       "      <th>in_vector</th>\n",
       "      <th>out_raster</th>\n",
       "    </tr>\n",
       "  </thead>\n",
       "  <tbody>\n",
       "    <tr>\n",
       "      <th>1</th>\n",
       "      <td>HydroLine_All_Watercourses.shp</td>\n",
       "      <td>C:\\Users\\byed\\spatial\\spatial_data\\grid-garage-sample-data-master\\StudyArea_Armidale\\HydroLine_All_Watercourses.shp</td>\n",
       "      <td>C:/Users/byed/spatial/spatial_data/dev\\HydroLine_All_Watercourses.shp.tif</td>\n",
       "    </tr>\n",
       "    <tr>\n",
       "      <th>2</th>\n",
       "      <td>mcass_studyareatemplate30m_sml.shp</td>\n",
       "      <td>C:\\Users\\byed\\spatial\\spatial_data\\grid-garage-sample-data-master\\StudyArea_Armidale\\mcass_studyareatemplate30m_sml.shp</td>\n",
       "      <td>C:/Users/byed/spatial/spatial_data/dev\\mcass_studyareatemplate30m_sml.shp.tif</td>\n",
       "    </tr>\n",
       "    <tr>\n",
       "      <th>3</th>\n",
       "      <td>Place_Names.shp</td>\n",
       "      <td>C:\\Users\\byed\\spatial\\spatial_data\\grid-garage-sample-data-master\\StudyArea_Armidale\\Place_Names.shp</td>\n",
       "      <td>C:/Users/byed/spatial/spatial_data/dev\\Place_Names.shp.tif</td>\n",
       "    </tr>\n",
       "    <tr>\n",
       "      <th>4</th>\n",
       "      <td>Statewide_RiverConditionIndex.shp</td>\n",
       "      <td>C:\\Users\\byed\\spatial\\spatial_data\\grid-garage-sample-data-master\\StudyArea_Armidale\\Statewide_RiverConditionIndex.shp</td>\n",
       "      <td>C:/Users/byed/spatial/spatial_data/dev\\Statewide_RiverConditionIndex.shp.tif</td>\n",
       "    </tr>\n",
       "    <tr>\n",
       "      <th>5</th>\n",
       "      <td>VegBorderRiversGwydir_Comp09_VIS3801.shp</td>\n",
       "      <td>C:\\Users\\byed\\spatial\\spatial_data\\grid-garage-sample-data-master\\StudyArea_Armidale\\VegBorderRiversGwydir_Comp09_VIS3801.shp</td>\n",
       "      <td>C:/Users/byed/spatial/spatial_data/dev\\VegBorderRiversGwydir_Comp09_VIS3801.shp.tif</td>\n",
       "    </tr>\n",
       "  </tbody>\n",
       "</table>"
      ],
      "text/plain": [
       "<IPython.core.display.HTML object>"
      ]
     },
     "metadata": {},
     "output_type": "display_data"
    }
   ],
   "source": [
    "v = gd['vectors'].copy()\n",
    "v.drop('vector', axis=1, inplace=True)\n",
    "v.rename(columns={'fullpath': 'in_vector'}, inplace=True)\n",
    "v['out_raster'] = v['filename'].apply(lambda x: join(out_folder, f'{x}.tif'))\n",
    "pretty_df(v)"
   ]
  },
  {
   "cell_type": "markdown",
   "metadata": {},
   "source": [
    "## Rasterise the vector shapes"
   ]
  },
  {
   "cell_type": "code",
   "execution_count": 178,
   "metadata": {
    "scrolled": true
   },
   "outputs": [
    {
     "name": "stdout",
     "output_type": "stream",
     "text": [
      "Collecting package metadata: ...working... failed\n"
     ]
    },
    {
     "name": "stderr",
     "output_type": "stream",
     "text": [
      "\n",
      "CondaHTTPError: HTTP 000 CONNECTION FAILED for url <https://repo.anaconda.com/pkgs/msys2/noarch/repodata.json.bz2>\n",
      "Elapsed: -\n",
      "\n",
      "An HTTP error occurred when trying to retrieve this URL.\n",
      "HTTP errors are often intermittent, and a simple retry will get you on your way.\n",
      "\n",
      "If your current network has https://www.anaconda.com blocked, please file\n",
      "a support request with your network engineering team.\n",
      "\n",
      "ConnectionError(MaxRetryError(\"HTTPSConnectionPool(host='repo.anaconda.com', port=443): Max retries exceeded with url: /pkgs/msys2/noarch/repodata.json.bz2 (Caused by NewConnectionError('<urllib3.connection.VerifiedHTTPSConnection object at 0x00000285DC4C2B00>: Failed to establish a new connection: [Errno 11001] getaddrinfo failed',))\",),)\n",
      "\n",
      "\n"
     ]
    }
   ],
   "source": [
    "import sys\n",
    "!conda install --yes --prefix {sys.prefix} geopandas"
   ]
  },
  {
   "cell_type": "code",
   "execution_count": null,
   "metadata": {},
   "outputs": [],
   "source": [
    "import geopandas as gpd\n",
    "import rasterio\n",
    "from rasterio import features\n",
    "\n"
   ]
  }
 ],
 "metadata": {
  "kernelspec": {
   "display_name": "Python 3",
   "language": "python",
   "name": "python3"
  },
  "language_info": {
   "codemirror_mode": {
    "name": "ipython",
    "version": 3
   },
   "file_extension": ".py",
   "mimetype": "text/x-python",
   "name": "python",
   "nbconvert_exporter": "python",
   "pygments_lexer": "ipython3",
   "version": "3.6.8"
  }
 },
 "nbformat": 4,
 "nbformat_minor": 2
}
