{
 "cells": [
  {
   "cell_type": "markdown",
   "metadata": {},
   "source": [
    "# GGUB code imports"
   ]
  },
  {
   "cell_type": "code",
   "execution_count": null,
   "metadata": {},
   "outputs": [],
   "source": [
    "from ggub.gui import gui\n",
    "from ggub.geotypes import identify\n",
    "from ggub.geotypes import rasterinfo\n",
    "from ggub.utils import table"
   ]
  },
  {
   "cell_type": "markdown",
   "metadata": {},
   "source": [
    "# List spatial data in a folder"
   ]
  },
  {
   "cell_type": "code",
   "execution_count": 2,
   "metadata": {},
   "outputs": [
    {
     "name": "stdout",
     "output_type": "stream",
     "text": [
      "\n",
      "data_home = /home/ggubu\n"
     ]
    }
   ],
   "source": [
    "data_home = gui.ask_directory(title='Select a data workspace')\n",
    "print(f\"\\ndata_home = {data_home}\")\n",
    "if data_home:\n",
    "    gd = identify.list_geodata(data_home, rasters=True, vectors=True)"
   ]
  },
  {
   "cell_type": "code",
   "execution_count": 3,
   "metadata": {},
   "outputs": [
    {
     "data": {
      "text/html": [
       "<div>\n",
       "<style scoped>\n",
       "    .dataframe tbody tr th:only-of-type {\n",
       "        vertical-align: middle;\n",
       "    }\n",
       "\n",
       "    .dataframe tbody tr th {\n",
       "        vertical-align: top;\n",
       "    }\n",
       "\n",
       "    .dataframe thead th {\n",
       "        text-align: right;\n",
       "    }\n",
       "</style>\n",
       "<table border=\"1\" class=\"dataframe\">\n",
       "  <thead>\n",
       "    <tr style=\"text-align: right;\">\n",
       "      <th></th>\n",
       "      <th>filename</th>\n",
       "      <th>fullpath</th>\n",
       "    </tr>\n",
       "    <tr>\n",
       "      <th>vector</th>\n",
       "      <th></th>\n",
       "      <th></th>\n",
       "    </tr>\n",
       "  </thead>\n",
       "  <tbody>\n",
       "    <tr>\n",
       "      <th>1</th>\n",
       "      <td>Statewide_RiverConditionIndex.shp</td>\n",
       "      <td>/home/ggubu/grid-garage-sample-data-GridGarage_SampleData_v1.0.2/StudyArea_Armidale/Statewide_RiverConditionIndex.shp</td>\n",
       "    </tr>\n",
       "    <tr>\n",
       "      <th>2</th>\n",
       "      <td>Place_Names.shp</td>\n",
       "      <td>/home/ggubu/grid-garage-sample-data-GridGarage_SampleData_v1.0.2/StudyArea_Armidale/Place_Names.shp</td>\n",
       "    </tr>\n",
       "    <tr>\n",
       "      <th>3</th>\n",
       "      <td>mcass_studyareatemplate30m_sml.shp</td>\n",
       "      <td>/home/ggubu/grid-garage-sample-data-GridGarage_SampleData_v1.0.2/StudyArea_Armidale/mcass_studyareatemplate30m_sml.shp</td>\n",
       "    </tr>\n",
       "    <tr>\n",
       "      <th>4</th>\n",
       "      <td>HydroLine_All_Watercourses.shp</td>\n",
       "      <td>/home/ggubu/grid-garage-sample-data-GridGarage_SampleData_v1.0.2/StudyArea_Armidale/HydroLine_All_Watercourses.shp</td>\n",
       "    </tr>\n",
       "    <tr>\n",
       "      <th>5</th>\n",
       "      <td>VegBorderRiversGwydir_Comp09_VIS3801.shp</td>\n",
       "      <td>/home/ggubu/grid-garage-sample-data-GridGarage_SampleData_v1.0.2/StudyArea_Armidale/VegBorderRiversGwydir_Comp09_VIS3801.shp</td>\n",
       "    </tr>\n",
       "  </tbody>\n",
       "</table>\n",
       "</div>"
      ],
      "text/plain": [
       "                                        filename  \\\n",
       "vector                                             \n",
       "1       Statewide_RiverConditionIndex.shp          \n",
       "2       Place_Names.shp                            \n",
       "3       mcass_studyareatemplate30m_sml.shp         \n",
       "4       HydroLine_All_Watercourses.shp             \n",
       "5       VegBorderRiversGwydir_Comp09_VIS3801.shp   \n",
       "\n",
       "                                                                                                                            fullpath  \n",
       "vector                                                                                                                                \n",
       "1       /home/ggubu/grid-garage-sample-data-GridGarage_SampleData_v1.0.2/StudyArea_Armidale/Statewide_RiverConditionIndex.shp         \n",
       "2       /home/ggubu/grid-garage-sample-data-GridGarage_SampleData_v1.0.2/StudyArea_Armidale/Place_Names.shp                           \n",
       "3       /home/ggubu/grid-garage-sample-data-GridGarage_SampleData_v1.0.2/StudyArea_Armidale/mcass_studyareatemplate30m_sml.shp        \n",
       "4       /home/ggubu/grid-garage-sample-data-GridGarage_SampleData_v1.0.2/StudyArea_Armidale/HydroLine_All_Watercourses.shp            \n",
       "5       /home/ggubu/grid-garage-sample-data-GridGarage_SampleData_v1.0.2/StudyArea_Armidale/VegBorderRiversGwydir_Comp09_VIS3801.shp  "
      ]
     },
     "execution_count": 3,
     "metadata": {},
     "output_type": "execute_result"
    }
   ],
   "source": [
    "gd['vectors']"
   ]
  },
  {
   "cell_type": "code",
   "execution_count": 4,
   "metadata": {},
   "outputs": [
    {
     "data": {
      "text/html": [
       "<div>\n",
       "<style scoped>\n",
       "    .dataframe tbody tr th:only-of-type {\n",
       "        vertical-align: middle;\n",
       "    }\n",
       "\n",
       "    .dataframe tbody tr th {\n",
       "        vertical-align: top;\n",
       "    }\n",
       "\n",
       "    .dataframe thead th {\n",
       "        text-align: right;\n",
       "    }\n",
       "</style>\n",
       "<table border=\"1\" class=\"dataframe\">\n",
       "  <thead>\n",
       "    <tr style=\"text-align: right;\">\n",
       "      <th></th>\n",
       "      <th>filename</th>\n",
       "      <th>fullpath</th>\n",
       "    </tr>\n",
       "    <tr>\n",
       "      <th>raster</th>\n",
       "      <th></th>\n",
       "      <th></th>\n",
       "    </tr>\n",
       "  </thead>\n",
       "  <tbody>\n",
       "    <tr>\n",
       "      <th>1</th>\n",
       "      <td>SPOT5_WoodyExtent_Armidale_sml.TIF</td>\n",
       "      <td>/home/ggubu/grid-garage-sample-data-GridGarage_SampleData_v1.0.2/StudyArea_Armidale/SPOT5_WoodyExtent_Armidale_sml.TIF</td>\n",
       "    </tr>\n",
       "    <tr>\n",
       "      <th>2</th>\n",
       "      <td>netvegkc100m_sml.tif</td>\n",
       "      <td>/home/ggubu/grid-garage-sample-data-GridGarage_SampleData_v1.0.2/StudyArea_Armidale/netvegkc100m_sml.tif</td>\n",
       "    </tr>\n",
       "    <tr>\n",
       "      <th>3</th>\n",
       "      <td>MCASS_StudyAreaTemplate30m_sml.tif</td>\n",
       "      <td>/home/ggubu/grid-garage-sample-data-GridGarage_SampleData_v1.0.2/StudyArea_Armidale/MCASS_StudyAreaTemplate30m_sml.tif</td>\n",
       "    </tr>\n",
       "    <tr>\n",
       "      <th>4</th>\n",
       "      <td>demfill25m.tif</td>\n",
       "      <td>/home/ggubu/grid-garage-sample-data-GridGarage_SampleData_v1.0.2/StudyArea_Armidale/demfill25m.tif</td>\n",
       "    </tr>\n",
       "    <tr>\n",
       "      <th>5</th>\n",
       "      <td>rain_ann1km.tif</td>\n",
       "      <td>/home/ggubu/grid-garage-sample-data-GridGarage_SampleData_v1.0.2/StudyArea_Armidale/rain_ann1km.tif</td>\n",
       "    </tr>\n",
       "    <tr>\n",
       "      <th>6</th>\n",
       "      <td>sheep_dse1km.tif</td>\n",
       "      <td>/home/ggubu/grid-garage-sample-data-GridGarage_SampleData_v1.0.2/StudyArea_Armidale/sheep_dse1km.tif</td>\n",
       "    </tr>\n",
       "  </tbody>\n",
       "</table>\n",
       "</div>"
      ],
      "text/plain": [
       "                                  filename  \\\n",
       "raster                                       \n",
       "1       SPOT5_WoodyExtent_Armidale_sml.TIF   \n",
       "2       netvegkc100m_sml.tif                 \n",
       "3       MCASS_StudyAreaTemplate30m_sml.tif   \n",
       "4       demfill25m.tif                       \n",
       "5       rain_ann1km.tif                      \n",
       "6       sheep_dse1km.tif                     \n",
       "\n",
       "                                                                                                                      fullpath  \n",
       "raster                                                                                                                          \n",
       "1       /home/ggubu/grid-garage-sample-data-GridGarage_SampleData_v1.0.2/StudyArea_Armidale/SPOT5_WoodyExtent_Armidale_sml.TIF  \n",
       "2       /home/ggubu/grid-garage-sample-data-GridGarage_SampleData_v1.0.2/StudyArea_Armidale/netvegkc100m_sml.tif                \n",
       "3       /home/ggubu/grid-garage-sample-data-GridGarage_SampleData_v1.0.2/StudyArea_Armidale/MCASS_StudyAreaTemplate30m_sml.tif  \n",
       "4       /home/ggubu/grid-garage-sample-data-GridGarage_SampleData_v1.0.2/StudyArea_Armidale/demfill25m.tif                      \n",
       "5       /home/ggubu/grid-garage-sample-data-GridGarage_SampleData_v1.0.2/StudyArea_Armidale/rain_ann1km.tif                     \n",
       "6       /home/ggubu/grid-garage-sample-data-GridGarage_SampleData_v1.0.2/StudyArea_Armidale/sheep_dse1km.tif                    "
      ]
     },
     "execution_count": 4,
     "metadata": {},
     "output_type": "execute_result"
    }
   ],
   "source": [
    "gd['rasters']"
   ]
  },
  {
   "cell_type": "code",
   "execution_count": 5,
   "metadata": {},
   "outputs": [],
   "source": [
    "rasterinfo.add_info(gd['rasters'])"
   ]
  },
  {
   "cell_type": "code",
   "execution_count": 6,
   "metadata": {},
   "outputs": [
    {
     "data": {
      "text/html": [
       "<div>\n",
       "<style scoped>\n",
       "    .dataframe tbody tr th:only-of-type {\n",
       "        vertical-align: middle;\n",
       "    }\n",
       "\n",
       "    .dataframe tbody tr th {\n",
       "        vertical-align: top;\n",
       "    }\n",
       "\n",
       "    .dataframe thead th {\n",
       "        text-align: right;\n",
       "    }\n",
       "</style>\n",
       "<table border=\"1\" class=\"dataframe\">\n",
       "  <thead>\n",
       "    <tr style=\"text-align: right;\">\n",
       "      <th></th>\n",
       "      <th>filename</th>\n",
       "      <th>fullpath</th>\n",
       "      <th>info</th>\n",
       "    </tr>\n",
       "    <tr>\n",
       "      <th>raster</th>\n",
       "      <th></th>\n",
       "      <th></th>\n",
       "      <th></th>\n",
       "    </tr>\n",
       "  </thead>\n",
       "  <tbody>\n",
       "    <tr>\n",
       "      <th>1</th>\n",
       "      <td>SPOT5_WoodyExtent_Armidale_sml.TIF</td>\n",
       "      <td>/home/ggubu/grid-garage-sample-data-GridGarage_SampleData_v1.0.2/StudyArea_Armidale/SPOT5_WoodyExtent_Armidale_sml.TIF</td>\n",
       "      <td>{'Driver': 'GTiff : GeoTIFF', 'Files': ['/home/ggubu/grid-garage-sample-data-GridGarage_SampleData_v1.0.2/StudyArea_Armidale/SPOT5_WoodyExtent_Armidale_sml.TIF', '/home/ggubu/grid-garage-sample-data-GridGarage_SampleData_v1.0.2/StudyArea_Armidale/SPOT5_WoodyExtent_Armidale_sml.TIF.aux.xml'], 'Size X': 7221, 'Size Y': 5841, 'SRS': 'PROJCS[\"GDA_1994_MGA_Zone_56\",\\n    GEOGCS[\"GCS_GDA_1994\",\\n        DATUM[\"GDA_1994\",\\n            SPHEROID[\"GRS_1980\",6378137,298.257222101]],\\n        PRIMEM[\"Greenwich\",0],\\n        UNIT[\"degree\",0.0174532925199433]],\\n    PROJECTION[\"Transverse_Mercator\"],\\n    PARAMETER[\"latitude_of_origin\",0],\\n    PARAMETER[\"central_meridian\",153],\\n    PARAMETER[\"scale_factor\",0.9996],\\n    PARAMETER[\"false_easting\",500000],\\n    PARAMETER[\"false_northing\",10000000],\\n    UNIT[\"metre\",1,\\n        AUTHORITY[\"EPSG\",\"9001\"]]]', 'geotransform': {'Origin': '326975.777791466680355, 6664020.158811644650996', 'Pixel Size': '5.000000000000000, -5.000000000000000'}}</td>\n",
       "    </tr>\n",
       "    <tr>\n",
       "      <th>2</th>\n",
       "      <td>netvegkc100m_sml.tif</td>\n",
       "      <td>/home/ggubu/grid-garage-sample-data-GridGarage_SampleData_v1.0.2/StudyArea_Armidale/netvegkc100m_sml.tif</td>\n",
       "      <td>{'Driver': 'GTiff : GeoTIFF', 'Files': ['/home/ggubu/grid-garage-sample-data-GridGarage_SampleData_v1.0.2/StudyArea_Armidale/netvegkc100m_sml.tif', '/home/ggubu/grid-garage-sample-data-GridGarage_SampleData_v1.0.2/StudyArea_Armidale/netvegkc100m_sml.tif.ovr', '/home/ggubu/grid-garage-sample-data-GridGarage_SampleData_v1.0.2/StudyArea_Armidale/netvegkc100m_sml.tif.aux.xml'], 'Size X': 361, 'Size Y': 292, 'SRS': 'PROJCS[\"GDA_1994_MGA_Zone_56\",\\n    GEOGCS[\"GCS_GDA_1994\",\\n        DATUM[\"GDA_1994\",\\n            SPHEROID[\"GRS_1980\",6378137,298.257222101]],\\n        PRIMEM[\"Greenwich\",0],\\n        UNIT[\"degree\",0.0174532925199433]],\\n    PROJECTION[\"Transverse_Mercator\"],\\n    PARAMETER[\"latitude_of_origin\",0],\\n    PARAMETER[\"central_meridian\",153],\\n    PARAMETER[\"scale_factor\",0.9996],\\n    PARAMETER[\"false_easting\",500000],\\n    PARAMETER[\"false_northing\",10000000],\\n    UNIT[\"metre\",1,\\n        AUTHORITY[\"EPSG\",\"9001\"]]]', 'geotransform': {'Origin': '326979.753168175986502, 6664019.289610970765352', 'Pixel Size': '100.000000000000000, -100.000000000000000'}}</td>\n",
       "    </tr>\n",
       "    <tr>\n",
       "      <th>3</th>\n",
       "      <td>MCASS_StudyAreaTemplate30m_sml.tif</td>\n",
       "      <td>/home/ggubu/grid-garage-sample-data-GridGarage_SampleData_v1.0.2/StudyArea_Armidale/MCASS_StudyAreaTemplate30m_sml.tif</td>\n",
       "      <td>{'Driver': 'GTiff : GeoTIFF', 'Files': ['/home/ggubu/grid-garage-sample-data-GridGarage_SampleData_v1.0.2/StudyArea_Armidale/MCASS_StudyAreaTemplate30m_sml.tif', '/home/ggubu/grid-garage-sample-data-GridGarage_SampleData_v1.0.2/StudyArea_Armidale/MCASS_StudyAreaTemplate30m_sml.tif.aux.xml'], 'Size X': 1000, 'Size Y': 770, 'SRS': 'PROJCS[\"GDA_1994_MGA_Zone_56\",\\n    GEOGCS[\"GCS_GDA_1994\",\\n        DATUM[\"GDA_1994\",\\n            SPHEROID[\"GRS_1980\",6378137,298.257222101]],\\n        PRIMEM[\"Greenwich\",0],\\n        UNIT[\"degree\",0.0174532925199433]],\\n    PROJECTION[\"Transverse_Mercator\"],\\n    PARAMETER[\"latitude_of_origin\",0],\\n    PARAMETER[\"central_meridian\",153],\\n    PARAMETER[\"scale_factor\",0.9996],\\n    PARAMETER[\"false_easting\",500000],\\n    PARAMETER[\"false_northing\",10000000],\\n    UNIT[\"metre\",1,\\n        AUTHORITY[\"EPSG\",\"9001\"]]]', 'geotransform': {'Origin': '330070.000000000000000, 6661000.000000000000000', 'Pixel Size': '30.000000000000000, -30.000000000000000'}}</td>\n",
       "    </tr>\n",
       "    <tr>\n",
       "      <th>4</th>\n",
       "      <td>demfill25m.tif</td>\n",
       "      <td>/home/ggubu/grid-garage-sample-data-GridGarage_SampleData_v1.0.2/StudyArea_Armidale/demfill25m.tif</td>\n",
       "      <td>{'Driver': 'GTiff : GeoTIFF', 'Files': ['/home/ggubu/grid-garage-sample-data-GridGarage_SampleData_v1.0.2/StudyArea_Armidale/demfill25m.tif', '/home/ggubu/grid-garage-sample-data-GridGarage_SampleData_v1.0.2/StudyArea_Armidale/demfill25m.tif.ovr', '/home/ggubu/grid-garage-sample-data-GridGarage_SampleData_v1.0.2/StudyArea_Armidale/demfill25m.tif.aux.xml'], 'Size X': 1445, 'Size Y': 1169, 'SRS': 'PROJCS[\"GDA_1994_MGA_Zone_56\",\\n    GEOGCS[\"GCS_GDA_1994\",\\n        DATUM[\"GDA_1994\",\\n            SPHEROID[\"GRS_1980\",6378137,298.257222101]],\\n        PRIMEM[\"Greenwich\",0],\\n        UNIT[\"degree\",0.0174532925199433]],\\n    PROJECTION[\"Transverse_Mercator\"],\\n    PARAMETER[\"latitude_of_origin\",0],\\n    PARAMETER[\"central_meridian\",153],\\n    PARAMETER[\"scale_factor\",0.9996],\\n    PARAMETER[\"false_easting\",500000],\\n    PARAMETER[\"false_northing\",10000000],\\n    UNIT[\"metre\",1,\\n        AUTHORITY[\"EPSG\",\"9001\"]]]', 'geotransform': {'Origin': '326975.000000000000000, 6664025.000000000000000', 'Pixel Size': '25.000000000000000, -25.000000000000000'}}</td>\n",
       "    </tr>\n",
       "    <tr>\n",
       "      <th>5</th>\n",
       "      <td>rain_ann1km.tif</td>\n",
       "      <td>/home/ggubu/grid-garage-sample-data-GridGarage_SampleData_v1.0.2/StudyArea_Armidale/rain_ann1km.tif</td>\n",
       "      <td>{'Driver': 'GTiff : GeoTIFF', 'Files': ['/home/ggubu/grid-garage-sample-data-GridGarage_SampleData_v1.0.2/StudyArea_Armidale/rain_ann1km.tif', '/home/ggubu/grid-garage-sample-data-GridGarage_SampleData_v1.0.2/StudyArea_Armidale/rain_ann1km.tif.aux.xml'], 'Size X': 205, 'Size Y': 180, 'SRS': 'PROJCS[\"GDA_1994_Australia_Albers\",\\n    GEOGCS[\"GCS_GDA_1994\",\\n        DATUM[\"GDA_1994\",\\n            SPHEROID[\"GRS_1980\",6378137,298.257222101]],\\n        PRIMEM[\"Greenwich\",0],\\n        UNIT[\"degree\",0.0174532925199433]],\\n    PROJECTION[\"Albers_Conic_Equal_Area\"],\\n    PARAMETER[\"standard_parallel_1\",-18],\\n    PARAMETER[\"standard_parallel_2\",-36],\\n    PARAMETER[\"latitude_of_center\",0],\\n    PARAMETER[\"longitude_of_center\",132],\\n    PARAMETER[\"false_easting\",0],\\n    PARAMETER[\"false_northing\",0],\\n    UNIT[\"metre\",1,\\n        AUTHORITY[\"EPSG\",\"9001\"]]]', 'geotransform': {'Origin': '1781566.459496967727318, -3382943.118396332487464', 'Pixel Size': '1000.000000000000000, -1000.000000000000000'}}</td>\n",
       "    </tr>\n",
       "    <tr>\n",
       "      <th>6</th>\n",
       "      <td>sheep_dse1km.tif</td>\n",
       "      <td>/home/ggubu/grid-garage-sample-data-GridGarage_SampleData_v1.0.2/StudyArea_Armidale/sheep_dse1km.tif</td>\n",
       "      <td>{'Driver': 'GTiff : GeoTIFF', 'Files': ['/home/ggubu/grid-garage-sample-data-GridGarage_SampleData_v1.0.2/StudyArea_Armidale/sheep_dse1km.tif', '/home/ggubu/grid-garage-sample-data-GridGarage_SampleData_v1.0.2/StudyArea_Armidale/sheep_dse1km.tif.aux.xml'], 'Size X': 205, 'Size Y': 180, 'SRS': 'PROJCS[\"GDA_1994_Australia_Albers\",\\n    GEOGCS[\"GCS_GDA_1994\",\\n        DATUM[\"GDA_1994\",\\n            SPHEROID[\"GRS_1980\",6378137,298.257222101]],\\n        PRIMEM[\"Greenwich\",0],\\n        UNIT[\"degree\",0.0174532925199433]],\\n    PROJECTION[\"Albers_Conic_Equal_Area\"],\\n    PARAMETER[\"standard_parallel_1\",-18],\\n    PARAMETER[\"standard_parallel_2\",-36],\\n    PARAMETER[\"latitude_of_center\",0],\\n    PARAMETER[\"longitude_of_center\",132],\\n    PARAMETER[\"false_easting\",0],\\n    PARAMETER[\"false_northing\",0],\\n    UNIT[\"metre\",1,\\n        AUTHORITY[\"EPSG\",\"9001\"]]]', 'geotransform': {'Origin': '1781566.459496967727318, -3382943.118396332487464', 'Pixel Size': '1000.000000000000000, -1000.000000000000000'}}</td>\n",
       "    </tr>\n",
       "  </tbody>\n",
       "</table>\n",
       "</div>"
      ],
      "text/plain": [
       "                                  filename  \\\n",
       "raster                                       \n",
       "1       SPOT5_WoodyExtent_Armidale_sml.TIF   \n",
       "2       netvegkc100m_sml.tif                 \n",
       "3       MCASS_StudyAreaTemplate30m_sml.tif   \n",
       "4       demfill25m.tif                       \n",
       "5       rain_ann1km.tif                      \n",
       "6       sheep_dse1km.tif                     \n",
       "\n",
       "                                                                                                                      fullpath  \\\n",
       "raster                                                                                                                           \n",
       "1       /home/ggubu/grid-garage-sample-data-GridGarage_SampleData_v1.0.2/StudyArea_Armidale/SPOT5_WoodyExtent_Armidale_sml.TIF   \n",
       "2       /home/ggubu/grid-garage-sample-data-GridGarage_SampleData_v1.0.2/StudyArea_Armidale/netvegkc100m_sml.tif                 \n",
       "3       /home/ggubu/grid-garage-sample-data-GridGarage_SampleData_v1.0.2/StudyArea_Armidale/MCASS_StudyAreaTemplate30m_sml.tif   \n",
       "4       /home/ggubu/grid-garage-sample-data-GridGarage_SampleData_v1.0.2/StudyArea_Armidale/demfill25m.tif                       \n",
       "5       /home/ggubu/grid-garage-sample-data-GridGarage_SampleData_v1.0.2/StudyArea_Armidale/rain_ann1km.tif                      \n",
       "6       /home/ggubu/grid-garage-sample-data-GridGarage_SampleData_v1.0.2/StudyArea_Armidale/sheep_dse1km.tif                     \n",
       "\n",
       "                                                                                                                                                                                                                                                                                                                                                                                                                                                                                                                                                                                                                                                                                                                                                                                                                                                                                                                                                                                                                                                                                                                      info  \n",
       "raster                                                                                                                                                                                                                                                                                                                                                                                                                                                                                                                                                                                                                                                                                                                                                                                                                                                                                                                                                                                                                                                                                                                      \n",
       "1       {'Driver': 'GTiff : GeoTIFF', 'Files': ['/home/ggubu/grid-garage-sample-data-GridGarage_SampleData_v1.0.2/StudyArea_Armidale/SPOT5_WoodyExtent_Armidale_sml.TIF', '/home/ggubu/grid-garage-sample-data-GridGarage_SampleData_v1.0.2/StudyArea_Armidale/SPOT5_WoodyExtent_Armidale_sml.TIF.aux.xml'], 'Size X': 7221, 'Size Y': 5841, 'SRS': 'PROJCS[\"GDA_1994_MGA_Zone_56\",\\n    GEOGCS[\"GCS_GDA_1994\",\\n        DATUM[\"GDA_1994\",\\n            SPHEROID[\"GRS_1980\",6378137,298.257222101]],\\n        PRIMEM[\"Greenwich\",0],\\n        UNIT[\"degree\",0.0174532925199433]],\\n    PROJECTION[\"Transverse_Mercator\"],\\n    PARAMETER[\"latitude_of_origin\",0],\\n    PARAMETER[\"central_meridian\",153],\\n    PARAMETER[\"scale_factor\",0.9996],\\n    PARAMETER[\"false_easting\",500000],\\n    PARAMETER[\"false_northing\",10000000],\\n    UNIT[\"metre\",1,\\n        AUTHORITY[\"EPSG\",\"9001\"]]]', 'geotransform': {'Origin': '326975.777791466680355, 6664020.158811644650996', 'Pixel Size': '5.000000000000000, -5.000000000000000'}}                                                                                        \n",
       "2       {'Driver': 'GTiff : GeoTIFF', 'Files': ['/home/ggubu/grid-garage-sample-data-GridGarage_SampleData_v1.0.2/StudyArea_Armidale/netvegkc100m_sml.tif', '/home/ggubu/grid-garage-sample-data-GridGarage_SampleData_v1.0.2/StudyArea_Armidale/netvegkc100m_sml.tif.ovr', '/home/ggubu/grid-garage-sample-data-GridGarage_SampleData_v1.0.2/StudyArea_Armidale/netvegkc100m_sml.tif.aux.xml'], 'Size X': 361, 'Size Y': 292, 'SRS': 'PROJCS[\"GDA_1994_MGA_Zone_56\",\\n    GEOGCS[\"GCS_GDA_1994\",\\n        DATUM[\"GDA_1994\",\\n            SPHEROID[\"GRS_1980\",6378137,298.257222101]],\\n        PRIMEM[\"Greenwich\",0],\\n        UNIT[\"degree\",0.0174532925199433]],\\n    PROJECTION[\"Transverse_Mercator\"],\\n    PARAMETER[\"latitude_of_origin\",0],\\n    PARAMETER[\"central_meridian\",153],\\n    PARAMETER[\"scale_factor\",0.9996],\\n    PARAMETER[\"false_easting\",500000],\\n    PARAMETER[\"false_northing\",10000000],\\n    UNIT[\"metre\",1,\\n        AUTHORITY[\"EPSG\",\"9001\"]]]', 'geotransform': {'Origin': '326979.753168175986502, 6664019.289610970765352', 'Pixel Size': '100.000000000000000, -100.000000000000000'}}  \n",
       "3       {'Driver': 'GTiff : GeoTIFF', 'Files': ['/home/ggubu/grid-garage-sample-data-GridGarage_SampleData_v1.0.2/StudyArea_Armidale/MCASS_StudyAreaTemplate30m_sml.tif', '/home/ggubu/grid-garage-sample-data-GridGarage_SampleData_v1.0.2/StudyArea_Armidale/MCASS_StudyAreaTemplate30m_sml.tif.aux.xml'], 'Size X': 1000, 'Size Y': 770, 'SRS': 'PROJCS[\"GDA_1994_MGA_Zone_56\",\\n    GEOGCS[\"GCS_GDA_1994\",\\n        DATUM[\"GDA_1994\",\\n            SPHEROID[\"GRS_1980\",6378137,298.257222101]],\\n        PRIMEM[\"Greenwich\",0],\\n        UNIT[\"degree\",0.0174532925199433]],\\n    PROJECTION[\"Transverse_Mercator\"],\\n    PARAMETER[\"latitude_of_origin\",0],\\n    PARAMETER[\"central_meridian\",153],\\n    PARAMETER[\"scale_factor\",0.9996],\\n    PARAMETER[\"false_easting\",500000],\\n    PARAMETER[\"false_northing\",10000000],\\n    UNIT[\"metre\",1,\\n        AUTHORITY[\"EPSG\",\"9001\"]]]', 'geotransform': {'Origin': '330070.000000000000000, 6661000.000000000000000', 'Pixel Size': '30.000000000000000, -30.000000000000000'}}                                                                                       \n",
       "4       {'Driver': 'GTiff : GeoTIFF', 'Files': ['/home/ggubu/grid-garage-sample-data-GridGarage_SampleData_v1.0.2/StudyArea_Armidale/demfill25m.tif', '/home/ggubu/grid-garage-sample-data-GridGarage_SampleData_v1.0.2/StudyArea_Armidale/demfill25m.tif.ovr', '/home/ggubu/grid-garage-sample-data-GridGarage_SampleData_v1.0.2/StudyArea_Armidale/demfill25m.tif.aux.xml'], 'Size X': 1445, 'Size Y': 1169, 'SRS': 'PROJCS[\"GDA_1994_MGA_Zone_56\",\\n    GEOGCS[\"GCS_GDA_1994\",\\n        DATUM[\"GDA_1994\",\\n            SPHEROID[\"GRS_1980\",6378137,298.257222101]],\\n        PRIMEM[\"Greenwich\",0],\\n        UNIT[\"degree\",0.0174532925199433]],\\n    PROJECTION[\"Transverse_Mercator\"],\\n    PARAMETER[\"latitude_of_origin\",0],\\n    PARAMETER[\"central_meridian\",153],\\n    PARAMETER[\"scale_factor\",0.9996],\\n    PARAMETER[\"false_easting\",500000],\\n    PARAMETER[\"false_northing\",10000000],\\n    UNIT[\"metre\",1,\\n        AUTHORITY[\"EPSG\",\"9001\"]]]', 'geotransform': {'Origin': '326975.000000000000000, 6664025.000000000000000', 'Pixel Size': '25.000000000000000, -25.000000000000000'}}                    \n",
       "5       {'Driver': 'GTiff : GeoTIFF', 'Files': ['/home/ggubu/grid-garage-sample-data-GridGarage_SampleData_v1.0.2/StudyArea_Armidale/rain_ann1km.tif', '/home/ggubu/grid-garage-sample-data-GridGarage_SampleData_v1.0.2/StudyArea_Armidale/rain_ann1km.tif.aux.xml'], 'Size X': 205, 'Size Y': 180, 'SRS': 'PROJCS[\"GDA_1994_Australia_Albers\",\\n    GEOGCS[\"GCS_GDA_1994\",\\n        DATUM[\"GDA_1994\",\\n            SPHEROID[\"GRS_1980\",6378137,298.257222101]],\\n        PRIMEM[\"Greenwich\",0],\\n        UNIT[\"degree\",0.0174532925199433]],\\n    PROJECTION[\"Albers_Conic_Equal_Area\"],\\n    PARAMETER[\"standard_parallel_1\",-18],\\n    PARAMETER[\"standard_parallel_2\",-36],\\n    PARAMETER[\"latitude_of_center\",0],\\n    PARAMETER[\"longitude_of_center\",132],\\n    PARAMETER[\"false_easting\",0],\\n    PARAMETER[\"false_northing\",0],\\n    UNIT[\"metre\",1,\\n        AUTHORITY[\"EPSG\",\"9001\"]]]', 'geotransform': {'Origin': '1781566.459496967727318, -3382943.118396332487464', 'Pixel Size': '1000.000000000000000, -1000.000000000000000'}}                                                                         \n",
       "6       {'Driver': 'GTiff : GeoTIFF', 'Files': ['/home/ggubu/grid-garage-sample-data-GridGarage_SampleData_v1.0.2/StudyArea_Armidale/sheep_dse1km.tif', '/home/ggubu/grid-garage-sample-data-GridGarage_SampleData_v1.0.2/StudyArea_Armidale/sheep_dse1km.tif.aux.xml'], 'Size X': 205, 'Size Y': 180, 'SRS': 'PROJCS[\"GDA_1994_Australia_Albers\",\\n    GEOGCS[\"GCS_GDA_1994\",\\n        DATUM[\"GDA_1994\",\\n            SPHEROID[\"GRS_1980\",6378137,298.257222101]],\\n        PRIMEM[\"Greenwich\",0],\\n        UNIT[\"degree\",0.0174532925199433]],\\n    PROJECTION[\"Albers_Conic_Equal_Area\"],\\n    PARAMETER[\"standard_parallel_1\",-18],\\n    PARAMETER[\"standard_parallel_2\",-36],\\n    PARAMETER[\"latitude_of_center\",0],\\n    PARAMETER[\"longitude_of_center\",132],\\n    PARAMETER[\"false_easting\",0],\\n    PARAMETER[\"false_northing\",0],\\n    UNIT[\"metre\",1,\\n        AUTHORITY[\"EPSG\",\"9001\"]]]', 'geotransform': {'Origin': '1781566.459496967727318, -3382943.118396332487464', 'Pixel Size': '1000.000000000000000, -1000.000000000000000'}}                                                                       "
      ]
     },
     "execution_count": 6,
     "metadata": {},
     "output_type": "execute_result"
    }
   ],
   "source": [
    "gd['rasters']"
   ]
  },
  {
   "cell_type": "code",
   "execution_count": 13,
   "metadata": {},
   "outputs": [
    {
     "ename": "KeyError",
     "evalue": "'column'",
     "output_type": "error",
     "traceback": [
      "\u001b[0;31m---------------------------------------------------------------------------\u001b[0m",
      "\u001b[0;31mKeyError\u001b[0m                                  Traceback (most recent call last)",
      "\u001b[0;32m/opt/conda/lib/python3.7/site-packages/pandas/core/indexes/base.py\u001b[0m in \u001b[0;36mget_loc\u001b[0;34m(self, key, method, tolerance)\u001b[0m\n\u001b[1;32m   2656\u001b[0m             \u001b[0;32mtry\u001b[0m\u001b[0;34m:\u001b[0m\u001b[0;34m\u001b[0m\u001b[0;34m\u001b[0m\u001b[0m\n\u001b[0;32m-> 2657\u001b[0;31m                 \u001b[0;32mreturn\u001b[0m \u001b[0mself\u001b[0m\u001b[0;34m.\u001b[0m\u001b[0m_engine\u001b[0m\u001b[0;34m.\u001b[0m\u001b[0mget_loc\u001b[0m\u001b[0;34m(\u001b[0m\u001b[0mkey\u001b[0m\u001b[0;34m)\u001b[0m\u001b[0;34m\u001b[0m\u001b[0;34m\u001b[0m\u001b[0m\n\u001b[0m\u001b[1;32m   2658\u001b[0m             \u001b[0;32mexcept\u001b[0m \u001b[0mKeyError\u001b[0m\u001b[0;34m:\u001b[0m\u001b[0;34m\u001b[0m\u001b[0;34m\u001b[0m\u001b[0m\n",
      "\u001b[0;32mpandas/_libs/index.pyx\u001b[0m in \u001b[0;36mpandas._libs.index.IndexEngine.get_loc\u001b[0;34m()\u001b[0m\n",
      "\u001b[0;32mpandas/_libs/index.pyx\u001b[0m in \u001b[0;36mpandas._libs.index.IndexEngine.get_loc\u001b[0;34m()\u001b[0m\n",
      "\u001b[0;32mpandas/_libs/hashtable_class_helper.pxi\u001b[0m in \u001b[0;36mpandas._libs.hashtable.PyObjectHashTable.get_item\u001b[0;34m()\u001b[0m\n",
      "\u001b[0;32mpandas/_libs/hashtable_class_helper.pxi\u001b[0m in \u001b[0;36mpandas._libs.hashtable.PyObjectHashTable.get_item\u001b[0;34m()\u001b[0m\n",
      "\u001b[0;31mKeyError\u001b[0m: 'column'",
      "\nDuring handling of the above exception, another exception occurred:\n",
      "\u001b[0;31mKeyError\u001b[0m                                  Traceback (most recent call last)",
      "\u001b[0;32m<ipython-input-13-7a16e4330f36>\u001b[0m in \u001b[0;36m<module>\u001b[0;34m\u001b[0m\n\u001b[0;32m----> 1\u001b[0;31m \u001b[0mdataframe\u001b[0m\u001b[0;34m.\u001b[0m\u001b[0mflatten_column\u001b[0m\u001b[0;34m(\u001b[0m\u001b[0mgd\u001b[0m\u001b[0;34m[\u001b[0m\u001b[0;34m'rasters'\u001b[0m\u001b[0;34m]\u001b[0m\u001b[0;34m,\u001b[0m \u001b[0;34m'info'\u001b[0m\u001b[0;34m)\u001b[0m\u001b[0;34m\u001b[0m\u001b[0;34m\u001b[0m\u001b[0m\n\u001b[0m",
      "\u001b[0;32m~/ggub-14-dev/ggub/utils/dataframe.py\u001b[0m in \u001b[0;36mflatten_column\u001b[0;34m(df, column, new_columns_pfx)\u001b[0m\n\u001b[1;32m      3\u001b[0m \u001b[0;34m\u001b[0m\u001b[0m\n\u001b[1;32m      4\u001b[0m \u001b[0;32mdef\u001b[0m \u001b[0mflatten_column\u001b[0m\u001b[0;34m(\u001b[0m\u001b[0mdf\u001b[0m\u001b[0;34m,\u001b[0m \u001b[0mcolumn\u001b[0m\u001b[0;34m,\u001b[0m \u001b[0mnew_columns_pfx\u001b[0m\u001b[0;34m=\u001b[0m\u001b[0;32mNone\u001b[0m\u001b[0;34m)\u001b[0m\u001b[0;34m:\u001b[0m\u001b[0;34m\u001b[0m\u001b[0;34m\u001b[0m\u001b[0m\n\u001b[0;32m----> 5\u001b[0;31m     \u001b[0mdf\u001b[0m\u001b[0;34m.\u001b[0m\u001b[0mdrop\u001b[0m\u001b[0;34m(\u001b[0m\u001b[0mcolumn\u001b[0m\u001b[0;34m,\u001b[0m \u001b[0;36m1\u001b[0m\u001b[0;34m)\u001b[0m\u001b[0;34m.\u001b[0m\u001b[0massign\u001b[0m\u001b[0;34m(\u001b[0m\u001b[0;34m**\u001b[0m\u001b[0mdf\u001b[0m\u001b[0;34m[\u001b[0m\u001b[0;34m\"column\"\u001b[0m\u001b[0;34m]\u001b[0m\u001b[0;34m.\u001b[0m\u001b[0mdropna\u001b[0m\u001b[0;34m(\u001b[0m\u001b[0;34m)\u001b[0m\u001b[0;34m.\u001b[0m\u001b[0mapply\u001b[0m\u001b[0;34m(\u001b[0m\u001b[0mpd\u001b[0m\u001b[0;34m.\u001b[0m\u001b[0mSeries\u001b[0m\u001b[0;34m)\u001b[0m\u001b[0;34m)\u001b[0m\u001b[0;34m\u001b[0m\u001b[0;34m\u001b[0m\u001b[0m\n\u001b[0m\u001b[1;32m      6\u001b[0m     \u001b[0;32mreturn\u001b[0m\u001b[0;34m\u001b[0m\u001b[0;34m\u001b[0m\u001b[0m\n\u001b[1;32m      7\u001b[0m \u001b[0;34m\u001b[0m\u001b[0m\n",
      "\u001b[0;32m/opt/conda/lib/python3.7/site-packages/pandas/core/frame.py\u001b[0m in \u001b[0;36m__getitem__\u001b[0;34m(self, key)\u001b[0m\n\u001b[1;32m   2925\u001b[0m             \u001b[0;32mif\u001b[0m \u001b[0mself\u001b[0m\u001b[0;34m.\u001b[0m\u001b[0mcolumns\u001b[0m\u001b[0;34m.\u001b[0m\u001b[0mnlevels\u001b[0m \u001b[0;34m>\u001b[0m \u001b[0;36m1\u001b[0m\u001b[0;34m:\u001b[0m\u001b[0;34m\u001b[0m\u001b[0;34m\u001b[0m\u001b[0m\n\u001b[1;32m   2926\u001b[0m                 \u001b[0;32mreturn\u001b[0m \u001b[0mself\u001b[0m\u001b[0;34m.\u001b[0m\u001b[0m_getitem_multilevel\u001b[0m\u001b[0;34m(\u001b[0m\u001b[0mkey\u001b[0m\u001b[0;34m)\u001b[0m\u001b[0;34m\u001b[0m\u001b[0;34m\u001b[0m\u001b[0m\n\u001b[0;32m-> 2927\u001b[0;31m             \u001b[0mindexer\u001b[0m \u001b[0;34m=\u001b[0m \u001b[0mself\u001b[0m\u001b[0;34m.\u001b[0m\u001b[0mcolumns\u001b[0m\u001b[0;34m.\u001b[0m\u001b[0mget_loc\u001b[0m\u001b[0;34m(\u001b[0m\u001b[0mkey\u001b[0m\u001b[0;34m)\u001b[0m\u001b[0;34m\u001b[0m\u001b[0;34m\u001b[0m\u001b[0m\n\u001b[0m\u001b[1;32m   2928\u001b[0m             \u001b[0;32mif\u001b[0m \u001b[0mis_integer\u001b[0m\u001b[0;34m(\u001b[0m\u001b[0mindexer\u001b[0m\u001b[0;34m)\u001b[0m\u001b[0;34m:\u001b[0m\u001b[0;34m\u001b[0m\u001b[0;34m\u001b[0m\u001b[0m\n\u001b[1;32m   2929\u001b[0m                 \u001b[0mindexer\u001b[0m \u001b[0;34m=\u001b[0m \u001b[0;34m[\u001b[0m\u001b[0mindexer\u001b[0m\u001b[0;34m]\u001b[0m\u001b[0;34m\u001b[0m\u001b[0;34m\u001b[0m\u001b[0m\n",
      "\u001b[0;32m/opt/conda/lib/python3.7/site-packages/pandas/core/indexes/base.py\u001b[0m in \u001b[0;36mget_loc\u001b[0;34m(self, key, method, tolerance)\u001b[0m\n\u001b[1;32m   2657\u001b[0m                 \u001b[0;32mreturn\u001b[0m \u001b[0mself\u001b[0m\u001b[0;34m.\u001b[0m\u001b[0m_engine\u001b[0m\u001b[0;34m.\u001b[0m\u001b[0mget_loc\u001b[0m\u001b[0;34m(\u001b[0m\u001b[0mkey\u001b[0m\u001b[0;34m)\u001b[0m\u001b[0;34m\u001b[0m\u001b[0;34m\u001b[0m\u001b[0m\n\u001b[1;32m   2658\u001b[0m             \u001b[0;32mexcept\u001b[0m \u001b[0mKeyError\u001b[0m\u001b[0;34m:\u001b[0m\u001b[0;34m\u001b[0m\u001b[0;34m\u001b[0m\u001b[0m\n\u001b[0;32m-> 2659\u001b[0;31m                 \u001b[0;32mreturn\u001b[0m \u001b[0mself\u001b[0m\u001b[0;34m.\u001b[0m\u001b[0m_engine\u001b[0m\u001b[0;34m.\u001b[0m\u001b[0mget_loc\u001b[0m\u001b[0;34m(\u001b[0m\u001b[0mself\u001b[0m\u001b[0;34m.\u001b[0m\u001b[0m_maybe_cast_indexer\u001b[0m\u001b[0;34m(\u001b[0m\u001b[0mkey\u001b[0m\u001b[0;34m)\u001b[0m\u001b[0;34m)\u001b[0m\u001b[0;34m\u001b[0m\u001b[0;34m\u001b[0m\u001b[0m\n\u001b[0m\u001b[1;32m   2660\u001b[0m         \u001b[0mindexer\u001b[0m \u001b[0;34m=\u001b[0m \u001b[0mself\u001b[0m\u001b[0;34m.\u001b[0m\u001b[0mget_indexer\u001b[0m\u001b[0;34m(\u001b[0m\u001b[0;34m[\u001b[0m\u001b[0mkey\u001b[0m\u001b[0;34m]\u001b[0m\u001b[0;34m,\u001b[0m \u001b[0mmethod\u001b[0m\u001b[0;34m=\u001b[0m\u001b[0mmethod\u001b[0m\u001b[0;34m,\u001b[0m \u001b[0mtolerance\u001b[0m\u001b[0;34m=\u001b[0m\u001b[0mtolerance\u001b[0m\u001b[0;34m)\u001b[0m\u001b[0;34m\u001b[0m\u001b[0;34m\u001b[0m\u001b[0m\n\u001b[1;32m   2661\u001b[0m         \u001b[0;32mif\u001b[0m \u001b[0mindexer\u001b[0m\u001b[0;34m.\u001b[0m\u001b[0mndim\u001b[0m \u001b[0;34m>\u001b[0m \u001b[0;36m1\u001b[0m \u001b[0;32mor\u001b[0m \u001b[0mindexer\u001b[0m\u001b[0;34m.\u001b[0m\u001b[0msize\u001b[0m \u001b[0;34m>\u001b[0m \u001b[0;36m1\u001b[0m\u001b[0;34m:\u001b[0m\u001b[0;34m\u001b[0m\u001b[0;34m\u001b[0m\u001b[0m\n",
      "\u001b[0;32mpandas/_libs/index.pyx\u001b[0m in \u001b[0;36mpandas._libs.index.IndexEngine.get_loc\u001b[0;34m()\u001b[0m\n",
      "\u001b[0;32mpandas/_libs/index.pyx\u001b[0m in \u001b[0;36mpandas._libs.index.IndexEngine.get_loc\u001b[0;34m()\u001b[0m\n",
      "\u001b[0;32mpandas/_libs/hashtable_class_helper.pxi\u001b[0m in \u001b[0;36mpandas._libs.hashtable.PyObjectHashTable.get_item\u001b[0;34m()\u001b[0m\n",
      "\u001b[0;32mpandas/_libs/hashtable_class_helper.pxi\u001b[0m in \u001b[0;36mpandas._libs.hashtable.PyObjectHashTable.get_item\u001b[0;34m()\u001b[0m\n",
      "\u001b[0;31mKeyError\u001b[0m: 'column'"
     ]
    }
   ],
   "source": [
    "dataframe.flatten_column(gd['rasters'], 'info')"
   ]
  },
  {
   "cell_type": "markdown",
   "metadata": {},
   "source": [
    "## Save list of vectors to a csv table"
   ]
  },
  {
   "cell_type": "code",
   "execution_count": 34,
   "metadata": {},
   "outputs": [],
   "source": [
    "vf = gui.ask_save_file(defaultextension='.csv')\n",
    "if vf:\n",
    "    gd['vectors'].to_csv(vf)"
   ]
  },
  {
   "cell_type": "markdown",
   "metadata": {},
   "source": [
    "## Save list of rasters to a csv table"
   ]
  },
  {
   "cell_type": "code",
   "execution_count": 9,
   "metadata": {},
   "outputs": [],
   "source": [
    "dataframe.rename_column(gd['rasters'], \"NEWfilename\", \"filename\")"
   ]
  },
  {
   "cell_type": "code",
   "execution_count": 35,
   "metadata": {},
   "outputs": [],
   "source": [
    "rf = gui.ask_save_file(defaultextension='.csv')\n",
    "if rf:\n",
    "    gd['rasters'].to_csv(rf)"
   ]
  },
  {
   "cell_type": "code",
   "execution_count": 6,
   "metadata": {},
   "outputs": [],
   "source": [
    "gd['rasters'][\"info\"] = gd['rasters'][\"fullpath\"].apply(rasterinfo.get_info)"
   ]
  },
  {
   "cell_type": "code",
   "execution_count": 3,
   "metadata": {},
   "outputs": [
    {
     "data": {
      "text/html": [
       "<div>\n",
       "<style scoped>\n",
       "    .dataframe tbody tr th:only-of-type {\n",
       "        vertical-align: middle;\n",
       "    }\n",
       "\n",
       "    .dataframe tbody tr th {\n",
       "        vertical-align: top;\n",
       "    }\n",
       "\n",
       "    .dataframe thead th {\n",
       "        text-align: right;\n",
       "    }\n",
       "</style>\n",
       "<table border=\"1\" class=\"dataframe\">\n",
       "  <thead>\n",
       "    <tr style=\"text-align: right;\">\n",
       "      <th></th>\n",
       "      <th>filename</th>\n",
       "      <th>fullpath</th>\n",
       "    </tr>\n",
       "    <tr>\n",
       "      <th>raster</th>\n",
       "      <th></th>\n",
       "      <th></th>\n",
       "    </tr>\n",
       "  </thead>\n",
       "  <tbody>\n",
       "    <tr>\n",
       "      <th>1</th>\n",
       "      <td>SPOT5_WoodyExtent_Armidale_sml.TIF</td>\n",
       "      <td>/home/ggubu/grid-garage-sample-data-GridGarage_SampleData_v1.0.2/StudyArea_Armidale/SPOT5_WoodyExtent_Armidale_sml.TIF</td>\n",
       "    </tr>\n",
       "    <tr>\n",
       "      <th>2</th>\n",
       "      <td>netvegkc100m_sml.tif</td>\n",
       "      <td>/home/ggubu/grid-garage-sample-data-GridGarage_SampleData_v1.0.2/StudyArea_Armidale/netvegkc100m_sml.tif</td>\n",
       "    </tr>\n",
       "    <tr>\n",
       "      <th>3</th>\n",
       "      <td>MCASS_StudyAreaTemplate30m_sml.tif</td>\n",
       "      <td>/home/ggubu/grid-garage-sample-data-GridGarage_SampleData_v1.0.2/StudyArea_Armidale/MCASS_StudyAreaTemplate30m_sml.tif</td>\n",
       "    </tr>\n",
       "    <tr>\n",
       "      <th>4</th>\n",
       "      <td>demfill25m.tif</td>\n",
       "      <td>/home/ggubu/grid-garage-sample-data-GridGarage_SampleData_v1.0.2/StudyArea_Armidale/demfill25m.tif</td>\n",
       "    </tr>\n",
       "    <tr>\n",
       "      <th>5</th>\n",
       "      <td>rain_ann1km.tif</td>\n",
       "      <td>/home/ggubu/grid-garage-sample-data-GridGarage_SampleData_v1.0.2/StudyArea_Armidale/rain_ann1km.tif</td>\n",
       "    </tr>\n",
       "    <tr>\n",
       "      <th>6</th>\n",
       "      <td>sheep_dse1km.tif</td>\n",
       "      <td>/home/ggubu/grid-garage-sample-data-GridGarage_SampleData_v1.0.2/StudyArea_Armidale/sheep_dse1km.tif</td>\n",
       "    </tr>\n",
       "  </tbody>\n",
       "</table>\n",
       "</div>"
      ],
      "text/plain": [
       "                                  filename  \\\n",
       "raster                                       \n",
       "1       SPOT5_WoodyExtent_Armidale_sml.TIF   \n",
       "2       netvegkc100m_sml.tif                 \n",
       "3       MCASS_StudyAreaTemplate30m_sml.tif   \n",
       "4       demfill25m.tif                       \n",
       "5       rain_ann1km.tif                      \n",
       "6       sheep_dse1km.tif                     \n",
       "\n",
       "                                                                                                                      fullpath  \n",
       "raster                                                                                                                          \n",
       "1       /home/ggubu/grid-garage-sample-data-GridGarage_SampleData_v1.0.2/StudyArea_Armidale/SPOT5_WoodyExtent_Armidale_sml.TIF  \n",
       "2       /home/ggubu/grid-garage-sample-data-GridGarage_SampleData_v1.0.2/StudyArea_Armidale/netvegkc100m_sml.tif                \n",
       "3       /home/ggubu/grid-garage-sample-data-GridGarage_SampleData_v1.0.2/StudyArea_Armidale/MCASS_StudyAreaTemplate30m_sml.tif  \n",
       "4       /home/ggubu/grid-garage-sample-data-GridGarage_SampleData_v1.0.2/StudyArea_Armidale/demfill25m.tif                      \n",
       "5       /home/ggubu/grid-garage-sample-data-GridGarage_SampleData_v1.0.2/StudyArea_Armidale/rain_ann1km.tif                     \n",
       "6       /home/ggubu/grid-garage-sample-data-GridGarage_SampleData_v1.0.2/StudyArea_Armidale/sheep_dse1km.tif                    "
      ]
     },
     "execution_count": 3,
     "metadata": {},
     "output_type": "execute_result"
    }
   ],
   "source": [
    "gd['rasters']"
   ]
  },
  {
   "cell_type": "code",
   "execution_count": null,
   "metadata": {},
   "outputs": [
    {
     "name": "stdout",
     "output_type": "stream",
     "text": [
      "wrote config file /home/ggubu/.config/pandastable/default.conf\n"
     ]
    }
   ],
   "source": [
    "gui.interact_table(gd['rasters'])"
   ]
  },
  {
   "cell_type": "markdown",
   "metadata": {},
   "source": [
    "# Vectors to Rasters"
   ]
  },
  {
   "cell_type": "markdown",
   "metadata": {},
   "source": [
    "## Select a template raster"
   ]
  },
  {
   "cell_type": "code",
   "execution_count": 9,
   "metadata": {
    "scrolled": true
   },
   "outputs": [
    {
     "name": "stdout",
     "output_type": "stream",
     "text": [
      "/home/ggubu/grid-garage-sample-data-GridGarage_SampleData_v1.0.2/StudyArea_Armidale/MCASS_StudyAreaTemplate30m_sml.tif\n"
     ]
    }
   ],
   "source": [
    "template = gui.ask_open_file(title='Please select a raster to use as a project template', filetypes=[('GeoTIFF', '*.tif')])\n",
    "print(template)"
   ]
  },
  {
   "cell_type": "markdown",
   "metadata": {},
   "source": [
    "## Select an output folder"
   ]
  },
  {
   "cell_type": "code",
   "execution_count": 10,
   "metadata": {},
   "outputs": [
    {
     "name": "stdout",
     "output_type": "stream",
     "text": [
      "/home/ggubu\n"
     ]
    }
   ],
   "source": [
    "out_folder = gui.ask_open_directory(title='Select a folder for raster outputs')\n",
    "print(out_folder)"
   ]
  },
  {
   "cell_type": "markdown",
   "metadata": {},
   "source": [
    "## Map input and output filenames"
   ]
  },
  {
   "cell_type": "code",
   "execution_count": null,
   "metadata": {},
   "outputs": [],
   "source": [
    "table.apply_function"
   ]
  },
  {
   "cell_type": "code",
   "execution_count": 16,
   "metadata": {},
   "outputs": [
    {
     "data": {
      "text/html": [
       "<table border=\"1\" class=\"dataframe\">\n",
       "  <thead>\n",
       "    <tr style=\"text-align: right;\">\n",
       "      <th></th>\n",
       "      <th>filename</th>\n",
       "      <th>in_vector</th>\n",
       "      <th>out_raster</th>\n",
       "    </tr>\n",
       "    <tr>\n",
       "      <th>vector</th>\n",
       "      <th></th>\n",
       "      <th></th>\n",
       "      <th></th>\n",
       "    </tr>\n",
       "  </thead>\n",
       "  <tbody>\n",
       "    <tr>\n",
       "      <th>1</th>\n",
       "      <td>Statewide_RiverConditionIndex.shp</td>\n",
       "      <td>/home/ggubu/grid-garage-sample-data-GridGarage_SampleData_v1.0.2/StudyArea_Armidale/Statewide_RiverConditionIndex.shp</td>\n",
       "      <td>/home/ggubu/Statewide_RiverConditionIndex.shp.tif</td>\n",
       "    </tr>\n",
       "    <tr>\n",
       "      <th>2</th>\n",
       "      <td>Place_Names.shp</td>\n",
       "      <td>/home/ggubu/grid-garage-sample-data-GridGarage_SampleData_v1.0.2/StudyArea_Armidale/Place_Names.shp</td>\n",
       "      <td>/home/ggubu/Place_Names.shp.tif</td>\n",
       "    </tr>\n",
       "    <tr>\n",
       "      <th>3</th>\n",
       "      <td>mcass_studyareatemplate30m_sml.shp</td>\n",
       "      <td>/home/ggubu/grid-garage-sample-data-GridGarage_SampleData_v1.0.2/StudyArea_Armidale/mcass_studyareatemplate30m_sml.shp</td>\n",
       "      <td>/home/ggubu/mcass_studyareatemplate30m_sml.shp.tif</td>\n",
       "    </tr>\n",
       "    <tr>\n",
       "      <th>4</th>\n",
       "      <td>HydroLine_All_Watercourses.shp</td>\n",
       "      <td>/home/ggubu/grid-garage-sample-data-GridGarage_SampleData_v1.0.2/StudyArea_Armidale/HydroLine_All_Watercourses.shp</td>\n",
       "      <td>/home/ggubu/HydroLine_All_Watercourses.shp.tif</td>\n",
       "    </tr>\n",
       "    <tr>\n",
       "      <th>5</th>\n",
       "      <td>VegBorderRiversGwydir_Comp09_VIS3801.shp</td>\n",
       "      <td>/home/ggubu/grid-garage-sample-data-GridGarage_SampleData_v1.0.2/StudyArea_Armidale/VegBorderRiversGwydir_Comp09_VIS3801.shp</td>\n",
       "      <td>/home/ggubu/VegBorderRiversGwydir_Comp09_VIS3801.shp.tif</td>\n",
       "    </tr>\n",
       "  </tbody>\n",
       "</table>"
      ],
      "text/plain": [
       "<IPython.core.display.HTML object>"
      ]
     },
     "metadata": {},
     "output_type": "display_data"
    }
   ],
   "source": [
    "v = gd['vectors'].copy()\n",
    "# v.drop('vector', axis=1, inplace=True)\n",
    "v.rename(columns={'fullpath': 'in_vector'}, inplace=True)\n",
    "v['out_raster'] = v['filename'].apply(lambda x: join(out_folder, f'{x}.tif'))\n",
    "gui.pretty_df(v)"
   ]
  },
  {
   "cell_type": "markdown",
   "metadata": {},
   "source": [
    "## Rasterise the vector shapes"
   ]
  },
  {
   "cell_type": "code",
   "execution_count": null,
   "metadata": {},
   "outputs": [],
   "source": [
    "import geopandas as gpd\n",
    "import rasterio\n",
    "from rasterio import features\n",
    "\n"
   ]
  },
  {
   "cell_type": "code",
   "execution_count": 17,
   "metadata": {},
   "outputs": [],
   "source": [
    "import gdal"
   ]
  }
 ],
 "metadata": {
  "kernelspec": {
   "display_name": "Python 3",
   "language": "python",
   "name": "python3"
  },
  "language_info": {
   "codemirror_mode": {
    "name": "ipython",
    "version": 3
   },
   "file_extension": ".py",
   "mimetype": "text/x-python",
   "name": "python",
   "nbconvert_exporter": "python",
   "pygments_lexer": "ipython3",
   "version": "3.7.3"
  }
 },
 "nbformat": 4,
 "nbformat_minor": 2
}
