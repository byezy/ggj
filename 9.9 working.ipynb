{
 "cells": [
  {
   "cell_type": "markdown",
   "metadata": {},
   "source": [
    "# GGUB code imports"
   ]
  },
  {
   "cell_type": "code",
   "execution_count": null,
   "metadata": {},
   "outputs": [],
   "source": [
    "from ggub.gui import gui\n",
    "from ggub.geotypes import identify\n",
    "from ggub.geotypes import rasterinfo\n",
    "from ggub.utils import table"
   ]
  },
  {
   "cell_type": "markdown",
   "metadata": {},
   "source": [
    "# List spatial data in a folder"
   ]
  },
  {
   "cell_type": "code",
   "execution_count": 2,
   "metadata": {},
   "outputs": [
    {
     "name": "stdout",
     "output_type": "stream",
     "text": [
      "\n",
      "data_home = /home/ggubu\n"
     ]
    }
   ],
   "source": [
    "data_home = gui.ask_directory(title='Select a data workspace')\n",
    "print(f\"\\ndata_home = {data_home}\")\n",
    "if data_home:\n",
    "    gd = identify.list_geodata(data_home, rasters=True, vectors=True)"
   ]
  },
  {
   "cell_type": "code",
   "execution_count": 3,
   "metadata": {},
   "outputs": [
    {
     "data": {
      "text/html": [
       "<div>\n",
       "<style scoped>\n",
       "    .dataframe tbody tr th:only-of-type {\n",
       "        vertical-align: middle;\n",
       "    }\n",
       "\n",
       "    .dataframe tbody tr th {\n",
       "        vertical-align: top;\n",
       "    }\n",
       "\n",
       "    .dataframe thead th {\n",
       "        text-align: right;\n",
       "    }\n",
       "</style>\n",
       "<table border=\"1\" class=\"dataframe\">\n",
       "  <thead>\n",
       "    <tr style=\"text-align: right;\">\n",
       "      <th></th>\n",
       "      <th>filename</th>\n",
       "      <th>fullpath</th>\n",
       "    </tr>\n",
       "    <tr>\n",
       "      <th>vector</th>\n",
       "      <th></th>\n",
       "      <th></th>\n",
       "    </tr>\n",
       "  </thead>\n",
       "  <tbody>\n",
       "    <tr>\n",
       "      <th>1</th>\n",
       "      <td>Statewide_RiverConditionIndex.shp</td>\n",
       "      <td>/home/ggubu/grid-garage-sample-data-GridGarage_SampleData_v1.0.2/StudyArea_Armidale/Statewide_RiverConditionIndex.shp</td>\n",
       "    </tr>\n",
       "    <tr>\n",
       "      <th>2</th>\n",
       "      <td>Place_Names.shp</td>\n",
       "      <td>/home/ggubu/grid-garage-sample-data-GridGarage_SampleData_v1.0.2/StudyArea_Armidale/Place_Names.shp</td>\n",
       "    </tr>\n",
       "    <tr>\n",
       "      <th>3</th>\n",
       "      <td>mcass_studyareatemplate30m_sml.shp</td>\n",
       "      <td>/home/ggubu/grid-garage-sample-data-GridGarage_SampleData_v1.0.2/StudyArea_Armidale/mcass_studyareatemplate30m_sml.shp</td>\n",
       "    </tr>\n",
       "    <tr>\n",
       "      <th>4</th>\n",
       "      <td>HydroLine_All_Watercourses.shp</td>\n",
       "      <td>/home/ggubu/grid-garage-sample-data-GridGarage_SampleData_v1.0.2/StudyArea_Armidale/HydroLine_All_Watercourses.shp</td>\n",
       "    </tr>\n",
       "    <tr>\n",
       "      <th>5</th>\n",
       "      <td>VegBorderRiversGwydir_Comp09_VIS3801.shp</td>\n",
       "      <td>/home/ggubu/grid-garage-sample-data-GridGarage_SampleData_v1.0.2/StudyArea_Armidale/VegBorderRiversGwydir_Comp09_VIS3801.shp</td>\n",
       "    </tr>\n",
       "  </tbody>\n",
       "</table>\n",
       "</div>"
      ],
      "text/plain": [
       "                                        filename  \\\n",
       "vector                                             \n",
       "1       Statewide_RiverConditionIndex.shp          \n",
       "2       Place_Names.shp                            \n",
       "3       mcass_studyareatemplate30m_sml.shp         \n",
       "4       HydroLine_All_Watercourses.shp             \n",
       "5       VegBorderRiversGwydir_Comp09_VIS3801.shp   \n",
       "\n",
       "                                                                                                                            fullpath  \n",
       "vector                                                                                                                                \n",
       "1       /home/ggubu/grid-garage-sample-data-GridGarage_SampleData_v1.0.2/StudyArea_Armidale/Statewide_RiverConditionIndex.shp         \n",
       "2       /home/ggubu/grid-garage-sample-data-GridGarage_SampleData_v1.0.2/StudyArea_Armidale/Place_Names.shp                           \n",
       "3       /home/ggubu/grid-garage-sample-data-GridGarage_SampleData_v1.0.2/StudyArea_Armidale/mcass_studyareatemplate30m_sml.shp        \n",
       "4       /home/ggubu/grid-garage-sample-data-GridGarage_SampleData_v1.0.2/StudyArea_Armidale/HydroLine_All_Watercourses.shp            \n",
       "5       /home/ggubu/grid-garage-sample-data-GridGarage_SampleData_v1.0.2/StudyArea_Armidale/VegBorderRiversGwydir_Comp09_VIS3801.shp  "
      ]
     },
     "execution_count": 3,
     "metadata": {},
     "output_type": "execute_result"
    }
   ],
   "source": [
    "gd['vectors']"
   ]
  },
  {
   "cell_type": "code",
   "execution_count": 4,
   "metadata": {},
   "outputs": [
    {
     "data": {
      "text/html": [
       "<div>\n",
       "<style scoped>\n",
       "    .dataframe tbody tr th:only-of-type {\n",
       "        vertical-align: middle;\n",
       "    }\n",
       "\n",
       "    .dataframe tbody tr th {\n",
       "        vertical-align: top;\n",
       "    }\n",
       "\n",
       "    .dataframe thead th {\n",
       "        text-align: right;\n",
       "    }\n",
       "</style>\n",
       "<table border=\"1\" class=\"dataframe\">\n",
       "  <thead>\n",
       "    <tr style=\"text-align: right;\">\n",
       "      <th></th>\n",
       "      <th>filename</th>\n",
       "      <th>fullpath</th>\n",
       "    </tr>\n",
       "    <tr>\n",
       "      <th>raster</th>\n",
       "      <th></th>\n",
       "      <th></th>\n",
       "    </tr>\n",
       "  </thead>\n",
       "  <tbody>\n",
       "    <tr>\n",
       "      <th>1</th>\n",
       "      <td>SPOT5_WoodyExtent_Armidale_sml.TIF</td>\n",
       "      <td>/home/ggubu/grid-garage-sample-data-GridGarage_SampleData_v1.0.2/StudyArea_Armidale/SPOT5_WoodyExtent_Armidale_sml.TIF</td>\n",
       "    </tr>\n",
       "    <tr>\n",
       "      <th>2</th>\n",
       "      <td>netvegkc100m_sml.tif</td>\n",
       "      <td>/home/ggubu/grid-garage-sample-data-GridGarage_SampleData_v1.0.2/StudyArea_Armidale/netvegkc100m_sml.tif</td>\n",
       "    </tr>\n",
       "    <tr>\n",
       "      <th>3</th>\n",
       "      <td>MCASS_StudyAreaTemplate30m_sml.tif</td>\n",
       "      <td>/home/ggubu/grid-garage-sample-data-GridGarage_SampleData_v1.0.2/StudyArea_Armidale/MCASS_StudyAreaTemplate30m_sml.tif</td>\n",
       "    </tr>\n",
       "    <tr>\n",
       "      <th>4</th>\n",
       "      <td>demfill25m.tif</td>\n",
       "      <td>/home/ggubu/grid-garage-sample-data-GridGarage_SampleData_v1.0.2/StudyArea_Armidale/demfill25m.tif</td>\n",
       "    </tr>\n",
       "    <tr>\n",
       "      <th>5</th>\n",
       "      <td>rain_ann1km.tif</td>\n",
       "      <td>/home/ggubu/grid-garage-sample-data-GridGarage_SampleData_v1.0.2/StudyArea_Armidale/rain_ann1km.tif</td>\n",
       "    </tr>\n",
       "    <tr>\n",
       "      <th>6</th>\n",
       "      <td>sheep_dse1km.tif</td>\n",
       "      <td>/home/ggubu/grid-garage-sample-data-GridGarage_SampleData_v1.0.2/StudyArea_Armidale/sheep_dse1km.tif</td>\n",
       "    </tr>\n",
       "  </tbody>\n",
       "</table>\n",
       "</div>"
      ],
      "text/plain": [
       "                                  filename  \\\n",
       "raster                                       \n",
       "1       SPOT5_WoodyExtent_Armidale_sml.TIF   \n",
       "2       netvegkc100m_sml.tif                 \n",
       "3       MCASS_StudyAreaTemplate30m_sml.tif   \n",
       "4       demfill25m.tif                       \n",
       "5       rain_ann1km.tif                      \n",
       "6       sheep_dse1km.tif                     \n",
       "\n",
       "                                                                                                                      fullpath  \n",
       "raster                                                                                                                          \n",
       "1       /home/ggubu/grid-garage-sample-data-GridGarage_SampleData_v1.0.2/StudyArea_Armidale/SPOT5_WoodyExtent_Armidale_sml.TIF  \n",
       "2       /home/ggubu/grid-garage-sample-data-GridGarage_SampleData_v1.0.2/StudyArea_Armidale/netvegkc100m_sml.tif                \n",
       "3       /home/ggubu/grid-garage-sample-data-GridGarage_SampleData_v1.0.2/StudyArea_Armidale/MCASS_StudyAreaTemplate30m_sml.tif  \n",
       "4       /home/ggubu/grid-garage-sample-data-GridGarage_SampleData_v1.0.2/StudyArea_Armidale/demfill25m.tif                      \n",
       "5       /home/ggubu/grid-garage-sample-data-GridGarage_SampleData_v1.0.2/StudyArea_Armidale/rain_ann1km.tif                     \n",
       "6       /home/ggubu/grid-garage-sample-data-GridGarage_SampleData_v1.0.2/StudyArea_Armidale/sheep_dse1km.tif                    "
      ]
     },
     "execution_count": 4,
     "metadata": {},
     "output_type": "execute_result"
    }
   ],
   "source": [
    "gd['rasters']"
   ]
  },
  {
   "cell_type": "code",
   "execution_count": 5,
   "metadata": {},
   "outputs": [],
   "source": [
    "rasterinfo.add_info(gd['rasters'])"
   ]
  },
  {
   "cell_type": "code",
   "execution_count": 6,
   "metadata": {},
   "outputs": [
    {
     "data": {
      "text/html": [
       "<div>\n",
       "<style scoped>\n",
       "    .dataframe tbody tr th:only-of-type {\n",
       "        vertical-align: middle;\n",
       "    }\n",
       "\n",
       "    .dataframe tbody tr th {\n",
       "        vertical-align: top;\n",
       "    }\n",
       "\n",
       "    .dataframe thead th {\n",
       "        text-align: right;\n",
       "    }\n",
       "</style>\n",
       "<table border=\"1\" class=\"dataframe\">\n",
       "  <thead>\n",
       "    <tr style=\"text-align: right;\">\n",
       "      <th></th>\n",
       "      <th>filename</th>\n",
       "      <th>fullpath</th>\n",
       "      <th>info</th>\n",
       "    </tr>\n",
       "    <tr>\n",
       "      <th>raster</th>\n",
       "      <th></th>\n",
       "      <th></th>\n",
       "      <th></th>\n",
       "    </tr>\n",
       "  </thead>\n",
       "  <tbody>\n",
       "    <tr>\n",
       "      <th>1</th>\n",
       "      <td>SPOT5_WoodyExtent_Armidale_sml.TIF</td>\n",
       "      <td>/home/ggubu/grid-garage-sample-data-GridGarage_SampleData_v1.0.2/StudyArea_Armidale/SPOT5_WoodyExtent_Armidale_sml.TIF</td>\n",
       "      <td>{'Driver': 'GTiff : GeoTIFF', 'Files': ['/home/ggubu/grid-garage-sample-data-GridGarage_SampleData_v1.0.2/StudyArea_Armidale/SPOT5_WoodyExtent_Armidale_sml.TIF', '/home/ggubu/grid-garage-sample-data-GridGarage_SampleData_v1.0.2/StudyArea_Armidale/SPOT5_WoodyExtent_Armidale_sml.TIF.aux.xml'], 'Size X': 7221, 'Size Y': 5841, 'SRS': 'PROJCS[\"GDA_1994_MGA_Zone_56\",\\n    GEOGCS[\"GCS_GDA_1994\",\\n        DATUM[\"GDA_1994\",\\n            SPHEROID[\"GRS_1980\",6378137,298.257222101]],\\n        PRIMEM[\"Greenwich\",0],\\n        UNIT[\"degree\",0.0174532925199433]],\\n    PROJECTION[\"Transverse_Mercator\"],\\n    PARAMETER[\"latitude_of_origin\",0],\\n    PARAMETER[\"central_meridian\",153],\\n    PARAMETER[\"scale_factor\",0.9996],\\n    PARAMETER[\"false_easting\",500000],\\n    PARAMETER[\"false_northing\",10000000],\\n    UNIT[\"metre\",1,\\n        AUTHORITY[\"EPSG\",\"9001\"]]]', 'geotransform': {'Origin': '326975.777791466680355, 6664020.158811644650996', 'Pixel Size': '5.000000000000000, -5.000000000000000'}}</td>\n",
       "    </tr>\n",
       "    <tr>\n",
       "      <th>2</th>\n",
       "      <td>netvegkc100m_sml.tif</td>\n",
       "      <td>/home/ggubu/grid-garage-sample-data-GridGarage_SampleData_v1.0.2/StudyArea_Armidale/netvegkc100m_sml.tif</td>\n",
       "      <td>{'Driver': 'GTiff : GeoTIFF', 'Files': ['/home/ggubu/grid-garage-sample-data-GridGarage_SampleData_v1.0.2/StudyArea_Armidale/netvegkc100m_sml.tif', '/home/ggubu/grid-garage-sample-data-GridGarage_SampleData_v1.0.2/StudyArea_Armidale/netvegkc100m_sml.tif.ovr', '/home/ggubu/grid-garage-sample-data-GridGarage_SampleData_v1.0.2/StudyArea_Armidale/netvegkc100m_sml.tif.aux.xml'], 'Size X': 361, 'Size Y': 292, 'SRS': 'PROJCS[\"GDA_1994_MGA_Zone_56\",\\n    GEOGCS[\"GCS_GDA_1994\",\\n        DATUM[\"GDA_1994\",\\n            SPHEROID[\"GRS_1980\",6378137,298.257222101]],\\n        PRIMEM[\"Greenwich\",0],\\n        UNIT[\"degree\",0.0174532925199433]],\\n    PROJECTION[\"Transverse_Mercator\"],\\n    PARAMETER[\"latitude_of_origin\",0],\\n    PARAMETER[\"central_meridian\",153],\\n    PARAMETER[\"scale_factor\",0.9996],\\n    PARAMETER[\"false_easting\",500000],\\n    PARAMETER[\"false_northing\",10000000],\\n    UNIT[\"metre\",1,\\n        AUTHORITY[\"EPSG\",\"9001\"]]]', 'geotransform': {'Origin': '326979.753168175986502, 6664019.289610970765352', 'Pixel Size': '100.000000000000000, -100.000000000000000'}}</td>\n",
       "    </tr>\n",
       "    <tr>\n",
       "      <th>3</th>\n",
       "      <td>MCASS_StudyAreaTemplate30m_sml.tif</td>\n",
       "      <td>/home/ggubu/grid-garage-sample-data-GridGarage_SampleData_v1.0.2/StudyArea_Armidale/MCASS_StudyAreaTemplate30m_sml.tif</td>\n",
       "      <td>{'Driver': 'GTiff : GeoTIFF', 'Files': ['/home/ggubu/grid-garage-sample-data-GridGarage_SampleData_v1.0.2/StudyArea_Armidale/MCASS_StudyAreaTemplate30m_sml.tif', '/home/ggubu/grid-garage-sample-data-GridGarage_SampleData_v1.0.2/StudyArea_Armidale/MCASS_StudyAreaTemplate30m_sml.tif.aux.xml'], 'Size X': 1000, 'Size Y': 770, 'SRS': 'PROJCS[\"GDA_1994_MGA_Zone_56\",\\n    GEOGCS[\"GCS_GDA_1994\",\\n        DATUM[\"GDA_1994\",\\n            SPHEROID[\"GRS_1980\",6378137,298.257222101]],\\n        PRIMEM[\"Greenwich\",0],\\n        UNIT[\"degree\",0.0174532925199433]],\\n    PROJECTION[\"Transverse_Mercator\"],\\n    PARAMETER[\"latitude_of_origin\",0],\\n    PARAMETER[\"central_meridian\",153],\\n    PARAMETER[\"scale_factor\",0.9996],\\n    PARAMETER[\"false_easting\",500000],\\n    PARAMETER[\"false_northing\",10000000],\\n    UNIT[\"metre\",1,\\n        AUTHORITY[\"EPSG\",\"9001\"]]]', 'geotransform': {'Origin': '330070.000000000000000, 6661000.000000000000000', 'Pixel Size': '30.000000000000000, -30.000000000000000'}}</td>\n",
       "    </tr>\n",
       "    <tr>\n",
       "      <th>4</th>\n",
       "      <td>demfill25m.tif</td>\n",
       "      <td>/home/ggubu/grid-garage-sample-data-GridGarage_SampleData_v1.0.2/StudyArea_Armidale/demfill25m.tif</td>\n",
       "      <td>{'Driver': 'GTiff : GeoTIFF', 'Files': ['/home/ggubu/grid-garage-sample-data-GridGarage_SampleData_v1.0.2/StudyArea_Armidale/demfill25m.tif', '/home/ggubu/grid-garage-sample-data-GridGarage_SampleData_v1.0.2/StudyArea_Armidale/demfill25m.tif.ovr', '/home/ggubu/grid-garage-sample-data-GridGarage_SampleData_v1.0.2/StudyArea_Armidale/demfill25m.tif.aux.xml'], 'Size X': 1445, 'Size Y': 1169, 'SRS': 'PROJCS[\"GDA_1994_MGA_Zone_56\",\\n    GEOGCS[\"GCS_GDA_1994\",\\n        DATUM[\"GDA_1994\",\\n            SPHEROID[\"GRS_1980\",6378137,298.257222101]],\\n        PRIMEM[\"Greenwich\",0],\\n        UNIT[\"degree\",0.0174532925199433]],\\n    PROJECTION[\"Transverse_Mercator\"],\\n    PARAMETER[\"latitude_of_origin\",0],\\n    PARAMETER[\"central_meridian\",153],\\n    PARAMETER[\"scale_factor\",0.9996],\\n    PARAMETER[\"false_easting\",500000],\\n    PARAMETER[\"false_northing\",10000000],\\n    UNIT[\"metre\",1,\\n        AUTHORITY[\"EPSG\",\"9001\"]]]', 'geotransform': {'Origin': '326975.000000000000000, 6664025.000000000000000', 'Pixel Size': '25.000000000000000, -25.000000000000000'}}</td>\n",
       "    </tr>\n",
       "    <tr>\n",
       "      <th>5</th>\n",
       "      <td>rain_ann1km.tif</td>\n",
       "      <td>/home/ggubu/grid-garage-sample-data-GridGarage_SampleData_v1.0.2/StudyArea_Armidale/rain_ann1km.tif</td>\n",
       "      <td>{'Driver': 'GTiff : GeoTIFF', 'Files': ['/home/ggubu/grid-garage-sample-data-GridGarage_SampleData_v1.0.2/StudyArea_Armidale/rain_ann1km.tif', '/home/ggubu/grid-garage-sample-data-GridGarage_SampleData_v1.0.2/StudyArea_Armidale/rain_ann1km.tif.aux.xml'], 'Size X': 205, 'Size Y': 180, 'SRS': 'PROJCS[\"GDA_1994_Australia_Albers\",\\n    GEOGCS[\"GCS_GDA_1994\",\\n        DATUM[\"GDA_1994\",\\n            SPHEROID[\"GRS_1980\",6378137,298.257222101]],\\n        PRIMEM[\"Greenwich\",0],\\n        UNIT[\"degree\",0.0174532925199433]],\\n    PROJECTION[\"Albers_Conic_Equal_Area\"],\\n    PARAMETER[\"standard_parallel_1\",-18],\\n    PARAMETER[\"standard_parallel_2\",-36],\\n    PARAMETER[\"latitude_of_center\",0],\\n    PARAMETER[\"longitude_of_center\",132],\\n    PARAMETER[\"false_easting\",0],\\n    PARAMETER[\"false_northing\",0],\\n    UNIT[\"metre\",1,\\n        AUTHORITY[\"EPSG\",\"9001\"]]]', 'geotransform': {'Origin': '1781566.459496967727318, -3382943.118396332487464', 'Pixel Size': '1000.000000000000000, -1000.000000000000000'}}</td>\n",
       "    </tr>\n",
       "    <tr>\n",
       "      <th>6</th>\n",
       "      <td>sheep_dse1km.tif</td>\n",
       "      <td>/home/ggubu/grid-garage-sample-data-GridGarage_SampleData_v1.0.2/StudyArea_Armidale/sheep_dse1km.tif</td>\n",
       "      <td>{'Driver': 'GTiff : GeoTIFF', 'Files': ['/home/ggubu/grid-garage-sample-data-GridGarage_SampleData_v1.0.2/StudyArea_Armidale/sheep_dse1km.tif', '/home/ggubu/grid-garage-sample-data-GridGarage_SampleData_v1.0.2/StudyArea_Armidale/sheep_dse1km.tif.aux.xml'], 'Size X': 205, 'Size Y': 180, 'SRS': 'PROJCS[\"GDA_1994_Australia_Albers\",\\n    GEOGCS[\"GCS_GDA_1994\",\\n        DATUM[\"GDA_1994\",\\n            SPHEROID[\"GRS_1980\",6378137,298.257222101]],\\n        PRIMEM[\"Greenwich\",0],\\n        UNIT[\"degree\",0.0174532925199433]],\\n    PROJECTION[\"Albers_Conic_Equal_Area\"],\\n    PARAMETER[\"standard_parallel_1\",-18],\\n    PARAMETER[\"standard_parallel_2\",-36],\\n    PARAMETER[\"latitude_of_center\",0],\\n    PARAMETER[\"longitude_of_center\",132],\\n    PARAMETER[\"false_easting\",0],\\n    PARAMETER[\"false_northing\",0],\\n    UNIT[\"metre\",1,\\n        AUTHORITY[\"EPSG\",\"9001\"]]]', 'geotransform': {'Origin': '1781566.459496967727318, -3382943.118396332487464', 'Pixel Size': '1000.000000000000000, -1000.000000000000000'}}</td>\n",
       "    </tr>\n",
       "  </tbody>\n",
       "</table>\n",
       "</div>"
      ],
      "text/plain": [
       "                                  filename  \\\n",
       "raster                                       \n",
       "1       SPOT5_WoodyExtent_Armidale_sml.TIF   \n",
       "2       netvegkc100m_sml.tif                 \n",
       "3       MCASS_StudyAreaTemplate30m_sml.tif   \n",
       "4       demfill25m.tif                       \n",
       "5       rain_ann1km.tif                      \n",
       "6       sheep_dse1km.tif                     \n",
       "\n",
       "                                                                                                                      fullpath  \\\n",
       "raster                                                                                                                           \n",
       "1       /home/ggubu/grid-garage-sample-data-GridGarage_SampleData_v1.0.2/StudyArea_Armidale/SPOT5_WoodyExtent_Armidale_sml.TIF   \n",
       "2       /home/ggubu/grid-garage-sample-data-GridGarage_SampleData_v1.0.2/StudyArea_Armidale/netvegkc100m_sml.tif                 \n",
       "3       /home/ggubu/grid-garage-sample-data-GridGarage_SampleData_v1.0.2/StudyArea_Armidale/MCASS_StudyAreaTemplate30m_sml.tif   \n",
       "4       /home/ggubu/grid-garage-sample-data-GridGarage_SampleData_v1.0.2/StudyArea_Armidale/demfill25m.tif                       \n",
       "5       /home/ggubu/grid-garage-sample-data-GridGarage_SampleData_v1.0.2/StudyArea_Armidale/rain_ann1km.tif                      \n",
       "6       /home/ggubu/grid-garage-sample-data-GridGarage_SampleData_v1.0.2/StudyArea_Armidale/sheep_dse1km.tif                     \n",
       "\n",
       "                                                                                                                                                                                                                                                                                                                                                                                                                                                                                                                                                                                                                                                                                                                                                                                                                                                                                                                                                                                                                                                                                                                      info  \n",
       "raster                                                                                                                                                                                                                                                                                                                                                                                                                                                                                                                                                                                                                                                                                                                                                                                                                                                                                                                                                                                                                                                                                                                      \n",
       "1       {'Driver': 'GTiff : GeoTIFF', 'Files': ['/home/ggubu/grid-garage-sample-data-GridGarage_SampleData_v1.0.2/StudyArea_Armidale/SPOT5_WoodyExtent_Armidale_sml.TIF', '/home/ggubu/grid-garage-sample-data-GridGarage_SampleData_v1.0.2/StudyArea_Armidale/SPOT5_WoodyExtent_Armidale_sml.TIF.aux.xml'], 'Size X': 7221, 'Size Y': 5841, 'SRS': 'PROJCS[\"GDA_1994_MGA_Zone_56\",\\n    GEOGCS[\"GCS_GDA_1994\",\\n        DATUM[\"GDA_1994\",\\n            SPHEROID[\"GRS_1980\",6378137,298.257222101]],\\n        PRIMEM[\"Greenwich\",0],\\n        UNIT[\"degree\",0.0174532925199433]],\\n    PROJECTION[\"Transverse_Mercator\"],\\n    PARAMETER[\"latitude_of_origin\",0],\\n    PARAMETER[\"central_meridian\",153],\\n    PARAMETER[\"scale_factor\",0.9996],\\n    PARAMETER[\"false_easting\",500000],\\n    PARAMETER[\"false_northing\",10000000],\\n    UNIT[\"metre\",1,\\n        AUTHORITY[\"EPSG\",\"9001\"]]]', 'geotransform': {'Origin': '326975.777791466680355, 6664020.158811644650996', 'Pixel Size': '5.000000000000000, -5.000000000000000'}}                                                                                        \n",
       "2       {'Driver': 'GTiff : GeoTIFF', 'Files': ['/home/ggubu/grid-garage-sample-data-GridGarage_SampleData_v1.0.2/StudyArea_Armidale/netvegkc100m_sml.tif', '/home/ggubu/grid-garage-sample-data-GridGarage_SampleData_v1.0.2/StudyArea_Armidale/netvegkc100m_sml.tif.ovr', '/home/ggubu/grid-garage-sample-data-GridGarage_SampleData_v1.0.2/StudyArea_Armidale/netvegkc100m_sml.tif.aux.xml'], 'Size X': 361, 'Size Y': 292, 'SRS': 'PROJCS[\"GDA_1994_MGA_Zone_56\",\\n    GEOGCS[\"GCS_GDA_1994\",\\n        DATUM[\"GDA_1994\",\\n            SPHEROID[\"GRS_1980\",6378137,298.257222101]],\\n        PRIMEM[\"Greenwich\",0],\\n        UNIT[\"degree\",0.0174532925199433]],\\n    PROJECTION[\"Transverse_Mercator\"],\\n    PARAMETER[\"latitude_of_origin\",0],\\n    PARAMETER[\"central_meridian\",153],\\n    PARAMETER[\"scale_factor\",0.9996],\\n    PARAMETER[\"false_easting\",500000],\\n    PARAMETER[\"false_northing\",10000000],\\n    UNIT[\"metre\",1,\\n        AUTHORITY[\"EPSG\",\"9001\"]]]', 'geotransform': {'Origin': '326979.753168175986502, 6664019.289610970765352', 'Pixel Size': '100.000000000000000, -100.000000000000000'}}  \n",
       "3       {'Driver': 'GTiff : GeoTIFF', 'Files': ['/home/ggubu/grid-garage-sample-data-GridGarage_SampleData_v1.0.2/StudyArea_Armidale/MCASS_StudyAreaTemplate30m_sml.tif', '/home/ggubu/grid-garage-sample-data-GridGarage_SampleData_v1.0.2/StudyArea_Armidale/MCASS_StudyAreaTemplate30m_sml.tif.aux.xml'], 'Size X': 1000, 'Size Y': 770, 'SRS': 'PROJCS[\"GDA_1994_MGA_Zone_56\",\\n    GEOGCS[\"GCS_GDA_1994\",\\n        DATUM[\"GDA_1994\",\\n            SPHEROID[\"GRS_1980\",6378137,298.257222101]],\\n        PRIMEM[\"Greenwich\",0],\\n        UNIT[\"degree\",0.0174532925199433]],\\n    PROJECTION[\"Transverse_Mercator\"],\\n    PARAMETER[\"latitude_of_origin\",0],\\n    PARAMETER[\"central_meridian\",153],\\n    PARAMETER[\"scale_factor\",0.9996],\\n    PARAMETER[\"false_easting\",500000],\\n    PARAMETER[\"false_northing\",10000000],\\n    UNIT[\"metre\",1,\\n        AUTHORITY[\"EPSG\",\"9001\"]]]', 'geotransform': {'Origin': '330070.000000000000000, 6661000.000000000000000', 'Pixel Size': '30.000000000000000, -30.000000000000000'}}                                                                                       \n",
       "4       {'Driver': 'GTiff : GeoTIFF', 'Files': ['/home/ggubu/grid-garage-sample-data-GridGarage_SampleData_v1.0.2/StudyArea_Armidale/demfill25m.tif', '/home/ggubu/grid-garage-sample-data-GridGarage_SampleData_v1.0.2/StudyArea_Armidale/demfill25m.tif.ovr', '/home/ggubu/grid-garage-sample-data-GridGarage_SampleData_v1.0.2/StudyArea_Armidale/demfill25m.tif.aux.xml'], 'Size X': 1445, 'Size Y': 1169, 'SRS': 'PROJCS[\"GDA_1994_MGA_Zone_56\",\\n    GEOGCS[\"GCS_GDA_1994\",\\n        DATUM[\"GDA_1994\",\\n            SPHEROID[\"GRS_1980\",6378137,298.257222101]],\\n        PRIMEM[\"Greenwich\",0],\\n        UNIT[\"degree\",0.0174532925199433]],\\n    PROJECTION[\"Transverse_Mercator\"],\\n    PARAMETER[\"latitude_of_origin\",0],\\n    PARAMETER[\"central_meridian\",153],\\n    PARAMETER[\"scale_factor\",0.9996],\\n    PARAMETER[\"false_easting\",500000],\\n    PARAMETER[\"false_northing\",10000000],\\n    UNIT[\"metre\",1,\\n        AUTHORITY[\"EPSG\",\"9001\"]]]', 'geotransform': {'Origin': '326975.000000000000000, 6664025.000000000000000', 'Pixel Size': '25.000000000000000, -25.000000000000000'}}                    \n",
       "5       {'Driver': 'GTiff : GeoTIFF', 'Files': ['/home/ggubu/grid-garage-sample-data-GridGarage_SampleData_v1.0.2/StudyArea_Armidale/rain_ann1km.tif', '/home/ggubu/grid-garage-sample-data-GridGarage_SampleData_v1.0.2/StudyArea_Armidale/rain_ann1km.tif.aux.xml'], 'Size X': 205, 'Size Y': 180, 'SRS': 'PROJCS[\"GDA_1994_Australia_Albers\",\\n    GEOGCS[\"GCS_GDA_1994\",\\n        DATUM[\"GDA_1994\",\\n            SPHEROID[\"GRS_1980\",6378137,298.257222101]],\\n        PRIMEM[\"Greenwich\",0],\\n        UNIT[\"degree\",0.0174532925199433]],\\n    PROJECTION[\"Albers_Conic_Equal_Area\"],\\n    PARAMETER[\"standard_parallel_1\",-18],\\n    PARAMETER[\"standard_parallel_2\",-36],\\n    PARAMETER[\"latitude_of_center\",0],\\n    PARAMETER[\"longitude_of_center\",132],\\n    PARAMETER[\"false_easting\",0],\\n    PARAMETER[\"false_northing\",0],\\n    UNIT[\"metre\",1,\\n        AUTHORITY[\"EPSG\",\"9001\"]]]', 'geotransform': {'Origin': '1781566.459496967727318, -3382943.118396332487464', 'Pixel Size': '1000.000000000000000, -1000.000000000000000'}}                                                                         \n",
       "6       {'Driver': 'GTiff : GeoTIFF', 'Files': ['/home/ggubu/grid-garage-sample-data-GridGarage_SampleData_v1.0.2/StudyArea_Armidale/sheep_dse1km.tif', '/home/ggubu/grid-garage-sample-data-GridGarage_SampleData_v1.0.2/StudyArea_Armidale/sheep_dse1km.tif.aux.xml'], 'Size X': 205, 'Size Y': 180, 'SRS': 'PROJCS[\"GDA_1994_Australia_Albers\",\\n    GEOGCS[\"GCS_GDA_1994\",\\n        DATUM[\"GDA_1994\",\\n            SPHEROID[\"GRS_1980\",6378137,298.257222101]],\\n        PRIMEM[\"Greenwich\",0],\\n        UNIT[\"degree\",0.0174532925199433]],\\n    PROJECTION[\"Albers_Conic_Equal_Area\"],\\n    PARAMETER[\"standard_parallel_1\",-18],\\n    PARAMETER[\"standard_parallel_2\",-36],\\n    PARAMETER[\"latitude_of_center\",0],\\n    PARAMETER[\"longitude_of_center\",132],\\n    PARAMETER[\"false_easting\",0],\\n    PARAMETER[\"false_northing\",0],\\n    UNIT[\"metre\",1,\\n        AUTHORITY[\"EPSG\",\"9001\"]]]', 'geotransform': {'Origin': '1781566.459496967727318, -3382943.118396332487464', 'Pixel Size': '1000.000000000000000, -1000.000000000000000'}}                                                                       "
      ]
     },
     "execution_count": 6,
     "metadata": {},
     "output_type": "execute_result"
    }
   ],
   "source": [
    "gd['rasters']"
   ]
  },
  {
   "cell_type": "code",
   "execution_count": 13,
   "metadata": {},
   "outputs": [
    {
     "ename": "KeyError",
     "evalue": "'column'",
     "output_type": "error",
     "traceback": [
      "\u001b[0;31m---------------------------------------------------------------------------\u001b[0m",
      "\u001b[0;31mKeyError\u001b[0m                                  Traceback (most recent call last)",
      "\u001b[0;32m/opt/conda/lib/python3.7/site-packages/pandas/core/indexes/base.py\u001b[0m in \u001b[0;36mget_loc\u001b[0;34m(self, key, method, tolerance)\u001b[0m\n\u001b[1;32m   2656\u001b[0m             \u001b[0;32mtry\u001b[0m\u001b[0;34m:\u001b[0m\u001b[0;34m\u001b[0m\u001b[0;34m\u001b[0m\u001b[0m\n\u001b[0;32m-> 2657\u001b[0;31m                 \u001b[0;32mreturn\u001b[0m \u001b[0mself\u001b[0m\u001b[0;34m.\u001b[0m\u001b[0m_engine\u001b[0m\u001b[0;34m.\u001b[0m\u001b[0mget_loc\u001b[0m\u001b[0;34m(\u001b[0m\u001b[0mkey\u001b[0m\u001b[0;34m)\u001b[0m\u001b[0;34m\u001b[0m\u001b[0;34m\u001b[0m\u001b[0m\n\u001b[0m\u001b[1;32m   2658\u001b[0m             \u001b[0;32mexcept\u001b[0m \u001b[0mKeyError\u001b[0m\u001b[0;34m:\u001b[0m\u001b[0;34m\u001b[0m\u001b[0;34m\u001b[0m\u001b[0m\n",
      "\u001b[0;32mpandas/_libs/index.pyx\u001b[0m in \u001b[0;36mpandas._libs.index.IndexEngine.get_loc\u001b[0;34m()\u001b[0m\n",
      "\u001b[0;32mpandas/_libs/index.pyx\u001b[0m in \u001b[0;36mpandas._libs.index.IndexEngine.get_loc\u001b[0;34m()\u001b[0m\n",
      "\u001b[0;32mpandas/_libs/hashtable_class_helper.pxi\u001b[0m in \u001b[0;36mpandas._libs.hashtable.PyObjectHashTable.get_item\u001b[0;34m()\u001b[0m\n",
      "\u001b[0;32mpandas/_libs/hashtable_class_helper.pxi\u001b[0m in \u001b[0;36mpandas._libs.hashtable.PyObjectHashTable.get_item\u001b[0;34m()\u001b[0m\n",
      "\u001b[0;31mKeyError\u001b[0m: 'column'",
      "\nDuring handling of the above exception, another exception occurred:\n",
      "\u001b[0;31mKeyError\u001b[0m                                  Traceback (most recent call last)",
      "\u001b[0;32m<ipython-input-13-7a16e4330f36>\u001b[0m in \u001b[0;36m<module>\u001b[0;34m\u001b[0m\n\u001b[0;32m----> 1\u001b[0;31m \u001b[0mdataframe\u001b[0m\u001b[0;34m.\u001b[0m\u001b[0mflatten_column\u001b[0m\u001b[0;34m(\u001b[0m\u001b[0mgd\u001b[0m\u001b[0;34m[\u001b[0m\u001b[0;34m'rasters'\u001b[0m\u001b[0;34m]\u001b[0m\u001b[0;34m,\u001b[0m \u001b[0;34m'info'\u001b[0m\u001b[0;34m)\u001b[0m\u001b[0;34m\u001b[0m\u001b[0;34m\u001b[0m\u001b[0m\n\u001b[0m",
      "\u001b[0;32m~/ggub-14-dev/ggub/utils/dataframe.py\u001b[0m in \u001b[0;36mflatten_column\u001b[0;34m(df, column, new_columns_pfx)\u001b[0m\n\u001b[1;32m      3\u001b[0m \u001b[0;34m\u001b[0m\u001b[0m\n\u001b[1;32m      4\u001b[0m \u001b[0;32mdef\u001b[0m \u001b[0mflatten_column\u001b[0m\u001b[0;34m(\u001b[0m\u001b[0mdf\u001b[0m\u001b[0;34m,\u001b[0m \u001b[0mcolumn\u001b[0m\u001b[0;34m,\u001b[0m \u001b[0mnew_columns_pfx\u001b[0m\u001b[0;34m=\u001b[0m\u001b[0;32mNone\u001b[0m\u001b[0;34m)\u001b[0m\u001b[0;34m:\u001b[0m\u001b[0;34m\u001b[0m\u001b[0;34m\u001b[0m\u001b[0m\n\u001b[0;32m----> 5\u001b[0;31m     \u001b[0mdf\u001b[0m\u001b[0;34m.\u001b[0m\u001b[0mdrop\u001b[0m\u001b[0;34m(\u001b[0m\u001b[0mcolumn\u001b[0m\u001b[0;34m,\u001b[0m \u001b[0;36m1\u001b[0m\u001b[0;34m)\u001b[0m\u001b[0;34m.\u001b[0m\u001b[0massign\u001b[0m\u001b[0;34m(\u001b[0m\u001b[0;34m**\u001b[0m\u001b[0mdf\u001b[0m\u001b[0;34m[\u001b[0m\u001b[0;34m\"column\"\u001b[0m\u001b[0;34m]\u001b[0m\u001b[0;34m.\u001b[0m\u001b[0mdropna\u001b[0m\u001b[0;34m(\u001b[0m\u001b[0;34m)\u001b[0m\u001b[0;34m.\u001b[0m\u001b[0mapply\u001b[0m\u001b[0;34m(\u001b[0m\u001b[0mpd\u001b[0m\u001b[0;34m.\u001b[0m\u001b[0mSeries\u001b[0m\u001b[0;34m)\u001b[0m\u001b[0;34m)\u001b[0m\u001b[0;34m\u001b[0m\u001b[0;34m\u001b[0m\u001b[0m\n\u001b[0m\u001b[1;32m      6\u001b[0m     \u001b[0;32mreturn\u001b[0m\u001b[0;34m\u001b[0m\u001b[0;34m\u001b[0m\u001b[0m\n\u001b[1;32m      7\u001b[0m \u001b[0;34m\u001b[0m\u001b[0m\n",
      "\u001b[0;32m/opt/conda/lib/python3.7/site-packages/pandas/core/frame.py\u001b[0m in \u001b[0;36m__getitem__\u001b[0;34m(self, key)\u001b[0m\n\u001b[1;32m   2925\u001b[0m             \u001b[0;32mif\u001b[0m \u001b[0mself\u001b[0m\u001b[0;34m.\u001b[0m\u001b[0mcolumns\u001b[0m\u001b[0;34m.\u001b[0m\u001b[0mnlevels\u001b[0m \u001b[0;34m>\u001b[0m \u001b[0;36m1\u001b[0m\u001b[0;34m:\u001b[0m\u001b[0;34m\u001b[0m\u001b[0;34m\u001b[0m\u001b[0m\n\u001b[1;32m   2926\u001b[0m                 \u001b[0;32mreturn\u001b[0m \u001b[0mself\u001b[0m\u001b[0;34m.\u001b[0m\u001b[0m_getitem_multilevel\u001b[0m\u001b[0;34m(\u001b[0m\u001b[0mkey\u001b[0m\u001b[0;34m)\u001b[0m\u001b[0;34m\u001b[0m\u001b[0;34m\u001b[0m\u001b[0m\n\u001b[0;32m-> 2927\u001b[0;31m             \u001b[0mindexer\u001b[0m \u001b[0;34m=\u001b[0m \u001b[0mself\u001b[0m\u001b[0;34m.\u001b[0m\u001b[0mcolumns\u001b[0m\u001b[0;34m.\u001b[0m\u001b[0mget_loc\u001b[0m\u001b[0;34m(\u001b[0m\u001b[0mkey\u001b[0m\u001b[0;34m)\u001b[0m\u001b[0;34m\u001b[0m\u001b[0;34m\u001b[0m\u001b[0m\n\u001b[0m\u001b[1;32m   2928\u001b[0m             \u001b[0;32mif\u001b[0m \u001b[0mis_integer\u001b[0m\u001b[0;34m(\u001b[0m\u001b[0mindexer\u001b[0m\u001b[0;34m)\u001b[0m\u001b[0;34m:\u001b[0m\u001b[0;34m\u001b[0m\u001b[0;34m\u001b[0m\u001b[0m\n\u001b[1;32m   2929\u001b[0m                 \u001b[0mindexer\u001b[0m \u001b[0;34m=\u001b[0m \u001b[0;34m[\u001b[0m\u001b[0mindexer\u001b[0m\u001b[0;34m]\u001b[0m\u001b[0;34m\u001b[0m\u001b[0;34m\u001b[0m\u001b[0m\n",
      "\u001b[0;32m/opt/conda/lib/python3.7/site-packages/pandas/core/indexes/base.py\u001b[0m in \u001b[0;36mget_loc\u001b[0;34m(self, key, method, tolerance)\u001b[0m\n\u001b[1;32m   2657\u001b[0m                 \u001b[0;32mreturn\u001b[0m \u001b[0mself\u001b[0m\u001b[0;34m.\u001b[0m\u001b[0m_engine\u001b[0m\u001b[0;34m.\u001b[0m\u001b[0mget_loc\u001b[0m\u001b[0;34m(\u001b[0m\u001b[0mkey\u001b[0m\u001b[0;34m)\u001b[0m\u001b[0;34m\u001b[0m\u001b[0;34m\u001b[0m\u001b[0m\n\u001b[1;32m   2658\u001b[0m             \u001b[0;32mexcept\u001b[0m \u001b[0mKeyError\u001b[0m\u001b[0;34m:\u001b[0m\u001b[0;34m\u001b[0m\u001b[0;34m\u001b[0m\u001b[0m\n\u001b[0;32m-> 2659\u001b[0;31m                 \u001b[0;32mreturn\u001b[0m \u001b[0mself\u001b[0m\u001b[0;34m.\u001b[0m\u001b[0m_engine\u001b[0m\u001b[0;34m.\u001b[0m\u001b[0mget_loc\u001b[0m\u001b[0;34m(\u001b[0m\u001b[0mself\u001b[0m\u001b[0;34m.\u001b[0m\u001b[0m_maybe_cast_indexer\u001b[0m\u001b[0;34m(\u001b[0m\u001b[0mkey\u001b[0m\u001b[0;34m)\u001b[0m\u001b[0;34m)\u001b[0m\u001b[0;34m\u001b[0m\u001b[0;34m\u001b[0m\u001b[0m\n\u001b[0m\u001b[1;32m   2660\u001b[0m         \u001b[0mindexer\u001b[0m \u001b[0;34m=\u001b[0m \u001b[0mself\u001b[0m\u001b[0;34m.\u001b[0m\u001b[0mget_indexer\u001b[0m\u001b[0;34m(\u001b[0m\u001b[0;34m[\u001b[0m\u001b[0mkey\u001b[0m\u001b[0;34m]\u001b[0m\u001b[0;34m,\u001b[0m \u001b[0mmethod\u001b[0m\u001b[0;34m=\u001b[0m\u001b[0mmethod\u001b[0m\u001b[0;34m,\u001b[0m \u001b[0mtolerance\u001b[0m\u001b[0;34m=\u001b[0m\u001b[0mtolerance\u001b[0m\u001b[0;34m)\u001b[0m\u001b[0;34m\u001b[0m\u001b[0;34m\u001b[0m\u001b[0m\n\u001b[1;32m   2661\u001b[0m         \u001b[0;32mif\u001b[0m \u001b[0mindexer\u001b[0m\u001b[0;34m.\u001b[0m\u001b[0mndim\u001b[0m \u001b[0;34m>\u001b[0m \u001b[0;36m1\u001b[0m \u001b[0;32mor\u001b[0m \u001b[0mindexer\u001b[0m\u001b[0;34m.\u001b[0m\u001b[0msize\u001b[0m \u001b[0;34m>\u001b[0m \u001b[0;36m1\u001b[0m\u001b[0;34m:\u001b[0m\u001b[0;34m\u001b[0m\u001b[0;34m\u001b[0m\u001b[0m\n",
      "\u001b[0;32mpandas/_libs/index.pyx\u001b[0m in \u001b[0;36mpandas._libs.index.IndexEngine.get_loc\u001b[0;34m()\u001b[0m\n",
      "\u001b[0;32mpandas/_libs/index.pyx\u001b[0m in \u001b[0;36mpandas._libs.index.IndexEngine.get_loc\u001b[0;34m()\u001b[0m\n",
      "\u001b[0;32mpandas/_libs/hashtable_class_helper.pxi\u001b[0m in \u001b[0;36mpandas._libs.hashtable.PyObjectHashTable.get_item\u001b[0;34m()\u001b[0m\n",
      "\u001b[0;32mpandas/_libs/hashtable_class_helper.pxi\u001b[0m in \u001b[0;36mpandas._libs.hashtable.PyObjectHashTable.get_item\u001b[0;34m()\u001b[0m\n",
      "\u001b[0;31mKeyError\u001b[0m: 'column'"
     ]
    }
   ],
   "source": [
    "dataframe.flatten_column(gd['rasters'], 'info')"
   ]
  },
  {
   "cell_type": "markdown",
   "metadata": {},
   "source": [
    "## Save list of vectors to a csv table"
   ]
  },
  {
   "cell_type": "code",
   "execution_count": 34,
   "metadata": {},
   "outputs": [],
   "source": [
    "vf = gui.ask_save_file(defaultextension='.csv')\n",
    "if vf:\n",
    "    gd['vectors'].to_csv(vf)"
   ]
  },
  {
   "cell_type": "markdown",
   "metadata": {},
   "source": [
    "## Save list of rasters to a csv table"
   ]
  },
  {
   "cell_type": "code",
   "execution_count": 9,
   "metadata": {},
   "outputs": [],
   "source": [
    "dataframe.rename_column(gd['rasters'], \"NEWfilename\", \"filename\")"
   ]
  },
  {
   "cell_type": "code",
   "execution_count": 35,
   "metadata": {},
   "outputs": [],
   "source": [
    "rf = gui.ask_save_file(defaultextension='.csv')\n",
    "if rf:\n",
    "    gd['rasters'].to_csv(rf)"
   ]
  },
  {
   "cell_type": "code",
   "execution_count": 6,
   "metadata": {},
   "outputs": [],
   "source": [
    "gd['rasters'][\"info\"] = gd['rasters'][\"fullpath\"].apply(rasterinfo.get_info)"
   ]
  },
  {
   "cell_type": "code",
   "execution_count": 3,
   "metadata": {},
   "outputs": [
    {
     "data": {
      "text/html": [
       "<div>\n",
       "<style scoped>\n",
       "    .dataframe tbody tr th:only-of-type {\n",
       "        vertical-align: middle;\n",
       "    }\n",
       "\n",
       "    .dataframe tbody tr th {\n",
       "        vertical-align: top;\n",
       "    }\n",
       "\n",
       "    .dataframe thead th {\n",
       "        text-align: right;\n",
       "    }\n",
       "</style>\n",
       "<table border=\"1\" class=\"dataframe\">\n",
       "  <thead>\n",
       "    <tr style=\"text-align: right;\">\n",
       "      <th></th>\n",
       "      <th>filename</th>\n",
       "      <th>fullpath</th>\n",
       "    </tr>\n",
       "    <tr>\n",
       "      <th>raster</th>\n",
       "      <th></th>\n",
       "      <th></th>\n",
       "    </tr>\n",
       "  </thead>\n",
       "  <tbody>\n",
       "    <tr>\n",
       "      <th>1</th>\n",
       "      <td>SPOT5_WoodyExtent_Armidale_sml.TIF</td>\n",
       "      <td>/home/ggubu/grid-garage-sample-data-GridGarage_SampleData_v1.0.2/StudyArea_Armidale/SPOT5_WoodyExtent_Armidale_sml.TIF</td>\n",
       "    </tr>\n",
       "    <tr>\n",
       "      <th>2</th>\n",
       "      <td>netvegkc100m_sml.tif</td>\n",
       "      <td>/home/ggubu/grid-garage-sample-data-GridGarage_SampleData_v1.0.2/StudyArea_Armidale/netvegkc100m_sml.tif</td>\n",
       "    </tr>\n",
       "    <tr>\n",
       "      <th>3</th>\n",
       "      <td>MCASS_StudyAreaTemplate30m_sml.tif</td>\n",
       "      <td>/home/ggubu/grid-garage-sample-data-GridGarage_SampleData_v1.0.2/StudyArea_Armidale/MCASS_StudyAreaTemplate30m_sml.tif</td>\n",
       "    </tr>\n",
       "    <tr>\n",
       "      <th>4</th>\n",
       "      <td>demfill25m.tif</td>\n",
       "      <td>/home/ggubu/grid-garage-sample-data-GridGarage_SampleData_v1.0.2/StudyArea_Armidale/demfill25m.tif</td>\n",
       "    </tr>\n",
       "    <tr>\n",
       "      <th>5</th>\n",
       "      <td>rain_ann1km.tif</td>\n",
       "      <td>/home/ggubu/grid-garage-sample-data-GridGarage_SampleData_v1.0.2/StudyArea_Armidale/rain_ann1km.tif</td>\n",
       "    </tr>\n",
       "    <tr>\n",
       "      <th>6</th>\n",
       "      <td>sheep_dse1km.tif</td>\n",
       "      <td>/home/ggubu/grid-garage-sample-data-GridGarage_SampleData_v1.0.2/StudyArea_Armidale/sheep_dse1km.tif</td>\n",
       "    </tr>\n",
       "  </tbody>\n",
       "</table>\n",
       "</div>"
      ],
      "text/plain": [
       "                                  filename  \\\n",
       "raster                                       \n",
       "1       SPOT5_WoodyExtent_Armidale_sml.TIF   \n",
       "2       netvegkc100m_sml.tif                 \n",
       "3       MCASS_StudyAreaTemplate30m_sml.tif   \n",
       "4       demfill25m.tif                       \n",
       "5       rain_ann1km.tif                      \n",
       "6       sheep_dse1km.tif                     \n",
       "\n",
       "                                                                                                                      fullpath  \n",
       "raster                                                                                                                          \n",
       "1       /home/ggubu/grid-garage-sample-data-GridGarage_SampleData_v1.0.2/StudyArea_Armidale/SPOT5_WoodyExtent_Armidale_sml.TIF  \n",
       "2       /home/ggubu/grid-garage-sample-data-GridGarage_SampleData_v1.0.2/StudyArea_Armidale/netvegkc100m_sml.tif                \n",
       "3       /home/ggubu/grid-garage-sample-data-GridGarage_SampleData_v1.0.2/StudyArea_Armidale/MCASS_StudyAreaTemplate30m_sml.tif  \n",
       "4       /home/ggubu/grid-garage-sample-data-GridGarage_SampleData_v1.0.2/StudyArea_Armidale/demfill25m.tif                      \n",
       "5       /home/ggubu/grid-garage-sample-data-GridGarage_SampleData_v1.0.2/StudyArea_Armidale/rain_ann1km.tif                     \n",
       "6       /home/ggubu/grid-garage-sample-data-GridGarage_SampleData_v1.0.2/StudyArea_Armidale/sheep_dse1km.tif                    "
      ]
     },
     "execution_count": 3,
     "metadata": {},
     "output_type": "execute_result"
    }
   ],
   "source": [
    "gd['rasters']"
   ]
  },
  {
   "cell_type": "code",
   "execution_count": null,
   "metadata": {},
   "outputs": [
    {
     "name": "stdout",
     "output_type": "stream",
     "text": [
      "wrote config file /home/ggubu/.config/pandastable/default.conf\n"
     ]
    }
   ],
   "source": [
    "gui.interact_table(gd['rasters'])"
   ]
  },
  {
   "cell_type": "markdown",
   "metadata": {},
   "source": [
    "# Vectors to Rasters"
   ]
  },
  {
   "cell_type": "markdown",
   "metadata": {},
   "source": [
    "## Select a template raster"
   ]
  },
  {
   "cell_type": "code",
   "execution_count": 9,
   "metadata": {
    "scrolled": true
   },
   "outputs": [
    {
     "name": "stdout",
     "output_type": "stream",
     "text": [
      "/home/ggubu/grid-garage-sample-data-GridGarage_SampleData_v1.0.2/StudyArea_Armidale/MCASS_StudyAreaTemplate30m_sml.tif\n"
     ]
    }
   ],
   "source": [
    "template = gui.ask_open_file(title='Please select a raster to use as a project template', filetypes=[('GeoTIFF', '*.tif')])\n",
    "print(template)"
   ]
  },
  {
   "cell_type": "markdown",
   "metadata": {},
   "source": [
    "## Select an output folder"
   ]
  },
  {
   "cell_type": "code",
   "execution_count": 10,
   "metadata": {},
   "outputs": [
    {
     "name": "stdout",
     "output_type": "stream",
     "text": [
      "/home/ggubu\n"
     ]
    }
   ],
   "source": [
    "out_folder = gui.ask_open_directory(title='Select a folder for raster outputs')\n",
    "print(out_folder)"
   ]
  },
  {
   "cell_type": "markdown",
   "metadata": {},
   "source": [
    "## Map input and output filenames"
   ]
  },
  {
   "cell_type": "code",
   "execution_count": null,
   "metadata": {},
   "outputs": [],
   "source": [
    "table.apply_function"
   ]
  },
  {
   "cell_type": "code",
   "execution_count": 16,
   "metadata": {},
   "outputs": [
    {
     "data": {
      "text/html": [
       "<table border=\"1\" class=\"dataframe\">\n",
       "  <thead>\n",
       "    <tr style=\"text-align: right;\">\n",
       "      <th></th>\n",
       "      <th>filename</th>\n",
       "      <th>in_vector</th>\n",
       "      <th>out_raster</th>\n",
       "    </tr>\n",
       "    <tr>\n",
       "      <th>vector</th>\n",
       "      <th></th>\n",
       "      <th></th>\n",
       "      <th></th>\n",
       "    </tr>\n",
       "  </thead>\n",
       "  <tbody>\n",
       "    <tr>\n",
       "      <th>1</th>\n",
       "      <td>Statewide_RiverConditionIndex.shp</td>\n",
       "      <td>/home/ggubu/grid-garage-sample-data-GridGarage_SampleData_v1.0.2/StudyArea_Armidale/Statewide_RiverConditionIndex.shp</td>\n",
       "      <td>/home/ggubu/Statewide_RiverConditionIndex.shp.tif</td>\n",
       "    </tr>\n",
       "    <tr>\n",
       "      <th>2</th>\n",
       "      <td>Place_Names.shp</td>\n",
       "      <td>/home/ggubu/grid-garage-sample-data-GridGarage_SampleData_v1.0.2/StudyArea_Armidale/Place_Names.shp</td>\n",
       "      <td>/home/ggubu/Place_Names.shp.tif</td>\n",
       "    </tr>\n",
       "    <tr>\n",
       "      <th>3</th>\n",
       "      <td>mcass_studyareatemplate30m_sml.shp</td>\n",
       "      <td>/home/ggubu/grid-garage-sample-data-GridGarage_SampleData_v1.0.2/StudyArea_Armidale/mcass_studyareatemplate30m_sml.shp</td>\n",
       "      <td>/home/ggubu/mcass_studyareatemplate30m_sml.shp.tif</td>\n",
       "    </tr>\n",
       "    <tr>\n",
       "      <th>4</th>\n",
       "      <td>HydroLine_All_Watercourses.shp</td>\n",
       "      <td>/home/ggubu/grid-garage-sample-data-GridGarage_SampleData_v1.0.2/StudyArea_Armidale/HydroLine_All_Watercourses.shp</td>\n",
       "      <td>/home/ggubu/HydroLine_All_Watercourses.shp.tif</td>\n",
       "    </tr>\n",
       "    <tr>\n",
       "      <th>5</th>\n",
       "      <td>VegBorderRiversGwydir_Comp09_VIS3801.shp</td>\n",
       "      <td>/home/ggubu/grid-garage-sample-data-GridGarage_SampleData_v1.0.2/StudyArea_Armidale/VegBorderRiversGwydir_Comp09_VIS3801.shp</td>\n",
       "      <td>/home/ggubu/VegBorderRiversGwydir_Comp09_VIS3801.shp.tif</td>\n",
       "    </tr>\n",
       "  </tbody>\n",
       "</table>"
      ],
      "text/plain": [
       "<IPython.core.display.HTML object>"
      ]
     },
     "metadata": {},
     "output_type": "execute_result"
    }
   ],
   "source": [
    "v = gd['vectors'].copy()\n",
    "# v.drop('vector', axis=1, inplace=True)\n",
    "v.rename(columns={'fullpath': 'in_vector'}, inplace=True)\n",
    "v['out_raster'] = v['filename'].apply(lambda x: join(out_folder, f'{x}.tif'))\n",
    "gui.pretty_df(v)"
   ]
  },
  {
   "cell_type": "markdown",
   "metadata": {},
   "source": [
    "## Rasterise the vector shapes"
   ]
  },
  {
   "cell_type": "code",
   "execution_count": null,
   "metadata": {},
   "outputs": [],
   "source": [
    "import geopandas as gpd\n",
    "import rasterio\n",
    "from rasterio import features\n",
    "\n"
   ]
  },
  {
   "cell_type": "code",
   "execution_count": 1,
   "metadata": {},
   "outputs": [],
   "source": [
    "from ggj.geotypes.identify import list_geodata"
   ]
  },
  {
   "cell_type": "code",
   "execution_count": 3,
   "metadata": {},
   "outputs": [
    {
     "name": "stdout",
     "output_type": "stream",
     "text": [
      "                                                                                                                                              filename\n",
      "file                                                                                                                                                  \n",
      "0                                                                                                                    /home/ggj/6.0 miscellaneous.ipynb\n",
      "1                                                                                                                         /home/ggj/3.0 metadata.ipynb\n",
      "2                                                                                                                              /home/ggj/working.ipynb\n",
      "3                                                                                                                     /home/ggj/1.0 introduction.ipynb\n",
      "4                                                                                                                          /home/ggj/5.0 vectors.ipynb\n",
      "5                                                                                                                     /home/ggj/2.0 listing data.ipynb\n",
      "6                                                                                                                          /home/ggj/4.0 rasters.ipynb\n",
      "7                                                                                                                               /home/ggj/.ash_history\n",
      "8                                                                                                                           /home/ggj/requirements.txt\n",
      "9                                                                                                                                  /home/ggj/README.md\n",
      "10                                                                                                                            /home/ggj/host/test.gpkg\n",
      "11                                                                                                /home/ggj/host/.ipynb_checkpoints/x-checkpoint.ipynb\n",
      "12                                                                                                                /home/ggj/host/.jupyter/beakerx.json\n",
      "13                                                                                /home/ggj/host/.jupyter/lab/workspaces/lab-a511.jupyterlab-workspace\n",
      "14                                                                                  /home/ggj/host/.local/share/jupyter/runtime/notebook_cookie_secret\n",
      "15                                                                                              /home/ggj/host/lmf1_workflows/AreasandLengthsTask.xaml\n",
      "16                                                                                                    /home/ggj/host/lmf1_workflows/BufferUpdated.xaml\n",
      "17                                                                                          /home/ggj/host/lmf1_workflows/Certificate_Area_Report.xaml\n",
      "18                                                                                                   /home/ggj/host/lmf1_workflows/ClearSelection.xaml\n",
      "19                                                                                                 /home/ggj/host/lmf1_workflows/CreateMapProduct.xaml\n",
      "20                                                                                      /home/ggj/host/lmf1_workflows/Create_Edit_LandholdingCase.xaml\n",
      "21                                                                                              /home/ggj/host/lmf1_workflows/HoldingRefNo_Search.xaml\n",
      "22                                                                                                   /home/ggj/host/lmf1_workflows/JJsLotDPSearch.xaml\n",
      "23                                                                                     /home/ggj/host/lmf1_workflows/LMF_CreateCaseHoldingPolygon.xaml\n",
      "24                                                                                        /home/ggj/host/lmf1_workflows/LMF_CreateSetAsidePolygon.xaml\n",
      "25                                                                                       /home/ggj/host/lmf1_workflows/LMF_CreateTreatmentPolygon.xaml\n",
      "26                                                                                          /home/ggj/host/lmf1_workflows/LMF_EditSetAsidePolygon.xaml\n",
      "27                                                                                         /home/ggj/host/lmf1_workflows/LMF_EditTreatmentPolygon.xaml\n",
      "28                                                                                         /home/ggj/host/lmf1_workflows/LMF_Edit_LH_Lots_Polygon.xaml\n",
      "29                                                                                                 /home/ggj/host/lmf1_workflows/LMF_InitialTheme.xaml\n",
      "...                                                                                                                                                ...\n",
      "4764                                            /home/ggj/sample_data/mcass/NCLLS_RiskRiparian_AllCatchments/Data/Mask/LocalLandServiceRegions_LLS.tfw\n",
      "4765                                            /home/ggj/sample_data/mcass/NCLLS_RiskRiparian_AllCatchments/Data/Mask/LocalLandServiceRegions_LLS.tif\n",
      "4766                                                        /home/ggj/sample_data/mcass/NCLLS_OEH_RiskBasedFramework/NCLLS_OEH_RiskBasedFramework.mcas\n",
      "4767                                /home/ggj/sample_data/mcass/NCLLS_OEH_RiskBasedFramework/History/NCLLS_OEH_RiskBasedFramework_20190429_113939.mcas\n",
      "4768                                                                       /home/ggj/sample_data/mcass/NCLLS_OEH_RiskBasedFramework/Data/Primary.cache\n",
      "4769                                             /home/ggj/sample_data/mcass/NCLLS_OEH_RiskBasedFramework/Data/Overlay/LLS_LGA_zones/LLS_LGA_zones.sbx\n",
      "4770                                             /home/ggj/sample_data/mcass/NCLLS_OEH_RiskBasedFramework/Data/Overlay/LLS_LGA_zones/LLS_LGA_zones.dbf\n",
      "4771                                             /home/ggj/sample_data/mcass/NCLLS_OEH_RiskBasedFramework/Data/Overlay/LLS_LGA_zones/LLS_LGA_zones.prj\n",
      "4772                                             /home/ggj/sample_data/mcass/NCLLS_OEH_RiskBasedFramework/Data/Overlay/LLS_LGA_zones/LLS_LGA_zones.sbn\n",
      "4773                                             /home/ggj/sample_data/mcass/NCLLS_OEH_RiskBasedFramework/Data/Overlay/LLS_LGA_zones/LLS_LGA_zones.shx\n",
      "4774                                             /home/ggj/sample_data/mcass/NCLLS_OEH_RiskBasedFramework/Data/Overlay/LLS_LGA_zones/LLS_LGA_zones.cpg\n",
      "4775                                         /home/ggj/sample_data/mcass/NCLLS_OEH_RiskBasedFramework/Data/Overlay/LLS_LGA_zones/LLS_LGA_zones.shp.xml\n",
      "4776                                             /home/ggj/sample_data/mcass/NCLLS_OEH_RiskBasedFramework/Data/Overlay/LLS_LGA_zones/LLS_LGA_zones.shp\n",
      "4777                                         /home/ggj/sample_data/mcass/NCLLS_OEH_RiskBasedFramework/Data/Overlay/LLS_Coastline/LLS_Coastline.shp.xml\n",
      "4778                                             /home/ggj/sample_data/mcass/NCLLS_OEH_RiskBasedFramework/Data/Overlay/LLS_Coastline/LLS_Coastline.cpg\n",
      "4779                                             /home/ggj/sample_data/mcass/NCLLS_OEH_RiskBasedFramework/Data/Overlay/LLS_Coastline/LLS_Coastline.shp\n",
      "4780                                             /home/ggj/sample_data/mcass/NCLLS_OEH_RiskBasedFramework/Data/Overlay/LLS_Coastline/LLS_Coastline.sbx\n",
      "4781                                             /home/ggj/sample_data/mcass/NCLLS_OEH_RiskBasedFramework/Data/Overlay/LLS_Coastline/LLS_Coastline.sbn\n",
      "4782                                             /home/ggj/sample_data/mcass/NCLLS_OEH_RiskBasedFramework/Data/Overlay/LLS_Coastline/LLS_Coastline.prj\n",
      "4783                                             /home/ggj/sample_data/mcass/NCLLS_OEH_RiskBasedFramework/Data/Overlay/LLS_Coastline/LLS_Coastline.dbf\n",
      "4784                                             /home/ggj/sample_data/mcass/NCLLS_OEH_RiskBasedFramework/Data/Overlay/LLS_Coastline/LLS_Coastline.shx\n",
      "4785  /home/ggj/sample_data/mcass/NCLLS_OEH_RiskBasedFramework/Data/Primary/OEH_Risk_Based_Framework_2018/EstuarySubcatchmentHealthRisk_LIKELIHOOD.tfw\n",
      "4786  /home/ggj/sample_data/mcass/NCLLS_OEH_RiskBasedFramework/Data/Primary/OEH_Risk_Based_Framework_2018/EstuarySubcatchmentHealthRisk_CONSEQUENC.tfw\n",
      "4787  /home/ggj/sample_data/mcass/NCLLS_OEH_RiskBasedFramework/Data/Primary/OEH_Risk_Based_Framework_2018/EstuarySubcatchmentHealthRisk_LIKELIHOOD.tif\n",
      "4788  /home/ggj/sample_data/mcass/NCLLS_OEH_RiskBasedFramework/Data/Primary/OEH_Risk_Based_Framework_2018/EstuarySubcatchmentHealthRisk_CONSEQUENC.tip\n",
      "4789  /home/ggj/sample_data/mcass/NCLLS_OEH_RiskBasedFramework/Data/Primary/OEH_Risk_Based_Framework_2018/EstuarySubcatchmentHealthRisk_CONSEQUENC.tif\n",
      "4790  /home/ggj/sample_data/mcass/NCLLS_OEH_RiskBasedFramework/Data/Primary/OEH_Risk_Based_Framework_2018/EstuarySubcatchmentHealthRisk_LIKELIHOOD.tip\n",
      "4791                                                             /home/ggj/sample_data/mcass/NCLLS_OEH_RiskBasedFramework/Data/Mask/Catchments_TAG.tfw\n",
      "4792                                                             /home/ggj/sample_data/mcass/NCLLS_OEH_RiskBasedFramework/Data/Mask/Catchments_TAG.tip\n",
      "4793                                                             /home/ggj/sample_data/mcass/NCLLS_OEH_RiskBasedFramework/Data/Mask/Catchments_TAG.tif\n",
      "\n",
      "[4794 rows x 1 columns]\n",
      "                                                                                                                                                                        filename        filetype\n",
      "gdal                                                                                                                                                                                            \n",
      "0                                                                                         /home/ggj/host/LMFLandholding Duplication Analysis/LMFLandholdingCase Duplications.gdb     OpenFileGDB\n",
      "1                                                                                                                                           /home/ggj/host/spatial_data/armidale  ESRI Shapefile\n",
      "2                                                                                                                                                /home/ggj/host/spatial_data/aus  ESRI Shapefile\n",
      "3                                                                                                                                        /home/ggj/host/spatial_data/dev/dev.gdb     OpenFileGDB\n",
      "4                                                                                                             /home/ggj/host/spatial_data/dev/HydroLine_All_Watercourses.shp.tif           GTiff\n",
      "5                                                                                                         /home/ggj/host/spatial_data/dev/mcass_studyareatemplate30m_sml.shp.tif           GTiff\n",
      "6                                                                                                                            /home/ggj/host/spatial_data/dev/Place_Names.shp.tif           GTiff\n",
      "7                                                                                                                                        /home/ggj/host/spatial_data/dev/ras.csv             CSV\n",
      "8                                                                                                          /home/ggj/host/spatial_data/dev/Statewide_RiverConditionIndex.shp.tif           GTiff\n",
      "9                                                                                                                                        /home/ggj/host/spatial_data/dev/vec.csv             CSV\n",
      "10                                                                                                  /home/ggj/host/spatial_data/dev/VegBorderRiversGwydir_Comp09_VIS3801.shp.tif           GTiff\n",
      "11                                                                                                                                 /home/ggj/host/spatial_data/diva-gis-aus.gpkg            GPKG\n",
      "12                                                                                                                       /home/ggj/host/spatial_data/LlsCodeData20180815.gdb.zip     OpenFileGDB\n",
      "13                                                                                                                                              /home/ggj/host/spatial_data/nveg  ESRI Shapefile\n",
      "14                                                                                                                      /home/ggj/host/spatial_data/sample-spatial-data/armidale  ESRI Shapefile\n",
      "15                                                                                                                           /home/ggj/host/spatial_data/sample-spatial-data/aus  ESRI Shapefile\n",
      "16                                                               /home/ggj/host/spatial_data/sample-spatial-data/mcass/NCLLS_OEH_RiskBasedFramework/Data/Mask/Catchments_TAG.tif           GTiff\n",
      "17                                                                 /home/ggj/host/spatial_data/sample-spatial-data/mcass/NCLLS_OEH_RiskBasedFramework/Data/Overlay/LLS_Coastline  ESRI Shapefile\n",
      "18                                                                 /home/ggj/host/spatial_data/sample-spatial-data/mcass/NCLLS_OEH_RiskBasedFramework/Data/Overlay/LLS_LGA_zones  ESRI Shapefile\n",
      "19    /home/ggj/host/spatial_data/sample-spatial-data/mcass/NCLLS_OEH_RiskBasedFramework/Data/Primary/OEH_Risk_Based_Framework_2018/EstuarySubcatchmentHealthRisk_CONSEQUENC.tif           GTiff\n",
      "20    /home/ggj/host/spatial_data/sample-spatial-data/mcass/NCLLS_OEH_RiskBasedFramework/Data/Primary/OEH_Risk_Based_Framework_2018/EstuarySubcatchmentHealthRisk_LIKELIHOOD.tif           GTiff\n",
      "21              /home/ggj/host/spatial_data/sample-spatial-data/mcass/NCLLS_RiskRiparian_AllCatchments/Data/Classified/Riparian/StreamOrderGT1_Buffer100m_Native_count_NCLLS.tif           GTiff\n",
      "22           /home/ggj/host/spatial_data/sample-spatial-data/mcass/NCLLS_RiskRiparian_AllCatchments/Data/Classified/Riparian/StreamOrderGT1_Buffer100m_NonNative_Count_NCLLS.tif           GTiff\n",
      "23                           /home/ggj/host/spatial_data/sample-spatial-data/mcass/NCLLS_RiskRiparian_AllCatchments/Data/Classified/Risk/Risk_StreamFragility_BFT_max4_NCLLS.tif           GTiff\n",
      "24              /home/ggj/host/spatial_data/sample-spatial-data/mcass/NCLLS_RiskRiparian_AllCatchments/Data/Classified/Risk/Risk_StreamOderGT1_Buffer100m_PC_NonNative_NCLLS.tif           GTiff\n",
      "25                                              /home/ggj/host/spatial_data/sample-spatial-data/mcass/NCLLS_RiskRiparian_AllCatchments/Data/Mask/LocalLandServiceRegions_LLS.tif           GTiff\n",
      "26          /home/ggj/host/spatial_data/sample-spatial-data/mcass/NCLLS_RiskRiparian_AllCatchments/Data/Primary/Other_OEH_SEED/NSW_Native_Vegetation_Extent_v1_5m_2017_Label.tif           GTiff\n",
      "27                   /home/ggj/host/spatial_data/sample-spatial-data/mcass/NCLLS_RiskRiparian_AllCatchments/Data/Primary/Water/RiparianZone/StreamOrder_Buffer100m_StreamOrd.tif           GTiff\n",
      "28                                                                                                                                       /home/ggj/host/spatial_data/test_output  ESRI Shapefile\n",
      "29                                                                                       /home/ggj/host/spatial_tools/grid-garage/docs/_build/singlehtml/_static/ajax-loader.gif             GIF\n",
      "...                                                                                                                                                                          ...             ...\n",
      "90                                                                                        /home/ggj/host/spatial_tools/LlsDataMigration/venv/tcl/tk8.5/demos/images/earthris.gif             GIF\n",
      "91                                                                                         /home/ggj/host/spatial_tools/LlsDataMigration/venv/tcl/tk8.5/demos/images/tcllogo.gif             GIF\n",
      "92                                                                                          /home/ggj/host/spatial_tools/LlsDataMigration/venv/tcl/tk8.5/demos/images/teapot.ppm             PNM\n",
      "93                                                                                               /home/ggj/host/spatial_tools/LlsDataMigration/venv/tcl/tk8.5/images/logo100.gif             GIF\n",
      "94                                                                                                /home/ggj/host/spatial_tools/LlsDataMigration/venv/tcl/tk8.5/images/logo64.gif             GIF\n",
      "95                                                                                             /home/ggj/host/spatial_tools/LlsDataMigration/venv/tcl/tk8.5/images/logoLarge.gif             GIF\n",
      "96                                                                                               /home/ggj/host/spatial_tools/LlsDataMigration/venv/tcl/tk8.5/images/logoMed.gif             GIF\n",
      "97                                                                                           /home/ggj/host/spatial_tools/LlsDataMigration/venv/tcl/tk8.5/images/pwrdLogo100.gif             GIF\n",
      "98                                                                                           /home/ggj/host/spatial_tools/LlsDataMigration/venv/tcl/tk8.5/images/pwrdLogo150.gif             GIF\n",
      "99                                                                                           /home/ggj/host/spatial_tools/LlsDataMigration/venv/tcl/tk8.5/images/pwrdLogo175.gif             GIF\n",
      "100                                                                                          /home/ggj/host/spatial_tools/LlsDataMigration/venv/tcl/tk8.5/images/pwrdLogo200.gif             GIF\n",
      "101                                                                                           /home/ggj/host/spatial_tools/LlsDataMigration/venv/tcl/tk8.5/images/pwrdLogo75.gif             GIF\n",
      "102                                                                                               /home/ggj/host/spatial_tools/LlsDataMigration/venv/tcl/tk8.5/images/tai-ku.gif             GIF\n",
      "103                                                                                                                                                     /home/ggj/host/test.gpkg            GPKG\n",
      "104                                                                                                                            /home/ggj/.ipython/profile_default/history.sqlite          SQLite\n",
      "105                                                                                                                               /home/ggj/.local/share/jupyter/nbsignatures.db          SQLite\n",
      "106                                                                                                                                               /home/ggj/sample_data/armidale  ESRI Shapefile\n",
      "107                                                                                                                                                    /home/ggj/sample_data/aus  ESRI Shapefile\n",
      "108                                       /home/ggj/sample_data/mcass/NCLLS_RiskRiparian_AllCatchments/Data/Classified/Risk/Risk_StreamOderGT1_Buffer100m_PC_NonNative_NCLLS.tif           GTiff\n",
      "109                                                    /home/ggj/sample_data/mcass/NCLLS_RiskRiparian_AllCatchments/Data/Classified/Risk/Risk_StreamFragility_BFT_max4_NCLLS.tif           GTiff\n",
      "110                                       /home/ggj/sample_data/mcass/NCLLS_RiskRiparian_AllCatchments/Data/Classified/Riparian/StreamOrderGT1_Buffer100m_Native_count_NCLLS.tif           GTiff\n",
      "111                                    /home/ggj/sample_data/mcass/NCLLS_RiskRiparian_AllCatchments/Data/Classified/Riparian/StreamOrderGT1_Buffer100m_NonNative_Count_NCLLS.tif           GTiff\n",
      "112                                   /home/ggj/sample_data/mcass/NCLLS_RiskRiparian_AllCatchments/Data/Primary/Other_OEH_SEED/NSW_Native_Vegetation_Extent_v1_5m_2017_Label.tif           GTiff\n",
      "113                                            /home/ggj/sample_data/mcass/NCLLS_RiskRiparian_AllCatchments/Data/Primary/Water/RiparianZone/StreamOrder_Buffer100m_StreamOrd.tif           GTiff\n",
      "114                                                                       /home/ggj/sample_data/mcass/NCLLS_RiskRiparian_AllCatchments/Data/Mask/LocalLandServiceRegions_LLS.tif           GTiff\n",
      "115                                                                                          /home/ggj/sample_data/mcass/NCLLS_OEH_RiskBasedFramework/Data/Overlay/LLS_LGA_zones  ESRI Shapefile\n",
      "116                                                                                          /home/ggj/sample_data/mcass/NCLLS_OEH_RiskBasedFramework/Data/Overlay/LLS_Coastline  ESRI Shapefile\n",
      "117                             /home/ggj/sample_data/mcass/NCLLS_OEH_RiskBasedFramework/Data/Primary/OEH_Risk_Based_Framework_2018/EstuarySubcatchmentHealthRisk_LIKELIHOOD.tif           GTiff\n",
      "118                             /home/ggj/sample_data/mcass/NCLLS_OEH_RiskBasedFramework/Data/Primary/OEH_Risk_Based_Framework_2018/EstuarySubcatchmentHealthRisk_CONSEQUENC.tif           GTiff\n",
      "119                                                                                        /home/ggj/sample_data/mcass/NCLLS_OEH_RiskBasedFramework/Data/Mask/Catchments_TAG.tif           GTiff\n",
      "\n",
      "[120 rows x 2 columns]\n",
      "                                                                                                                                               filename\n",
      "other                                                                                                                                                  \n",
      "0                                                                                                                     /home/ggj/6.0 miscellaneous.ipynb\n",
      "1                                                                                                                          /home/ggj/3.0 metadata.ipynb\n",
      "2                                                                                                                               /home/ggj/working.ipynb\n",
      "3                                                                                                                      /home/ggj/1.0 introduction.ipynb\n",
      "4                                                                                                                           /home/ggj/5.0 vectors.ipynb\n",
      "5                                                                                                                      /home/ggj/2.0 listing data.ipynb\n",
      "6                                                                                                                           /home/ggj/4.0 rasters.ipynb\n",
      "7                                                                                                                                /home/ggj/.ash_history\n",
      "8                                                                                                                            /home/ggj/requirements.txt\n",
      "9                                                                                                                                   /home/ggj/README.md\n",
      "10                                                                                                                             /home/ggj/host/test.gpkg\n",
      "11                                                                                                 /home/ggj/host/.ipynb_checkpoints/x-checkpoint.ipynb\n",
      "12                                                                                                                 /home/ggj/host/.jupyter/beakerx.json\n",
      "13                                                                                 /home/ggj/host/.jupyter/lab/workspaces/lab-a511.jupyterlab-workspace\n",
      "14                                                                                   /home/ggj/host/.local/share/jupyter/runtime/notebook_cookie_secret\n",
      "15                                                                                               /home/ggj/host/lmf1_workflows/AreasandLengthsTask.xaml\n",
      "16                                                                                                     /home/ggj/host/lmf1_workflows/BufferUpdated.xaml\n",
      "17                                                                                           /home/ggj/host/lmf1_workflows/Certificate_Area_Report.xaml\n",
      "18                                                                                                    /home/ggj/host/lmf1_workflows/ClearSelection.xaml\n",
      "19                                                                                                  /home/ggj/host/lmf1_workflows/CreateMapProduct.xaml\n",
      "20                                                                                       /home/ggj/host/lmf1_workflows/Create_Edit_LandholdingCase.xaml\n",
      "21                                                                                               /home/ggj/host/lmf1_workflows/HoldingRefNo_Search.xaml\n",
      "22                                                                                                    /home/ggj/host/lmf1_workflows/JJsLotDPSearch.xaml\n",
      "23                                                                                      /home/ggj/host/lmf1_workflows/LMF_CreateCaseHoldingPolygon.xaml\n",
      "24                                                                                         /home/ggj/host/lmf1_workflows/LMF_CreateSetAsidePolygon.xaml\n",
      "25                                                                                        /home/ggj/host/lmf1_workflows/LMF_CreateTreatmentPolygon.xaml\n",
      "26                                                                                           /home/ggj/host/lmf1_workflows/LMF_EditSetAsidePolygon.xaml\n",
      "27                                                                                          /home/ggj/host/lmf1_workflows/LMF_EditTreatmentPolygon.xaml\n",
      "28                                                                                          /home/ggj/host/lmf1_workflows/LMF_Edit_LH_Lots_Polygon.xaml\n",
      "29                                                                                                  /home/ggj/host/lmf1_workflows/LMF_InitialTheme.xaml\n",
      "...                                                                                                                                                 ...\n",
      "4764                                             /home/ggj/sample_data/mcass/NCLLS_RiskRiparian_AllCatchments/Data/Mask/LocalLandServiceRegions_LLS.tfw\n",
      "4765                                             /home/ggj/sample_data/mcass/NCLLS_RiskRiparian_AllCatchments/Data/Mask/LocalLandServiceRegions_LLS.tif\n",
      "4766                                                         /home/ggj/sample_data/mcass/NCLLS_OEH_RiskBasedFramework/NCLLS_OEH_RiskBasedFramework.mcas\n",
      "4767                                 /home/ggj/sample_data/mcass/NCLLS_OEH_RiskBasedFramework/History/NCLLS_OEH_RiskBasedFramework_20190429_113939.mcas\n",
      "4768                                                                        /home/ggj/sample_data/mcass/NCLLS_OEH_RiskBasedFramework/Data/Primary.cache\n",
      "4769                                              /home/ggj/sample_data/mcass/NCLLS_OEH_RiskBasedFramework/Data/Overlay/LLS_LGA_zones/LLS_LGA_zones.sbx\n",
      "4770                                              /home/ggj/sample_data/mcass/NCLLS_OEH_RiskBasedFramework/Data/Overlay/LLS_LGA_zones/LLS_LGA_zones.dbf\n",
      "4771                                              /home/ggj/sample_data/mcass/NCLLS_OEH_RiskBasedFramework/Data/Overlay/LLS_LGA_zones/LLS_LGA_zones.prj\n",
      "4772                                              /home/ggj/sample_data/mcass/NCLLS_OEH_RiskBasedFramework/Data/Overlay/LLS_LGA_zones/LLS_LGA_zones.sbn\n",
      "4773                                              /home/ggj/sample_data/mcass/NCLLS_OEH_RiskBasedFramework/Data/Overlay/LLS_LGA_zones/LLS_LGA_zones.shx\n",
      "4774                                              /home/ggj/sample_data/mcass/NCLLS_OEH_RiskBasedFramework/Data/Overlay/LLS_LGA_zones/LLS_LGA_zones.cpg\n",
      "4775                                          /home/ggj/sample_data/mcass/NCLLS_OEH_RiskBasedFramework/Data/Overlay/LLS_LGA_zones/LLS_LGA_zones.shp.xml\n",
      "4776                                              /home/ggj/sample_data/mcass/NCLLS_OEH_RiskBasedFramework/Data/Overlay/LLS_LGA_zones/LLS_LGA_zones.shp\n",
      "4777                                          /home/ggj/sample_data/mcass/NCLLS_OEH_RiskBasedFramework/Data/Overlay/LLS_Coastline/LLS_Coastline.shp.xml\n",
      "4778                                              /home/ggj/sample_data/mcass/NCLLS_OEH_RiskBasedFramework/Data/Overlay/LLS_Coastline/LLS_Coastline.cpg\n",
      "4779                                              /home/ggj/sample_data/mcass/NCLLS_OEH_RiskBasedFramework/Data/Overlay/LLS_Coastline/LLS_Coastline.shp\n",
      "4780                                              /home/ggj/sample_data/mcass/NCLLS_OEH_RiskBasedFramework/Data/Overlay/LLS_Coastline/LLS_Coastline.sbx\n",
      "4781                                              /home/ggj/sample_data/mcass/NCLLS_OEH_RiskBasedFramework/Data/Overlay/LLS_Coastline/LLS_Coastline.sbn\n",
      "4782                                              /home/ggj/sample_data/mcass/NCLLS_OEH_RiskBasedFramework/Data/Overlay/LLS_Coastline/LLS_Coastline.prj\n",
      "4783                                              /home/ggj/sample_data/mcass/NCLLS_OEH_RiskBasedFramework/Data/Overlay/LLS_Coastline/LLS_Coastline.dbf\n",
      "4784                                              /home/ggj/sample_data/mcass/NCLLS_OEH_RiskBasedFramework/Data/Overlay/LLS_Coastline/LLS_Coastline.shx\n",
      "4785   /home/ggj/sample_data/mcass/NCLLS_OEH_RiskBasedFramework/Data/Primary/OEH_Risk_Based_Framework_2018/EstuarySubcatchmentHealthRisk_LIKELIHOOD.tfw\n",
      "4786   /home/ggj/sample_data/mcass/NCLLS_OEH_RiskBasedFramework/Data/Primary/OEH_Risk_Based_Framework_2018/EstuarySubcatchmentHealthRisk_CONSEQUENC.tfw\n",
      "4787   /home/ggj/sample_data/mcass/NCLLS_OEH_RiskBasedFramework/Data/Primary/OEH_Risk_Based_Framework_2018/EstuarySubcatchmentHealthRisk_LIKELIHOOD.tif\n",
      "4788   /home/ggj/sample_data/mcass/NCLLS_OEH_RiskBasedFramework/Data/Primary/OEH_Risk_Based_Framework_2018/EstuarySubcatchmentHealthRisk_CONSEQUENC.tip\n",
      "4789   /home/ggj/sample_data/mcass/NCLLS_OEH_RiskBasedFramework/Data/Primary/OEH_Risk_Based_Framework_2018/EstuarySubcatchmentHealthRisk_CONSEQUENC.tif\n",
      "4790   /home/ggj/sample_data/mcass/NCLLS_OEH_RiskBasedFramework/Data/Primary/OEH_Risk_Based_Framework_2018/EstuarySubcatchmentHealthRisk_LIKELIHOOD.tip\n",
      "4791                                                              /home/ggj/sample_data/mcass/NCLLS_OEH_RiskBasedFramework/Data/Mask/Catchments_TAG.tfw\n",
      "4792                                                              /home/ggj/sample_data/mcass/NCLLS_OEH_RiskBasedFramework/Data/Mask/Catchments_TAG.tip\n",
      "4793                                                              /home/ggj/sample_data/mcass/NCLLS_OEH_RiskBasedFramework/Data/Mask/Catchments_TAG.tif\n",
      "\n",
      "[4794 rows x 1 columns]\n",
      "   table                                                                          filename filetype\n",
      "0      7                                           /home/ggj/host/spatial_data/dev/ras.csv      CSV\n",
      "1      9                                           /home/ggj/host/spatial_data/dev/vec.csv      CSV\n",
      "2     83  /home/ggj/host/spatial_tools/grid-garage/img/MASTER_TIP_TEMPLATE_OEH_EXAMPLE.csv      CSV\n"
     ]
    }
   ],
   "source": [
    "g = list_geodata(\".\")"
   ]
  },
  {
   "cell_type": "code",
   "execution_count": 3,
   "metadata": {},
   "outputs": [
    {
     "data": {
      "text/html": [
       "<div>\n",
       "<style scoped>\n",
       "    .dataframe tbody tr th:only-of-type {\n",
       "        vertical-align: middle;\n",
       "    }\n",
       "\n",
       "    .dataframe tbody tr th {\n",
       "        vertical-align: top;\n",
       "    }\n",
       "\n",
       "    .dataframe thead th {\n",
       "        text-align: right;\n",
       "    }\n",
       "</style>\n",
       "<table border=\"1\" class=\"dataframe\">\n",
       "  <thead>\n",
       "    <tr style=\"text-align: right;\">\n",
       "      <th></th>\n",
       "      <th>table</th>\n",
       "      <th>filename</th>\n",
       "      <th>filetype</th>\n",
       "    </tr>\n",
       "  </thead>\n",
       "  <tbody>\n",
       "  </tbody>\n",
       "</table>\n",
       "</div>"
      ],
      "text/plain": [
       "Empty DataFrame\n",
       "Columns: [table, filename, filetype]\n",
       "Index: []"
      ]
     },
     "execution_count": 3,
     "metadata": {},
     "output_type": "execute_result"
    }
   ],
   "source": [
    "g.tables"
   ]
  },
  {
   "cell_type": "code",
   "execution_count": null,
   "metadata": {},
   "outputs": [],
   "source": []
  },
  {
   "cell_type": "code",
   "execution_count": 4,
   "metadata": {},
   "outputs": [
    {
     "data": {
      "text/html": [
       "<div>\n",
       "<style scoped>\n",
       "    .dataframe tbody tr th:only-of-type {\n",
       "        vertical-align: middle;\n",
       "    }\n",
       "\n",
       "    .dataframe tbody tr th {\n",
       "        vertical-align: top;\n",
       "    }\n",
       "\n",
       "    .dataframe thead th {\n",
       "        text-align: right;\n",
       "    }\n",
       "</style>\n",
       "<table border=\"1\" class=\"dataframe\">\n",
       "  <thead>\n",
       "    <tr style=\"text-align: right;\">\n",
       "      <th></th>\n",
       "      <th>filename</th>\n",
       "      <th>filetype</th>\n",
       "    </tr>\n",
       "    <tr>\n",
       "      <th>gdal</th>\n",
       "      <th></th>\n",
       "      <th></th>\n",
       "    </tr>\n",
       "  </thead>\n",
       "  <tbody>\n",
       "    <tr>\n",
       "      <th>0</th>\n",
       "      <td>/home/ggj/sample_data/armidale</td>\n",
       "      <td>ESRI Shapefile</td>\n",
       "    </tr>\n",
       "    <tr>\n",
       "      <th>1</th>\n",
       "      <td>/home/ggj/sample_data/aus</td>\n",
       "      <td>ESRI Shapefile</td>\n",
       "    </tr>\n",
       "    <tr>\n",
       "      <th>2</th>\n",
       "      <td>/home/ggj/sample_data/mcass/NCLLS_RiskRiparian_AllCatchments/Data/Classified/Risk/Risk_StreamOderGT1_Buffer100m_PC_NonNative_NCLLS.tif</td>\n",
       "      <td>GTiff</td>\n",
       "    </tr>\n",
       "    <tr>\n",
       "      <th>3</th>\n",
       "      <td>/home/ggj/sample_data/mcass/NCLLS_RiskRiparian_AllCatchments/Data/Classified/Risk/Risk_StreamFragility_BFT_max4_NCLLS.tif</td>\n",
       "      <td>GTiff</td>\n",
       "    </tr>\n",
       "    <tr>\n",
       "      <th>4</th>\n",
       "      <td>/home/ggj/sample_data/mcass/NCLLS_RiskRiparian_AllCatchments/Data/Classified/Riparian/StreamOrderGT1_Buffer100m_Native_count_NCLLS.tif</td>\n",
       "      <td>GTiff</td>\n",
       "    </tr>\n",
       "    <tr>\n",
       "      <th>5</th>\n",
       "      <td>/home/ggj/sample_data/mcass/NCLLS_RiskRiparian_AllCatchments/Data/Classified/Riparian/StreamOrderGT1_Buffer100m_NonNative_Count_NCLLS.tif</td>\n",
       "      <td>GTiff</td>\n",
       "    </tr>\n",
       "    <tr>\n",
       "      <th>6</th>\n",
       "      <td>/home/ggj/sample_data/mcass/NCLLS_RiskRiparian_AllCatchments/Data/Primary/Other_OEH_SEED/NSW_Native_Vegetation_Extent_v1_5m_2017_Label.tif</td>\n",
       "      <td>GTiff</td>\n",
       "    </tr>\n",
       "    <tr>\n",
       "      <th>7</th>\n",
       "      <td>/home/ggj/sample_data/mcass/NCLLS_RiskRiparian_AllCatchments/Data/Primary/Water/RiparianZone/StreamOrder_Buffer100m_StreamOrd.tif</td>\n",
       "      <td>GTiff</td>\n",
       "    </tr>\n",
       "    <tr>\n",
       "      <th>8</th>\n",
       "      <td>/home/ggj/sample_data/mcass/NCLLS_RiskRiparian_AllCatchments/Data/Mask/LocalLandServiceRegions_LLS.tif</td>\n",
       "      <td>GTiff</td>\n",
       "    </tr>\n",
       "    <tr>\n",
       "      <th>9</th>\n",
       "      <td>/home/ggj/sample_data/mcass/NCLLS_OEH_RiskBasedFramework/Data/Overlay/LLS_LGA_zones</td>\n",
       "      <td>ESRI Shapefile</td>\n",
       "    </tr>\n",
       "    <tr>\n",
       "      <th>10</th>\n",
       "      <td>/home/ggj/sample_data/mcass/NCLLS_OEH_RiskBasedFramework/Data/Overlay/LLS_Coastline</td>\n",
       "      <td>ESRI Shapefile</td>\n",
       "    </tr>\n",
       "    <tr>\n",
       "      <th>11</th>\n",
       "      <td>/home/ggj/sample_data/mcass/NCLLS_OEH_RiskBasedFramework/Data/Primary/OEH_Risk_Based_Framework_2018/EstuarySubcatchmentHealthRisk_LIKELIHOOD.tif</td>\n",
       "      <td>GTiff</td>\n",
       "    </tr>\n",
       "    <tr>\n",
       "      <th>12</th>\n",
       "      <td>/home/ggj/sample_data/mcass/NCLLS_OEH_RiskBasedFramework/Data/Primary/OEH_Risk_Based_Framework_2018/EstuarySubcatchmentHealthRisk_CONSEQUENC.tif</td>\n",
       "      <td>GTiff</td>\n",
       "    </tr>\n",
       "    <tr>\n",
       "      <th>13</th>\n",
       "      <td>/home/ggj/sample_data/mcass/NCLLS_OEH_RiskBasedFramework/Data/Mask/Catchments_TAG.tif</td>\n",
       "      <td>GTiff</td>\n",
       "    </tr>\n",
       "  </tbody>\n",
       "</table>\n",
       "</div>"
      ],
      "text/plain": [
       "                                                                                                                                              filename        filetype\n",
       "gdal                                                                                                                                                                  \n",
       "0                                                                                                                       /home/ggj/sample_data/armidale  ESRI Shapefile\n",
       "1                                                                                                                            /home/ggj/sample_data/aus  ESRI Shapefile\n",
       "2               /home/ggj/sample_data/mcass/NCLLS_RiskRiparian_AllCatchments/Data/Classified/Risk/Risk_StreamOderGT1_Buffer100m_PC_NonNative_NCLLS.tif           GTiff\n",
       "3                            /home/ggj/sample_data/mcass/NCLLS_RiskRiparian_AllCatchments/Data/Classified/Risk/Risk_StreamFragility_BFT_max4_NCLLS.tif           GTiff\n",
       "4               /home/ggj/sample_data/mcass/NCLLS_RiskRiparian_AllCatchments/Data/Classified/Riparian/StreamOrderGT1_Buffer100m_Native_count_NCLLS.tif           GTiff\n",
       "5            /home/ggj/sample_data/mcass/NCLLS_RiskRiparian_AllCatchments/Data/Classified/Riparian/StreamOrderGT1_Buffer100m_NonNative_Count_NCLLS.tif           GTiff\n",
       "6           /home/ggj/sample_data/mcass/NCLLS_RiskRiparian_AllCatchments/Data/Primary/Other_OEH_SEED/NSW_Native_Vegetation_Extent_v1_5m_2017_Label.tif           GTiff\n",
       "7                    /home/ggj/sample_data/mcass/NCLLS_RiskRiparian_AllCatchments/Data/Primary/Water/RiparianZone/StreamOrder_Buffer100m_StreamOrd.tif           GTiff\n",
       "8                                               /home/ggj/sample_data/mcass/NCLLS_RiskRiparian_AllCatchments/Data/Mask/LocalLandServiceRegions_LLS.tif           GTiff\n",
       "9                                                                  /home/ggj/sample_data/mcass/NCLLS_OEH_RiskBasedFramework/Data/Overlay/LLS_LGA_zones  ESRI Shapefile\n",
       "10                                                                 /home/ggj/sample_data/mcass/NCLLS_OEH_RiskBasedFramework/Data/Overlay/LLS_Coastline  ESRI Shapefile\n",
       "11    /home/ggj/sample_data/mcass/NCLLS_OEH_RiskBasedFramework/Data/Primary/OEH_Risk_Based_Framework_2018/EstuarySubcatchmentHealthRisk_LIKELIHOOD.tif           GTiff\n",
       "12    /home/ggj/sample_data/mcass/NCLLS_OEH_RiskBasedFramework/Data/Primary/OEH_Risk_Based_Framework_2018/EstuarySubcatchmentHealthRisk_CONSEQUENC.tif           GTiff\n",
       "13                                                               /home/ggj/sample_data/mcass/NCLLS_OEH_RiskBasedFramework/Data/Mask/Catchments_TAG.tif           GTiff"
      ]
     },
     "execution_count": 4,
     "metadata": {},
     "output_type": "execute_result"
    }
   ],
   "source": [
    "g.gdal"
   ]
  },
  {
   "cell_type": "code",
   "execution_count": 11,
   "metadata": {},
   "outputs": [
    {
     "name": "stdout",
     "output_type": "stream",
     "text": [
      "./sample_data/armidale: ESRI Shapefile\n",
      "./sample_data/aus: ESRI Shapefile\n",
      "./sample_data/mcass/NCLLS_RiskRiparian_AllCatchments/Data/Classified/Risk/Risk_StreamOderGT1_Buffer100m_PC_NonNative_NCLLS.tif: GTiff\n",
      "./sample_data/mcass/NCLLS_RiskRiparian_AllCatchments/Data/Classified/Risk/Risk_StreamFragility_BFT_max4_NCLLS.tif: GTiff\n",
      "./sample_data/mcass/NCLLS_RiskRiparian_AllCatchments/Data/Classified/Riparian/StreamOrderGT1_Buffer100m_Native_count_NCLLS.tif: GTiff\n",
      "./sample_data/mcass/NCLLS_RiskRiparian_AllCatchments/Data/Classified/Riparian/StreamOrderGT1_Buffer100m_NonNative_Count_NCLLS.tif: GTiff\n",
      "./sample_data/mcass/NCLLS_RiskRiparian_AllCatchments/Data/Primary/Other_OEH_SEED/NSW_Native_Vegetation_Extent_v1_5m_2017_Label.tif: GTiff\n",
      "./sample_data/mcass/NCLLS_RiskRiparian_AllCatchments/Data/Primary/Water/RiparianZone/StreamOrder_Buffer100m_StreamOrd.tif: GTiff\n",
      "./sample_data/mcass/NCLLS_RiskRiparian_AllCatchments/Data/Mask/LocalLandServiceRegions_LLS.tif: GTiff\n",
      "./sample_data/mcass/NCLLS_OEH_RiskBasedFramework/Data/Overlay/LLS_LGA_zones: ESRI Shapefile\n",
      "./sample_data/mcass/NCLLS_OEH_RiskBasedFramework/Data/Overlay/LLS_Coastline: ESRI Shapefile\n",
      "./sample_data/mcass/NCLLS_OEH_RiskBasedFramework/Data/Primary/OEH_Risk_Based_Framework_2018/EstuarySubcatchmentHealthRisk_LIKELIHOOD.tif: GTiff\n",
      "./sample_data/mcass/NCLLS_OEH_RiskBasedFramework/Data/Primary/OEH_Risk_Based_Framework_2018/EstuarySubcatchmentHealthRisk_CONSEQUENC.tif: GTiff\n",
      "./sample_data/mcass/NCLLS_OEH_RiskBasedFramework/Data/Mask/Catchments_TAG.tif: GTiff\n"
     ]
    }
   ],
   "source": [
    "cmd = 'gdalmanage identify -r ./sample_data'\n",
    "!{cmd}"
   ]
  },
  {
   "cell_type": "code",
   "execution_count": 25,
   "metadata": {},
   "outputs": [
    {
     "name": "stdout",
     "output_type": "stream",
     "text": [
      "['./sample_data/armidale', ' ESRI Shapefile']\n",
      "['./sample_data/aus', ' ESRI Shapefile']\n",
      "['./sample_data/mcass/NCLLS_RiskRiparian_AllCatchments/Data/Classified/Risk/Risk_StreamOderGT1_Buffer100m_PC_NonNative_NCLLS.tif', ' GTiff']\n",
      "['./sample_data/mcass/NCLLS_RiskRiparian_AllCatchments/Data/Classified/Risk/Risk_StreamFragility_BFT_max4_NCLLS.tif', ' GTiff']\n",
      "['./sample_data/mcass/NCLLS_RiskRiparian_AllCatchments/Data/Classified/Riparian/StreamOrderGT1_Buffer100m_Native_count_NCLLS.tif', ' GTiff']\n",
      "['./sample_data/mcass/NCLLS_RiskRiparian_AllCatchments/Data/Classified/Riparian/StreamOrderGT1_Buffer100m_NonNative_Count_NCLLS.tif', ' GTiff']\n",
      "['./sample_data/mcass/NCLLS_RiskRiparian_AllCatchments/Data/Primary/Other_OEH_SEED/NSW_Native_Vegetation_Extent_v1_5m_2017_Label.tif', ' GTiff']\n",
      "['./sample_data/mcass/NCLLS_RiskRiparian_AllCatchments/Data/Primary/Water/RiparianZone/StreamOrder_Buffer100m_StreamOrd.tif', ' GTiff']\n",
      "['./sample_data/mcass/NCLLS_RiskRiparian_AllCatchments/Data/Mask/LocalLandServiceRegions_LLS.tif', ' GTiff']\n",
      "['./sample_data/mcass/NCLLS_OEH_RiskBasedFramework/Data/Overlay/LLS_LGA_zones', ' ESRI Shapefile']\n",
      "['./sample_data/mcass/NCLLS_OEH_RiskBasedFramework/Data/Overlay/LLS_Coastline', ' ESRI Shapefile']\n",
      "['./sample_data/mcass/NCLLS_OEH_RiskBasedFramework/Data/Primary/OEH_Risk_Based_Framework_2018/EstuarySubcatchmentHealthRisk_LIKELIHOOD.tif', ' GTiff']\n",
      "['./sample_data/mcass/NCLLS_OEH_RiskBasedFramework/Data/Primary/OEH_Risk_Based_Framework_2018/EstuarySubcatchmentHealthRisk_CONSEQUENC.tif', ' GTiff']\n",
      "['./sample_data/mcass/NCLLS_OEH_RiskBasedFramework/Data/Mask/Catchments_TAG.tif', ' GTiff']\n",
      "['']\n"
     ]
    }
   ],
   "source": [
    "import subprocess\n",
    "# print(subprocess.check_output([\"gdalmanage\", \"identify\", \"-r\", \"./sample_data\"]).decode(\"UTF-8\"))\n",
    "s = subprocess.check_output([\"gdalmanage\", \"identify\", \"-r\", \"./sample_data\"])\n",
    "s = s.decode(\"UTF-8\").split(\"\\n\")\n",
    "x = [z.split(\":\") for z in s]\n",
    "for a in x:\n",
    "    print(a)"
   ]
  },
  {
   "cell_type": "code",
   "execution_count": null,
   "metadata": {},
   "outputs": [],
   "source": [
    "from osgeo import gdal\n",
    "driver_list = [gdal.GetDriver(i).GetDescription() for i in range(gdal.GetDriverCount())]\n",
    "sorted(driver_list)"
   ]
  },
  {
   "cell_type": "code",
   "execution_count": 4,
   "metadata": {},
   "outputs": [],
   "source": [
    "from cached_property import cached_property"
   ]
  },
  {
   "cell_type": "code",
   "execution_count": null,
   "metadata": {},
   "outputs": [],
   "source": [
    "print( help('modules'))"
   ]
  },
  {
   "cell_type": "code",
   "execution_count": 1,
   "metadata": {},
   "outputs": [
    {
     "name": "stdout",
     "output_type": "stream",
     "text": [
      "/home/ggj/ggj/geotypes/identify.py\n"
     ]
    }
   ],
   "source": [
    "from ggj.geotypes.identify import show\n",
    "show()"
   ]
  },
  {
   "cell_type": "code",
   "execution_count": 4,
   "metadata": {},
   "outputs": [],
   "source": [
    "from ggj.utils.filesystem import list_directories, list_files"
   ]
  },
  {
   "cell_type": "code",
   "execution_count": null,
   "metadata": {},
   "outputs": [],
   "source": [
    "list_directories(\".\")"
   ]
  },
  {
   "cell_type": "code",
   "execution_count": null,
   "metadata": {},
   "outputs": [],
   "source": [
    "list_files(\".\")"
   ]
  },
  {
   "cell_type": "code",
   "execution_count": 1,
   "metadata": {},
   "outputs": [
    {
     "name": "stdout",
     "output_type": "stream",
     "text": [
      "supported by Filesystem Directory\n"
     ]
    },
    {
     "data": {
      "text/plain": [
       "<ggj.geotypes.geodata.Geodata at 0x7fa1689af320>"
      ]
     },
     "execution_count": 1,
     "metadata": {},
     "output_type": "execute_result"
    }
   ],
   "source": [
    "from ggj.geotypes.geodata import list_geodata\n",
    "import ggj.utils\n",
    "g = list_geodata()\n",
    "g"
   ]
  },
  {
   "cell_type": "code",
   "execution_count": 2,
   "metadata": {},
   "outputs": [],
   "source": [
    "import dotmap"
   ]
  },
  {
   "cell_type": "code",
   "execution_count": 5,
   "metadata": {},
   "outputs": [],
   "source": [
    "x = dotmap.DotMap({'a': 12, 'b': 34})"
   ]
  },
  {
   "cell_type": "code",
   "execution_count": 6,
   "metadata": {},
   "outputs": [
    {
     "data": {
      "text/plain": [
       "12"
      ]
     },
     "execution_count": 6,
     "metadata": {},
     "output_type": "execute_result"
    }
   ],
   "source": [
    "x.a"
   ]
  },
  {
   "cell_type": "code",
   "execution_count": null,
   "metadata": {},
   "outputs": [],
   "source": []
  }
 ],
 "metadata": {
  "kernelspec": {
   "display_name": "Python 3",
   "language": "python",
   "name": "python3"
  },
  "language_info": {
   "codemirror_mode": {
    "name": "ipython",
    "version": 3
   },
   "file_extension": ".py",
   "mimetype": "text/x-python",
   "name": "python",
   "nbconvert_exporter": "python",
   "pygments_lexer": "ipython3",
   "version": "3.7.3"
  }
 },
 "nbformat": 4,
 "nbformat_minor": 2
}
