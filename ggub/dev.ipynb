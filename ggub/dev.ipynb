{
 "cells": [
  {
   "cell_type": "markdown",
   "metadata": {},
   "source": [
    "# GGUB code imports"
   ]
  },
  {
   "cell_type": "code",
   "execution_count": 3,
   "metadata": {},
   "outputs": [],
   "source": [
    "from ggub.gui import gui\n",
    "from ggub.geotypes import identify"
   ]
  },
  {
   "cell_type": "code",
   "execution_count": 13,
   "metadata": {},
   "outputs": [],
   "source": [
    "import pandas as pd\n",
    "pd.set_option('display.max_colwidth', -1)"
   ]
  },
  {
   "cell_type": "markdown",
   "metadata": {},
   "source": [
    "# List spatial data in a folder"
   ]
  },
  {
   "cell_type": "code",
   "execution_count": 14,
   "metadata": {},
   "outputs": [
    {
     "name": "stdout",
     "output_type": "stream",
     "text": [
      "\n",
      "data_home = /home/ggubu\n"
     ]
    },
    {
     "data": {
      "text/html": [
       "<table border=\"1\" class=\"dataframe\">\n",
       "  <thead>\n",
       "    <tr style=\"text-align: right;\">\n",
       "      <th></th>\n",
       "      <th>filename</th>\n",
       "      <th>fullpath</th>\n",
       "    </tr>\n",
       "    <tr>\n",
       "      <th>vector</th>\n",
       "      <th></th>\n",
       "      <th></th>\n",
       "    </tr>\n",
       "  </thead>\n",
       "  <tbody>\n",
       "    <tr>\n",
       "      <th>1</th>\n",
       "      <td>Statewide_RiverConditionIndex.shp</td>\n",
       "      <td>/home/ggubu/grid-garage-sample-data-GridGarage_SampleData_v1.0.2/StudyArea_Armidale/Statewide_RiverConditionIndex.shp</td>\n",
       "    </tr>\n",
       "    <tr>\n",
       "      <th>2</th>\n",
       "      <td>Place_Names.shp</td>\n",
       "      <td>/home/ggubu/grid-garage-sample-data-GridGarage_SampleData_v1.0.2/StudyArea_Armidale/Place_Names.shp</td>\n",
       "    </tr>\n",
       "    <tr>\n",
       "      <th>3</th>\n",
       "      <td>mcass_studyareatemplate30m_sml.shp</td>\n",
       "      <td>/home/ggubu/grid-garage-sample-data-GridGarage_SampleData_v1.0.2/StudyArea_Armidale/mcass_studyareatemplate30m_sml.shp</td>\n",
       "    </tr>\n",
       "    <tr>\n",
       "      <th>4</th>\n",
       "      <td>HydroLine_All_Watercourses.shp</td>\n",
       "      <td>/home/ggubu/grid-garage-sample-data-GridGarage_SampleData_v1.0.2/StudyArea_Armidale/HydroLine_All_Watercourses.shp</td>\n",
       "    </tr>\n",
       "    <tr>\n",
       "      <th>5</th>\n",
       "      <td>VegBorderRiversGwydir_Comp09_VIS3801.shp</td>\n",
       "      <td>/home/ggubu/grid-garage-sample-data-GridGarage_SampleData_v1.0.2/StudyArea_Armidale/VegBorderRiversGwydir_Comp09_VIS3801.shp</td>\n",
       "    </tr>\n",
       "  </tbody>\n",
       "</table>"
      ],
      "text/plain": [
       "<IPython.core.display.HTML object>"
      ]
     },
     "metadata": {},
     "output_type": "display_data"
    },
    {
     "data": {
      "text/html": [
       "<table border=\"1\" class=\"dataframe\">\n",
       "  <thead>\n",
       "    <tr style=\"text-align: right;\">\n",
       "      <th></th>\n",
       "      <th>filename</th>\n",
       "      <th>fullpath</th>\n",
       "    </tr>\n",
       "    <tr>\n",
       "      <th>raster</th>\n",
       "      <th></th>\n",
       "      <th></th>\n",
       "    </tr>\n",
       "  </thead>\n",
       "  <tbody>\n",
       "    <tr>\n",
       "      <th>1</th>\n",
       "      <td>SPOT5_WoodyExtent_Armidale_sml.TIF</td>\n",
       "      <td>/home/ggubu/grid-garage-sample-data-GridGarage_SampleData_v1.0.2/StudyArea_Armidale/SPOT5_WoodyExtent_Armidale_sml.TIF</td>\n",
       "    </tr>\n",
       "    <tr>\n",
       "      <th>2</th>\n",
       "      <td>netvegkc100m_sml.tif</td>\n",
       "      <td>/home/ggubu/grid-garage-sample-data-GridGarage_SampleData_v1.0.2/StudyArea_Armidale/netvegkc100m_sml.tif</td>\n",
       "    </tr>\n",
       "    <tr>\n",
       "      <th>3</th>\n",
       "      <td>MCASS_StudyAreaTemplate30m_sml.tif</td>\n",
       "      <td>/home/ggubu/grid-garage-sample-data-GridGarage_SampleData_v1.0.2/StudyArea_Armidale/MCASS_StudyAreaTemplate30m_sml.tif</td>\n",
       "    </tr>\n",
       "    <tr>\n",
       "      <th>4</th>\n",
       "      <td>demfill25m.tif</td>\n",
       "      <td>/home/ggubu/grid-garage-sample-data-GridGarage_SampleData_v1.0.2/StudyArea_Armidale/demfill25m.tif</td>\n",
       "    </tr>\n",
       "    <tr>\n",
       "      <th>5</th>\n",
       "      <td>rain_ann1km.tif</td>\n",
       "      <td>/home/ggubu/grid-garage-sample-data-GridGarage_SampleData_v1.0.2/StudyArea_Armidale/rain_ann1km.tif</td>\n",
       "    </tr>\n",
       "    <tr>\n",
       "      <th>6</th>\n",
       "      <td>sheep_dse1km.tif</td>\n",
       "      <td>/home/ggubu/grid-garage-sample-data-GridGarage_SampleData_v1.0.2/StudyArea_Armidale/sheep_dse1km.tif</td>\n",
       "    </tr>\n",
       "  </tbody>\n",
       "</table>"
      ],
      "text/plain": [
       "<IPython.core.display.HTML object>"
      ]
     },
     "metadata": {},
     "output_type": "display_data"
    }
   ],
   "source": [
    "data_home = gui.ask_open_directory(title='Select a data workspace')\n",
    "print(f\"\\ndata_home = {data_home}\")\n",
    "if data_home:\n",
    "    gd = identify.list_geodata(data_home, rasters=True, vectors=True)\n",
    "    gui.pretty_df(gd['vectors'])\n",
    "    gui.pretty_df(gd['rasters'])"
   ]
  },
  {
   "cell_type": "code",
   "execution_count": 12,
   "metadata": {},
   "outputs": [
    {
     "data": {
      "text/html": [
       "<script type=\"text/Javascript\">var win = window.open(\"\", \"Title\", \"toolbar=no, location=no, directories=no, status=no, menubar=no, scrollbars=yes, resizable=yes, width=780, height=200, top=\"+(screen.height-400)+\", left=\"+(screen.width-840));win.document.body.innerHTML = '<table border=\"1\" class=\"dataframe\">\\  <thead>\\    <tr style=\"text-align: right;\">\\      <th></th>\\      <th>filename</th>\\      <th>fullpath</th>\\    </tr>\\    <tr>\\      <th>vector</th>\\      <th></th>\\      <th></th>\\    </tr>\\  </thead>\\  <tbody>\\    <tr>\\      <th>1</th>\\      <td>Statewide_RiverConditionIndex.shp</td>\\      <td>/home/ggubu/grid-garage-sample-data-GridGarage...</td>\\    </tr>\\    <tr>\\      <th>2</th>\\      <td>Place_Names.shp</td>\\      <td>/home/ggubu/grid-garage-sample-data-GridGarage...</td>\\    </tr>\\    <tr>\\      <th>3</th>\\      <td>mcass_studyareatemplate30m_sml.shp</td>\\      <td>/home/ggubu/grid-garage-sample-data-GridGarage...</td>\\    </tr>\\    <tr>\\      <th>4</th>\\      <td>HydroLine_All_Watercourses.shp</td>\\      <td>/home/ggubu/grid-garage-sample-data-GridGarage...</td>\\    </tr>\\    <tr>\\      <th>5</th>\\      <td>VegBorderRiversGwydir_Comp09_VIS3801.shp</td>\\      <td>/home/ggubu/grid-garage-sample-data-GridGarage...</td>\\    </tr>\\  </tbody>\\</table><style>\\    table { border-collapse: collapse; border: 3px solid #eee; }\\    table tr th:first-child { background-color: #eeeeee; color: #333; font-weight: bold }\\    table thead th { background-color: #eee; color: #000; }\\    tr, th, td { border: 1px solid #ccc; border-width: 1px 0 0 1px; border-collapse: collapse;\\    padding: 3px; font-family: monospace; font-size: 10px }</style>\\    ';</script><style>\n",
       "    table { border-collapse: collapse; border: 3px solid #eee; }\n",
       "    table tr th:first-child { background-color: #eeeeee; color: #333; font-weight: bold }\n",
       "    table thead th { background-color: #eee; color: #000; }\n",
       "    tr, th, td { border: 1px solid #ccc; border-width: 1px 0 0 1px; border-collapse: collapse;\n",
       "    padding: 3px; font-family: monospace; font-size: 10px }</style>\n",
       "    "
      ],
      "text/plain": [
       "<IPython.core.display.HTML object>"
      ]
     },
     "execution_count": 12,
     "metadata": {},
     "output_type": "execute_result"
    }
   ],
   "source": [
    "from IPython.display import HTML\n",
    "def View(df):\n",
    "    css = \"\"\"<style>\n",
    "    table { border-collapse: collapse; border: 3px solid #eee; }\n",
    "    table tr th:first-child { background-color: #eeeeee; color: #333; font-weight: bold }\n",
    "    table thead th { background-color: #eee; color: #000; }\n",
    "    tr, th, td { border: 1px solid #ccc; border-width: 1px 0 0 1px; border-collapse: collapse;\n",
    "    padding: 3px; font-family: monospace; font-size: 10px }</style>\n",
    "    \"\"\"\n",
    "    s  = '<script type=\"text/Javascript\">'\n",
    "    s += 'var win = window.open(\"\", \"Title\", \"toolbar=no, location=no, directories=no, status=no, menubar=no, scrollbars=yes, resizable=yes, width=780, height=200, top=\"+(screen.height-400)+\", left=\"+(screen.width-840));'\n",
    "    s += 'win.document.body.innerHTML = \\'' + (df.to_html() + css).replace(\"\\n\",'\\\\') + '\\';'\n",
    "    s += '</script>'\n",
    "    return(HTML(s+css))\n",
    "\n",
    "View(gd['vectors'])"
   ]
  },
  {
   "cell_type": "code",
   "execution_count": null,
   "metadata": {},
   "outputs": [],
   "source": []
  },
  {
   "cell_type": "markdown",
   "metadata": {},
   "source": [
    "## Save vectors to a csv table"
   ]
  },
  {
   "cell_type": "code",
   "execution_count": 173,
   "metadata": {},
   "outputs": [],
   "source": [
    "f = ask_save_file(defaultextension='.csv')\n",
    "if f:\n",
    "    gd['vectors'].to_csv(f)\n",
    "    print(f)"
   ]
  },
  {
   "cell_type": "markdown",
   "metadata": {},
   "source": [
    "## Save rasters to a csv table"
   ]
  },
  {
   "cell_type": "code",
   "execution_count": 175,
   "metadata": {},
   "outputs": [
    {
     "name": "stdout",
     "output_type": "stream",
     "text": [
      "C:/Users/byed/spatial/spatial_data/dev/ras.csv\n"
     ]
    }
   ],
   "source": [
    "f = ask_save_file(defaultextension='.csv')\n",
    "if f:\n",
    "    gd['rasters'].to_csv(f)\n",
    "    print(f)"
   ]
  },
  {
   "cell_type": "markdown",
   "metadata": {},
   "source": [
    "# Vectors to Rasters"
   ]
  },
  {
   "cell_type": "markdown",
   "metadata": {},
   "source": [
    "## Select a template raster"
   ]
  },
  {
   "cell_type": "code",
   "execution_count": 176,
   "metadata": {
    "scrolled": true
   },
   "outputs": [
    {
     "name": "stdout",
     "output_type": "stream",
     "text": [
      "C:/Users/byed/spatial/spatial_data/grid-garage-sample-data-master/StudyArea_Armidale/MCASS_StudyAreaTemplate30m_sml.tif\n"
     ]
    }
   ],
   "source": [
    "template = ask_file(title='Please select a raster to use as a project template', filetypes=[('GeoTIFF', '*.tif')])\n",
    "print(template)"
   ]
  },
  {
   "cell_type": "markdown",
   "metadata": {},
   "source": [
    "## Select an output folder"
   ]
  },
  {
   "cell_type": "code",
   "execution_count": 180,
   "metadata": {},
   "outputs": [
    {
     "name": "stdout",
     "output_type": "stream",
     "text": [
      "C:/Users/byed/spatial/spatial_data/dev\n"
     ]
    }
   ],
   "source": [
    "out_folder = ask_open_directory(title='Select a folder for raster outputs')\n",
    "print(out_folder)"
   ]
  },
  {
   "cell_type": "markdown",
   "metadata": {},
   "source": [
    "## Map input and output filenames"
   ]
  },
  {
   "cell_type": "code",
   "execution_count": 201,
   "metadata": {},
   "outputs": [
    {
     "data": {
      "text/html": [
       "<table border=\"1\" class=\"dataframe\">\n",
       "  <thead>\n",
       "    <tr style=\"text-align: right;\">\n",
       "      <th></th>\n",
       "      <th>filename</th>\n",
       "      <th>in_vector</th>\n",
       "      <th>out_raster</th>\n",
       "    </tr>\n",
       "  </thead>\n",
       "  <tbody>\n",
       "    <tr>\n",
       "      <th>1</th>\n",
       "      <td>HydroLine_All_Watercourses.shp</td>\n",
       "      <td>C:\\Users\\byed\\spatial\\spatial_data\\grid-garage-sample-data-master\\StudyArea_Armidale\\HydroLine_All_Watercourses.shp</td>\n",
       "      <td>C:/Users/byed/spatial/spatial_data/dev\\HydroLine_All_Watercourses.shp.tif</td>\n",
       "    </tr>\n",
       "    <tr>\n",
       "      <th>2</th>\n",
       "      <td>mcass_studyareatemplate30m_sml.shp</td>\n",
       "      <td>C:\\Users\\byed\\spatial\\spatial_data\\grid-garage-sample-data-master\\StudyArea_Armidale\\mcass_studyareatemplate30m_sml.shp</td>\n",
       "      <td>C:/Users/byed/spatial/spatial_data/dev\\mcass_studyareatemplate30m_sml.shp.tif</td>\n",
       "    </tr>\n",
       "    <tr>\n",
       "      <th>3</th>\n",
       "      <td>Place_Names.shp</td>\n",
       "      <td>C:\\Users\\byed\\spatial\\spatial_data\\grid-garage-sample-data-master\\StudyArea_Armidale\\Place_Names.shp</td>\n",
       "      <td>C:/Users/byed/spatial/spatial_data/dev\\Place_Names.shp.tif</td>\n",
       "    </tr>\n",
       "    <tr>\n",
       "      <th>4</th>\n",
       "      <td>Statewide_RiverConditionIndex.shp</td>\n",
       "      <td>C:\\Users\\byed\\spatial\\spatial_data\\grid-garage-sample-data-master\\StudyArea_Armidale\\Statewide_RiverConditionIndex.shp</td>\n",
       "      <td>C:/Users/byed/spatial/spatial_data/dev\\Statewide_RiverConditionIndex.shp.tif</td>\n",
       "    </tr>\n",
       "    <tr>\n",
       "      <th>5</th>\n",
       "      <td>VegBorderRiversGwydir_Comp09_VIS3801.shp</td>\n",
       "      <td>C:\\Users\\byed\\spatial\\spatial_data\\grid-garage-sample-data-master\\StudyArea_Armidale\\VegBorderRiversGwydir_Comp09_VIS3801.shp</td>\n",
       "      <td>C:/Users/byed/spatial/spatial_data/dev\\VegBorderRiversGwydir_Comp09_VIS3801.shp.tif</td>\n",
       "    </tr>\n",
       "  </tbody>\n",
       "</table>"
      ],
      "text/plain": [
       "<IPython.core.display.HTML object>"
      ]
     },
     "metadata": {},
     "output_type": "display_data"
    }
   ],
   "source": [
    "v = gd['vectors'].copy()\n",
    "v.drop('vector', axis=1, inplace=True)\n",
    "v.rename(columns={'fullpath': 'in_vector'}, inplace=True)\n",
    "v['out_raster'] = v['filename'].apply(lambda x: join(out_folder, f'{x}.tif'))\n",
    "pretty_df(v)"
   ]
  },
  {
   "cell_type": "markdown",
   "metadata": {},
   "source": [
    "## Rasterise the vector shapes"
   ]
  },
  {
   "cell_type": "code",
   "execution_count": 178,
   "metadata": {
    "scrolled": true
   },
   "outputs": [
    {
     "name": "stdout",
     "output_type": "stream",
     "text": [
      "Collecting package metadata: ...working... failed\n"
     ]
    },
    {
     "name": "stderr",
     "output_type": "stream",
     "text": [
      "\n",
      "CondaHTTPError: HTTP 000 CONNECTION FAILED for url <https://repo.anaconda.com/pkgs/msys2/noarch/repodata.json.bz2>\n",
      "Elapsed: -\n",
      "\n",
      "An HTTP error occurred when trying to retrieve this URL.\n",
      "HTTP errors are often intermittent, and a simple retry will get you on your way.\n",
      "\n",
      "If your current network has https://www.anaconda.com blocked, please file\n",
      "a support request with your network engineering team.\n",
      "\n",
      "ConnectionError(MaxRetryError(\"HTTPSConnectionPool(host='repo.anaconda.com', port=443): Max retries exceeded with url: /pkgs/msys2/noarch/repodata.json.bz2 (Caused by NewConnectionError('<urllib3.connection.VerifiedHTTPSConnection object at 0x00000285DC4C2B00>: Failed to establish a new connection: [Errno 11001] getaddrinfo failed',))\",),)\n",
      "\n",
      "\n"
     ]
    }
   ],
   "source": [
    "import sys\n",
    "!conda install --yes --prefix {sys.prefix} geopandas"
   ]
  },
  {
   "cell_type": "code",
   "execution_count": null,
   "metadata": {},
   "outputs": [],
   "source": [
    "import geopandas as gpd\n",
    "import rasterio\n",
    "from rasterio import features\n",
    "\n"
   ]
  }
 ],
 "metadata": {
  "kernelspec": {
   "display_name": "Python 3",
   "language": "python",
   "name": "python3"
  },
  "language_info": {
   "codemirror_mode": {
    "name": "ipython",
    "version": 3
   },
   "file_extension": ".py",
   "mimetype": "text/x-python",
   "name": "python",
   "nbconvert_exporter": "python",
   "pygments_lexer": "ipython3",
   "version": "3.7.3"
  }
 },
 "nbformat": 4,
 "nbformat_minor": 2
}
